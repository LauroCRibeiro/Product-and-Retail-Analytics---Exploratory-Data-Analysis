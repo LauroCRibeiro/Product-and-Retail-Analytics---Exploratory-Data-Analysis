
  {
   "cell_type": "markdown",
   "metadata": {
    "colab_type": "text",
    "id": "kmfo40UFjPtg"
   },
   "source": [
    "#### About out Data\n",
    "- Company - UK-based and registered non-store online retail\n",
    "- Products for selling - Mainly all-occasion gifts\n",
    "- Customers - Most are wholesalers (local or international)\n",
    "- Transactions Period - 1st Dec 2010 - 9th Dec 2011 (One year)"
   ]
  },
  {
   "cell_type": "code",
   "execution_count": 105,
   "metadata": {
    "colab": {},
    "colab_type": "code",
    "id": "Thnzux4hjPti"
   },
   "outputs": [],
   "source": [
    "# Import our modules\n",
    "import pandas as pd \n",
    "import numpy as np\n",
    "import matplotlib.pyplot as plt\n",
    "import seaborn as sns \n",
    "\n",
    "import warnings\n",
    "# current version of seaborn generates a bunch of warnings that we'll ignore\n",
    "warnings.filterwarnings('ignore')\n",
    "sns.set_style('whitegrid')\n",
    "\n",
    "#import missingno as msno # missing data visualization module for Python\n",
    "import pandas_profiling\n",
    "\n",
    "import gc\n",
    "import datetime\n",
    "\n",
    "%matplotlib inline\n",
    "# Using ggplot's style\n",
    "plt.style.use('ggplot')"
   ]
  },
  {
   "cell_type": "code",
   "execution_count": 106,
   "metadata": {
    "colab": {},
    "colab_type": "code",
    "id": "HpsoTxFRjPtn"
   },
   "outputs": [],
   "source": [
    "df = pd.read_csv(\"./data/ecommerce_data.csv\", encoding = 'ISO-8859-1')\n"
   ]
  },
  {
   "cell_type": "code",
   "execution_count": 107,
   "metadata": {
    "colab": {
     "base_uri": "https://localhost:8080/",
     "height": 202
    },
    "colab_type": "code",
    "executionInfo": {
     "elapsed": 455,
     "status": "ok",
     "timestamp": 1576727175280,
     "user": {
      "displayName": "Rajeev Ratan",
      "photoUrl": "https://lh3.googleusercontent.com/a-/AAuE7mCGo6aIm0tOcd5EhqWlYb0rime9sBvHS9YMpx0D2w=s64",
      "userId": "08597265227091462140"
     },
     "user_tz": 240
    },
    "id": "tywBPrULIa7H",
    "outputId": "4b9ed981-b9c7-4cae-8b9c-752520eaf103"
   },
   "outputs": [
    {
     "data": {
      "text/html": [
       "<div>\n",
       "<style scoped>\n",
       "    .dataframe tbody tr th:only-of-type {\n",
       "        vertical-align: middle;\n",
       "    }\n",
       "\n",
       "    .dataframe tbody tr th {\n",
       "        vertical-align: top;\n",
       "    }\n",
       "\n",
       "    .dataframe thead th {\n",
       "        text-align: right;\n",
       "    }\n",
       "</style>\n",
       "<table border=\"1\" class=\"dataframe\">\n",
       "  <thead>\n",
       "    <tr style=\"text-align: right;\">\n",
       "      <th></th>\n",
       "      <th>InvoiceNo</th>\n",
       "      <th>StockCode</th>\n",
       "      <th>Description</th>\n",
       "      <th>Quantity</th>\n",
       "      <th>InvoiceDate</th>\n",
       "      <th>UnitPrice</th>\n",
       "      <th>CustomerID</th>\n",
       "      <th>Country</th>\n",
       "      <th>index_col</th>\n",
       "    </tr>\n",
       "  </thead>\n",
       "  <tbody>\n",
       "    <tr>\n",
       "      <th>0</th>\n",
       "      <td>536365</td>\n",
       "      <td>85123A</td>\n",
       "      <td>WHITE HANGING HEART T-LIGHT HOLDER</td>\n",
       "      <td>6</td>\n",
       "      <td>12/1/2010 8:26</td>\n",
       "      <td>2.55</td>\n",
       "      <td>17850.0</td>\n",
       "      <td>United Kingdom</td>\n",
       "      <td>0</td>\n",
       "    </tr>\n",
       "    <tr>\n",
       "      <th>1</th>\n",
       "      <td>536365</td>\n",
       "      <td>71053</td>\n",
       "      <td>WHITE METAL LANTERN</td>\n",
       "      <td>6</td>\n",
       "      <td>12/1/2010 8:26</td>\n",
       "      <td>3.39</td>\n",
       "      <td>17850.0</td>\n",
       "      <td>United Kingdom</td>\n",
       "      <td>1</td>\n",
       "    </tr>\n",
       "    <tr>\n",
       "      <th>2</th>\n",
       "      <td>536365</td>\n",
       "      <td>84406B</td>\n",
       "      <td>CREAM CUPID HEARTS COAT HANGER</td>\n",
       "      <td>8</td>\n",
       "      <td>12/1/2010 8:26</td>\n",
       "      <td>2.75</td>\n",
       "      <td>17850.0</td>\n",
       "      <td>United Kingdom</td>\n",
       "      <td>2</td>\n",
       "    </tr>\n",
       "    <tr>\n",
       "      <th>3</th>\n",
       "      <td>536365</td>\n",
       "      <td>84029G</td>\n",
       "      <td>KNITTED UNION FLAG HOT WATER BOTTLE</td>\n",
       "      <td>6</td>\n",
       "      <td>12/1/2010 8:26</td>\n",
       "      <td>3.39</td>\n",
       "      <td>17850.0</td>\n",
       "      <td>United Kingdom</td>\n",
       "      <td>3</td>\n",
       "    </tr>\n",
       "    <tr>\n",
       "      <th>4</th>\n",
       "      <td>536365</td>\n",
       "      <td>84029E</td>\n",
       "      <td>RED WOOLLY HOTTIE WHITE HEART.</td>\n",
       "      <td>6</td>\n",
       "      <td>12/1/2010 8:26</td>\n",
       "      <td>3.39</td>\n",
       "      <td>17850.0</td>\n",
       "      <td>United Kingdom</td>\n",
       "      <td>4</td>\n",
       "    </tr>\n",
       "  </tbody>\n",
       "</table>\n",
       "</div>"
      ],
      "text/plain": [
       "  InvoiceNo StockCode                          Description  Quantity  \\\n",
       "0    536365    85123A   WHITE HANGING HEART T-LIGHT HOLDER         6   \n",
       "1    536365     71053                  WHITE METAL LANTERN         6   \n",
       "2    536365    84406B       CREAM CUPID HEARTS COAT HANGER         8   \n",
       "3    536365    84029G  KNITTED UNION FLAG HOT WATER BOTTLE         6   \n",
       "4    536365    84029E       RED WOOLLY HOTTIE WHITE HEART.         6   \n",
       "\n",
       "      InvoiceDate  UnitPrice  CustomerID         Country  index_col  \n",
       "0  12/1/2010 8:26       2.55     17850.0  United Kingdom          0  \n",
       "1  12/1/2010 8:26       3.39     17850.0  United Kingdom          1  \n",
       "2  12/1/2010 8:26       2.75     17850.0  United Kingdom          2  \n",
       "3  12/1/2010 8:26       3.39     17850.0  United Kingdom          3  \n",
       "4  12/1/2010 8:26       3.39     17850.0  United Kingdom          4  "
      ]
     },
     "execution_count": 107,
     "metadata": {},
     "output_type": "execute_result"
    }
   ],
   "source": [
    "\n",
    "df['index_col'] = df.index\n",
    "df.head()"
   ]
  },
  {
   "cell_type": "code",
   "execution_count": 108,
   "metadata": {
    "colab": {
     "base_uri": "https://localhost:8080/",
     "height": 347
    },
    "colab_type": "code",
    "executionInfo": {
     "elapsed": 402,
     "status": "error",
     "timestamp": 1576727167501,
     "user": {
      "displayName": "Rajeev Ratan",
      "photoUrl": "https://lh3.googleusercontent.com/a-/AAuE7mCGo6aIm0tOcd5EhqWlYb0rime9sBvHS9YMpx0D2w=s64",
      "userId": "08597265227091462140"
     },
     "user_tz": 240
    },
    "id": "I_MbBePwIe0c",
    "outputId": "f956ea67-c05e-49ba-b312-9739568f3f49"
   },
   "outputs": [
    {
     "data": {
      "text/html": [
       "<div>\n",
       "<style scoped>\n",
       "    .dataframe tbody tr th:only-of-type {\n",
       "        vertical-align: middle;\n",
       "    }\n",
       "\n",
       "    .dataframe tbody tr th {\n",
       "        vertical-align: top;\n",
       "    }\n",
       "\n",
       "    .dataframe thead th {\n",
       "        text-align: right;\n",
       "    }\n",
       "</style>\n",
       "<table border=\"1\" class=\"dataframe\">\n",
       "  <thead>\n",
       "    <tr style=\"text-align: right;\">\n",
       "      <th></th>\n",
       "      <th>index</th>\n",
       "      <th>InvoiceNo</th>\n",
       "      <th>StockCode</th>\n",
       "      <th>Description</th>\n",
       "      <th>Quantity</th>\n",
       "      <th>InvoiceDate</th>\n",
       "      <th>UnitPrice</th>\n",
       "      <th>CustomerID</th>\n",
       "      <th>Country</th>\n",
       "      <th>index_col</th>\n",
       "      <th>index_remain</th>\n",
       "    </tr>\n",
       "  </thead>\n",
       "  <tbody>\n",
       "    <tr>\n",
       "      <th>0</th>\n",
       "      <td>0</td>\n",
       "      <td>536365</td>\n",
       "      <td>85123A</td>\n",
       "      <td>WHITE HANGING HEART T-LIGHT HOLDER</td>\n",
       "      <td>6</td>\n",
       "      <td>12/1/2010 8:26</td>\n",
       "      <td>2.55</td>\n",
       "      <td>17850.0</td>\n",
       "      <td>United Kingdom</td>\n",
       "      <td>0</td>\n",
       "      <td>0</td>\n",
       "    </tr>\n",
       "    <tr>\n",
       "      <th>1</th>\n",
       "      <td>1</td>\n",
       "      <td>536365</td>\n",
       "      <td>71053</td>\n",
       "      <td>WHITE METAL LANTERN</td>\n",
       "      <td>6</td>\n",
       "      <td>12/1/2010 8:26</td>\n",
       "      <td>3.39</td>\n",
       "      <td>17850.0</td>\n",
       "      <td>United Kingdom</td>\n",
       "      <td>1</td>\n",
       "      <td>1</td>\n",
       "    </tr>\n",
       "    <tr>\n",
       "      <th>2</th>\n",
       "      <td>2</td>\n",
       "      <td>536365</td>\n",
       "      <td>84406B</td>\n",
       "      <td>CREAM CUPID HEARTS COAT HANGER</td>\n",
       "      <td>8</td>\n",
       "      <td>12/1/2010 8:26</td>\n",
       "      <td>2.75</td>\n",
       "      <td>17850.0</td>\n",
       "      <td>United Kingdom</td>\n",
       "      <td>2</td>\n",
       "      <td>0</td>\n",
       "    </tr>\n",
       "    <tr>\n",
       "      <th>3</th>\n",
       "      <td>3</td>\n",
       "      <td>536365</td>\n",
       "      <td>84029G</td>\n",
       "      <td>KNITTED UNION FLAG HOT WATER BOTTLE</td>\n",
       "      <td>6</td>\n",
       "      <td>12/1/2010 8:26</td>\n",
       "      <td>3.39</td>\n",
       "      <td>17850.0</td>\n",
       "      <td>United Kingdom</td>\n",
       "      <td>3</td>\n",
       "      <td>1</td>\n",
       "    </tr>\n",
       "    <tr>\n",
       "      <th>4</th>\n",
       "      <td>4</td>\n",
       "      <td>536365</td>\n",
       "      <td>84029E</td>\n",
       "      <td>RED WOOLLY HOTTIE WHITE HEART.</td>\n",
       "      <td>6</td>\n",
       "      <td>12/1/2010 8:26</td>\n",
       "      <td>3.39</td>\n",
       "      <td>17850.0</td>\n",
       "      <td>United Kingdom</td>\n",
       "      <td>4</td>\n",
       "      <td>0</td>\n",
       "    </tr>\n",
       "  </tbody>\n",
       "</table>\n",
       "</div>"
      ],
      "text/plain": [
       "   index InvoiceNo StockCode                          Description  Quantity  \\\n",
       "0      0    536365    85123A   WHITE HANGING HEART T-LIGHT HOLDER         6   \n",
       "1      1    536365     71053                  WHITE METAL LANTERN         6   \n",
       "2      2    536365    84406B       CREAM CUPID HEARTS COAT HANGER         8   \n",
       "3      3    536365    84029G  KNITTED UNION FLAG HOT WATER BOTTLE         6   \n",
       "4      4    536365    84029E       RED WOOLLY HOTTIE WHITE HEART.         6   \n",
       "\n",
       "      InvoiceDate  UnitPrice  CustomerID         Country  index_col  \\\n",
       "0  12/1/2010 8:26       2.55     17850.0  United Kingdom          0   \n",
       "1  12/1/2010 8:26       3.39     17850.0  United Kingdom          1   \n",
       "2  12/1/2010 8:26       2.75     17850.0  United Kingdom          2   \n",
       "3  12/1/2010 8:26       3.39     17850.0  United Kingdom          3   \n",
       "4  12/1/2010 8:26       3.39     17850.0  United Kingdom          4   \n",
       "\n",
       "   index_remain  \n",
       "0             0  \n",
       "1             1  \n",
       "2             0  \n",
       "3             1  \n",
       "4             0  "
      ]
     },
     "execution_count": 108,
     "metadata": {},
     "output_type": "execute_result"
    }
   ],
   "source": [
    "df = df.reset_index()\n",
    "df['index_remain'] = df['index_col'] % 2\n",
    "df.head()"
   ]
  },
  {
   "cell_type": "code",
   "execution_count": 109,
   "metadata": {
    "colab": {
     "base_uri": "https://localhost:8080/",
     "height": 202
    },
    "colab_type": "code",
    "executionInfo": {
     "elapsed": 426,
     "status": "ok",
     "timestamp": 1576727129175,
     "user": {
      "displayName": "Rajeev Ratan",
      "photoUrl": "https://lh3.googleusercontent.com/a-/AAuE7mCGo6aIm0tOcd5EhqWlYb0rime9sBvHS9YMpx0D2w=s64",
      "userId": "08597265227091462140"
     },
     "user_tz": 240
    },
    "id": "Tp1kE13dIskj",
    "outputId": "4e8ee694-2c39-4433-8559-99c3719b3504"
   },
   "outputs": [
    {
     "data": {
      "text/html": [
       "<div>\n",
       "<style scoped>\n",
       "    .dataframe tbody tr th:only-of-type {\n",
       "        vertical-align: middle;\n",
       "    }\n",
       "\n",
       "    .dataframe tbody tr th {\n",
       "        vertical-align: top;\n",
       "    }\n",
       "\n",
       "    .dataframe thead th {\n",
       "        text-align: right;\n",
       "    }\n",
       "</style>\n",
       "<table border=\"1\" class=\"dataframe\">\n",
       "  <thead>\n",
       "    <tr style=\"text-align: right;\">\n",
       "      <th></th>\n",
       "      <th>index</th>\n",
       "      <th>InvoiceNo</th>\n",
       "      <th>StockCode</th>\n",
       "      <th>Description</th>\n",
       "      <th>Quantity</th>\n",
       "      <th>InvoiceDate</th>\n",
       "      <th>UnitPrice</th>\n",
       "      <th>CustomerID</th>\n",
       "      <th>Country</th>\n",
       "      <th>index_col</th>\n",
       "      <th>index_remain</th>\n",
       "    </tr>\n",
       "  </thead>\n",
       "  <tbody>\n",
       "    <tr>\n",
       "      <th>0</th>\n",
       "      <td>0</td>\n",
       "      <td>536365</td>\n",
       "      <td>85123A</td>\n",
       "      <td>WHITE HANGING HEART T-LIGHT HOLDER</td>\n",
       "      <td>6</td>\n",
       "      <td>12/1/2010 8:26</td>\n",
       "      <td>2.55</td>\n",
       "      <td>17850.0</td>\n",
       "      <td>United Kingdom</td>\n",
       "      <td>0</td>\n",
       "      <td>0</td>\n",
       "    </tr>\n",
       "    <tr>\n",
       "      <th>2</th>\n",
       "      <td>2</td>\n",
       "      <td>536365</td>\n",
       "      <td>84406B</td>\n",
       "      <td>CREAM CUPID HEARTS COAT HANGER</td>\n",
       "      <td>8</td>\n",
       "      <td>12/1/2010 8:26</td>\n",
       "      <td>2.75</td>\n",
       "      <td>17850.0</td>\n",
       "      <td>United Kingdom</td>\n",
       "      <td>2</td>\n",
       "      <td>0</td>\n",
       "    </tr>\n",
       "    <tr>\n",
       "      <th>4</th>\n",
       "      <td>4</td>\n",
       "      <td>536365</td>\n",
       "      <td>84029E</td>\n",
       "      <td>RED WOOLLY HOTTIE WHITE HEART.</td>\n",
       "      <td>6</td>\n",
       "      <td>12/1/2010 8:26</td>\n",
       "      <td>3.39</td>\n",
       "      <td>17850.0</td>\n",
       "      <td>United Kingdom</td>\n",
       "      <td>4</td>\n",
       "      <td>0</td>\n",
       "    </tr>\n",
       "    <tr>\n",
       "      <th>6</th>\n",
       "      <td>6</td>\n",
       "      <td>536365</td>\n",
       "      <td>21730</td>\n",
       "      <td>GLASS STAR FROSTED T-LIGHT HOLDER</td>\n",
       "      <td>6</td>\n",
       "      <td>12/1/2010 8:26</td>\n",
       "      <td>4.25</td>\n",
       "      <td>17850.0</td>\n",
       "      <td>United Kingdom</td>\n",
       "      <td>6</td>\n",
       "      <td>0</td>\n",
       "    </tr>\n",
       "    <tr>\n",
       "      <th>8</th>\n",
       "      <td>8</td>\n",
       "      <td>536366</td>\n",
       "      <td>22632</td>\n",
       "      <td>HAND WARMER RED POLKA DOT</td>\n",
       "      <td>6</td>\n",
       "      <td>12/1/2010 8:28</td>\n",
       "      <td>1.85</td>\n",
       "      <td>17850.0</td>\n",
       "      <td>United Kingdom</td>\n",
       "      <td>8</td>\n",
       "      <td>0</td>\n",
       "    </tr>\n",
       "  </tbody>\n",
       "</table>\n",
       "</div>"
      ],
      "text/plain": [
       "   index InvoiceNo StockCode                         Description  Quantity  \\\n",
       "0      0    536365    85123A  WHITE HANGING HEART T-LIGHT HOLDER         6   \n",
       "2      2    536365    84406B      CREAM CUPID HEARTS COAT HANGER         8   \n",
       "4      4    536365    84029E      RED WOOLLY HOTTIE WHITE HEART.         6   \n",
       "6      6    536365     21730   GLASS STAR FROSTED T-LIGHT HOLDER         6   \n",
       "8      8    536366     22632           HAND WARMER RED POLKA DOT         6   \n",
       "\n",
       "      InvoiceDate  UnitPrice  CustomerID         Country  index_col  \\\n",
       "0  12/1/2010 8:26       2.55     17850.0  United Kingdom          0   \n",
       "2  12/1/2010 8:26       2.75     17850.0  United Kingdom          2   \n",
       "4  12/1/2010 8:26       3.39     17850.0  United Kingdom          4   \n",
       "6  12/1/2010 8:26       4.25     17850.0  United Kingdom          6   \n",
       "8  12/1/2010 8:28       1.85     17850.0  United Kingdom          8   \n",
       "\n",
       "   index_remain  \n",
       "0             0  \n",
       "2             0  \n",
       "4             0  \n",
       "6             0  \n",
       "8             0  "
      ]
     },
     "execution_count": 109,
     "metadata": {},
     "output_type": "execute_result"
    }
   ],
   "source": [
    "df = df[df.index_remain != 1]\n",
    "df.head()"
   ]
  },
  {
   "cell_type": "code",
   "execution_count": 110,
   "metadata": {
    "colab": {},
    "colab_type": "code",
    "id": "lvFvHUwFJlVB"
   },
   "outputs": [],
   "source": [
    "df.to_csv(\"retail_sales.csv\")"
   ]
  },
  {
   "cell_type": "code",
   "execution_count": 111,
   "metadata": {
    "colab": {
     "base_uri": "https://localhost:8080/",
     "height": 815
    },
    "colab_type": "code",
    "executionInfo": {
     "elapsed": 379,
     "status": "ok",
     "timestamp": 1576725010639,
     "user": {
      "displayName": "Rajeev Ratan",
      "photoUrl": "https://lh3.googleusercontent.com/a-/AAuE7mCGo6aIm0tOcd5EhqWlYb0rime9sBvHS9YMpx0D2w=s64",
      "userId": "08597265227091462140"
     },
     "user_tz": 240
    },
    "id": "UlwdRu58jPtq",
    "outputId": "ae845557-5184-41b7-df1f-c3433dc29843"
   },
   "outputs": [
    {
     "data": {
      "text/html": [
       "<div>\n",
       "<style scoped>\n",
       "    .dataframe tbody tr th:only-of-type {\n",
       "        vertical-align: middle;\n",
       "    }\n",
       "\n",
       "    .dataframe tbody tr th {\n",
       "        vertical-align: top;\n",
       "    }\n",
       "\n",
       "    .dataframe thead th {\n",
       "        text-align: right;\n",
       "    }\n",
       "</style>\n",
       "<table border=\"1\" class=\"dataframe\">\n",
       "  <thead>\n",
       "    <tr style=\"text-align: right;\">\n",
       "      <th></th>\n",
       "      <th>index</th>\n",
       "      <th>InvoiceNo</th>\n",
       "      <th>StockCode</th>\n",
       "      <th>Description</th>\n",
       "      <th>Quantity</th>\n",
       "      <th>InvoiceDate</th>\n",
       "      <th>UnitPrice</th>\n",
       "      <th>CustomerID</th>\n",
       "      <th>Country</th>\n",
       "      <th>index_col</th>\n",
       "      <th>index_remain</th>\n",
       "    </tr>\n",
       "  </thead>\n",
       "  <tbody>\n",
       "    <tr>\n",
       "      <th>0</th>\n",
       "      <td>0</td>\n",
       "      <td>536365</td>\n",
       "      <td>85123A</td>\n",
       "      <td>WHITE HANGING HEART T-LIGHT HOLDER</td>\n",
       "      <td>6</td>\n",
       "      <td>12/1/2010 8:26</td>\n",
       "      <td>2.55</td>\n",
       "      <td>17850.0</td>\n",
       "      <td>United Kingdom</td>\n",
       "      <td>0</td>\n",
       "      <td>0</td>\n",
       "    </tr>\n",
       "    <tr>\n",
       "      <th>2</th>\n",
       "      <td>2</td>\n",
       "      <td>536365</td>\n",
       "      <td>84406B</td>\n",
       "      <td>CREAM CUPID HEARTS COAT HANGER</td>\n",
       "      <td>8</td>\n",
       "      <td>12/1/2010 8:26</td>\n",
       "      <td>2.75</td>\n",
       "      <td>17850.0</td>\n",
       "      <td>United Kingdom</td>\n",
       "      <td>2</td>\n",
       "      <td>0</td>\n",
       "    </tr>\n",
       "    <tr>\n",
       "      <th>4</th>\n",
       "      <td>4</td>\n",
       "      <td>536365</td>\n",
       "      <td>84029E</td>\n",
       "      <td>RED WOOLLY HOTTIE WHITE HEART.</td>\n",
       "      <td>6</td>\n",
       "      <td>12/1/2010 8:26</td>\n",
       "      <td>3.39</td>\n",
       "      <td>17850.0</td>\n",
       "      <td>United Kingdom</td>\n",
       "      <td>4</td>\n",
       "      <td>0</td>\n",
       "    </tr>\n",
       "    <tr>\n",
       "      <th>6</th>\n",
       "      <td>6</td>\n",
       "      <td>536365</td>\n",
       "      <td>21730</td>\n",
       "      <td>GLASS STAR FROSTED T-LIGHT HOLDER</td>\n",
       "      <td>6</td>\n",
       "      <td>12/1/2010 8:26</td>\n",
       "      <td>4.25</td>\n",
       "      <td>17850.0</td>\n",
       "      <td>United Kingdom</td>\n",
       "      <td>6</td>\n",
       "      <td>0</td>\n",
       "    </tr>\n",
       "    <tr>\n",
       "      <th>8</th>\n",
       "      <td>8</td>\n",
       "      <td>536366</td>\n",
       "      <td>22632</td>\n",
       "      <td>HAND WARMER RED POLKA DOT</td>\n",
       "      <td>6</td>\n",
       "      <td>12/1/2010 8:28</td>\n",
       "      <td>1.85</td>\n",
       "      <td>17850.0</td>\n",
       "      <td>United Kingdom</td>\n",
       "      <td>8</td>\n",
       "      <td>0</td>\n",
       "    </tr>\n",
       "    <tr>\n",
       "      <th>10</th>\n",
       "      <td>10</td>\n",
       "      <td>536367</td>\n",
       "      <td>22745</td>\n",
       "      <td>POPPY'S PLAYHOUSE BEDROOM</td>\n",
       "      <td>6</td>\n",
       "      <td>12/1/2010 8:34</td>\n",
       "      <td>2.10</td>\n",
       "      <td>13047.0</td>\n",
       "      <td>United Kingdom</td>\n",
       "      <td>10</td>\n",
       "      <td>0</td>\n",
       "    </tr>\n",
       "    <tr>\n",
       "      <th>12</th>\n",
       "      <td>12</td>\n",
       "      <td>536367</td>\n",
       "      <td>22749</td>\n",
       "      <td>FELTCRAFT PRINCESS CHARLOTTE DOLL</td>\n",
       "      <td>8</td>\n",
       "      <td>12/1/2010 8:34</td>\n",
       "      <td>3.75</td>\n",
       "      <td>13047.0</td>\n",
       "      <td>United Kingdom</td>\n",
       "      <td>12</td>\n",
       "      <td>0</td>\n",
       "    </tr>\n",
       "    <tr>\n",
       "      <th>14</th>\n",
       "      <td>14</td>\n",
       "      <td>536367</td>\n",
       "      <td>84969</td>\n",
       "      <td>BOX OF 6 ASSORTED COLOUR TEASPOONS</td>\n",
       "      <td>6</td>\n",
       "      <td>12/1/2010 8:34</td>\n",
       "      <td>4.25</td>\n",
       "      <td>13047.0</td>\n",
       "      <td>United Kingdom</td>\n",
       "      <td>14</td>\n",
       "      <td>0</td>\n",
       "    </tr>\n",
       "    <tr>\n",
       "      <th>16</th>\n",
       "      <td>16</td>\n",
       "      <td>536367</td>\n",
       "      <td>22622</td>\n",
       "      <td>BOX OF VINTAGE ALPHABET BLOCKS</td>\n",
       "      <td>2</td>\n",
       "      <td>12/1/2010 8:34</td>\n",
       "      <td>9.95</td>\n",
       "      <td>13047.0</td>\n",
       "      <td>United Kingdom</td>\n",
       "      <td>16</td>\n",
       "      <td>0</td>\n",
       "    </tr>\n",
       "    <tr>\n",
       "      <th>18</th>\n",
       "      <td>18</td>\n",
       "      <td>536367</td>\n",
       "      <td>21755</td>\n",
       "      <td>LOVE BUILDING BLOCK WORD</td>\n",
       "      <td>3</td>\n",
       "      <td>12/1/2010 8:34</td>\n",
       "      <td>5.95</td>\n",
       "      <td>13047.0</td>\n",
       "      <td>United Kingdom</td>\n",
       "      <td>18</td>\n",
       "      <td>0</td>\n",
       "    </tr>\n",
       "    <tr>\n",
       "      <th>20</th>\n",
       "      <td>20</td>\n",
       "      <td>536367</td>\n",
       "      <td>48187</td>\n",
       "      <td>DOORMAT NEW ENGLAND</td>\n",
       "      <td>4</td>\n",
       "      <td>12/1/2010 8:34</td>\n",
       "      <td>7.95</td>\n",
       "      <td>13047.0</td>\n",
       "      <td>United Kingdom</td>\n",
       "      <td>20</td>\n",
       "      <td>0</td>\n",
       "    </tr>\n",
       "    <tr>\n",
       "      <th>22</th>\n",
       "      <td>22</td>\n",
       "      <td>536368</td>\n",
       "      <td>22913</td>\n",
       "      <td>RED COAT RACK PARIS FASHION</td>\n",
       "      <td>3</td>\n",
       "      <td>12/1/2010 8:34</td>\n",
       "      <td>4.95</td>\n",
       "      <td>13047.0</td>\n",
       "      <td>United Kingdom</td>\n",
       "      <td>22</td>\n",
       "      <td>0</td>\n",
       "    </tr>\n",
       "    <tr>\n",
       "      <th>24</th>\n",
       "      <td>24</td>\n",
       "      <td>536368</td>\n",
       "      <td>22914</td>\n",
       "      <td>BLUE COAT RACK PARIS FASHION</td>\n",
       "      <td>3</td>\n",
       "      <td>12/1/2010 8:34</td>\n",
       "      <td>4.95</td>\n",
       "      <td>13047.0</td>\n",
       "      <td>United Kingdom</td>\n",
       "      <td>24</td>\n",
       "      <td>0</td>\n",
       "    </tr>\n",
       "    <tr>\n",
       "      <th>26</th>\n",
       "      <td>26</td>\n",
       "      <td>536370</td>\n",
       "      <td>22728</td>\n",
       "      <td>ALARM CLOCK BAKELIKE PINK</td>\n",
       "      <td>24</td>\n",
       "      <td>12/1/2010 8:45</td>\n",
       "      <td>3.75</td>\n",
       "      <td>12583.0</td>\n",
       "      <td>France</td>\n",
       "      <td>26</td>\n",
       "      <td>0</td>\n",
       "    </tr>\n",
       "    <tr>\n",
       "      <th>28</th>\n",
       "      <td>28</td>\n",
       "      <td>536370</td>\n",
       "      <td>22726</td>\n",
       "      <td>ALARM CLOCK BAKELIKE GREEN</td>\n",
       "      <td>12</td>\n",
       "      <td>12/1/2010 8:45</td>\n",
       "      <td>3.75</td>\n",
       "      <td>12583.0</td>\n",
       "      <td>France</td>\n",
       "      <td>28</td>\n",
       "      <td>0</td>\n",
       "    </tr>\n",
       "    <tr>\n",
       "      <th>30</th>\n",
       "      <td>30</td>\n",
       "      <td>536370</td>\n",
       "      <td>21883</td>\n",
       "      <td>STARS GIFT TAPE</td>\n",
       "      <td>24</td>\n",
       "      <td>12/1/2010 8:45</td>\n",
       "      <td>0.65</td>\n",
       "      <td>12583.0</td>\n",
       "      <td>France</td>\n",
       "      <td>30</td>\n",
       "      <td>0</td>\n",
       "    </tr>\n",
       "    <tr>\n",
       "      <th>32</th>\n",
       "      <td>32</td>\n",
       "      <td>536370</td>\n",
       "      <td>21791</td>\n",
       "      <td>VINTAGE HEADS AND TAILS CARD GAME</td>\n",
       "      <td>24</td>\n",
       "      <td>12/1/2010 8:45</td>\n",
       "      <td>1.25</td>\n",
       "      <td>12583.0</td>\n",
       "      <td>France</td>\n",
       "      <td>32</td>\n",
       "      <td>0</td>\n",
       "    </tr>\n",
       "    <tr>\n",
       "      <th>34</th>\n",
       "      <td>34</td>\n",
       "      <td>536370</td>\n",
       "      <td>22326</td>\n",
       "      <td>ROUND SNACK BOXES SET OF4 WOODLAND</td>\n",
       "      <td>24</td>\n",
       "      <td>12/1/2010 8:45</td>\n",
       "      <td>2.95</td>\n",
       "      <td>12583.0</td>\n",
       "      <td>France</td>\n",
       "      <td>34</td>\n",
       "      <td>0</td>\n",
       "    </tr>\n",
       "    <tr>\n",
       "      <th>36</th>\n",
       "      <td>36</td>\n",
       "      <td>536370</td>\n",
       "      <td>22659</td>\n",
       "      <td>LUNCH BOX I LOVE LONDON</td>\n",
       "      <td>24</td>\n",
       "      <td>12/1/2010 8:45</td>\n",
       "      <td>1.95</td>\n",
       "      <td>12583.0</td>\n",
       "      <td>France</td>\n",
       "      <td>36</td>\n",
       "      <td>0</td>\n",
       "    </tr>\n",
       "    <tr>\n",
       "      <th>38</th>\n",
       "      <td>38</td>\n",
       "      <td>536370</td>\n",
       "      <td>22661</td>\n",
       "      <td>CHARLOTTE BAG DOLLY GIRL DESIGN</td>\n",
       "      <td>20</td>\n",
       "      <td>12/1/2010 8:45</td>\n",
       "      <td>0.85</td>\n",
       "      <td>12583.0</td>\n",
       "      <td>France</td>\n",
       "      <td>38</td>\n",
       "      <td>0</td>\n",
       "    </tr>\n",
       "    <tr>\n",
       "      <th>40</th>\n",
       "      <td>40</td>\n",
       "      <td>536370</td>\n",
       "      <td>22900</td>\n",
       "      <td>SET 2 TEA TOWELS I LOVE LONDON</td>\n",
       "      <td>24</td>\n",
       "      <td>12/1/2010 8:45</td>\n",
       "      <td>2.95</td>\n",
       "      <td>12583.0</td>\n",
       "      <td>France</td>\n",
       "      <td>40</td>\n",
       "      <td>0</td>\n",
       "    </tr>\n",
       "    <tr>\n",
       "      <th>42</th>\n",
       "      <td>42</td>\n",
       "      <td>536370</td>\n",
       "      <td>22540</td>\n",
       "      <td>MINI JIGSAW CIRCUS PARADE</td>\n",
       "      <td>24</td>\n",
       "      <td>12/1/2010 8:45</td>\n",
       "      <td>0.42</td>\n",
       "      <td>12583.0</td>\n",
       "      <td>France</td>\n",
       "      <td>42</td>\n",
       "      <td>0</td>\n",
       "    </tr>\n",
       "    <tr>\n",
       "      <th>44</th>\n",
       "      <td>44</td>\n",
       "      <td>536370</td>\n",
       "      <td>22492</td>\n",
       "      <td>MINI PAINT SET VINTAGE</td>\n",
       "      <td>36</td>\n",
       "      <td>12/1/2010 8:45</td>\n",
       "      <td>0.65</td>\n",
       "      <td>12583.0</td>\n",
       "      <td>France</td>\n",
       "      <td>44</td>\n",
       "      <td>0</td>\n",
       "    </tr>\n",
       "    <tr>\n",
       "      <th>46</th>\n",
       "      <td>46</td>\n",
       "      <td>536371</td>\n",
       "      <td>22086</td>\n",
       "      <td>PAPER CHAIN KIT 50'S CHRISTMAS</td>\n",
       "      <td>80</td>\n",
       "      <td>12/1/2010 9:00</td>\n",
       "      <td>2.55</td>\n",
       "      <td>13748.0</td>\n",
       "      <td>United Kingdom</td>\n",
       "      <td>46</td>\n",
       "      <td>0</td>\n",
       "    </tr>\n",
       "    <tr>\n",
       "      <th>48</th>\n",
       "      <td>48</td>\n",
       "      <td>536372</td>\n",
       "      <td>22633</td>\n",
       "      <td>HAND WARMER UNION JACK</td>\n",
       "      <td>6</td>\n",
       "      <td>12/1/2010 9:01</td>\n",
       "      <td>1.85</td>\n",
       "      <td>17850.0</td>\n",
       "      <td>United Kingdom</td>\n",
       "      <td>48</td>\n",
       "      <td>0</td>\n",
       "    </tr>\n",
       "  </tbody>\n",
       "</table>\n",
       "</div>"
      ],
      "text/plain": [
       "    index InvoiceNo StockCode                          Description  Quantity  \\\n",
       "0       0    536365    85123A   WHITE HANGING HEART T-LIGHT HOLDER         6   \n",
       "2       2    536365    84406B       CREAM CUPID HEARTS COAT HANGER         8   \n",
       "4       4    536365    84029E       RED WOOLLY HOTTIE WHITE HEART.         6   \n",
       "6       6    536365     21730    GLASS STAR FROSTED T-LIGHT HOLDER         6   \n",
       "8       8    536366     22632            HAND WARMER RED POLKA DOT         6   \n",
       "10     10    536367     22745           POPPY'S PLAYHOUSE BEDROOM          6   \n",
       "12     12    536367     22749    FELTCRAFT PRINCESS CHARLOTTE DOLL         8   \n",
       "14     14    536367     84969   BOX OF 6 ASSORTED COLOUR TEASPOONS         6   \n",
       "16     16    536367     22622       BOX OF VINTAGE ALPHABET BLOCKS         2   \n",
       "18     18    536367     21755             LOVE BUILDING BLOCK WORD         3   \n",
       "20     20    536367     48187                  DOORMAT NEW ENGLAND         4   \n",
       "22     22    536368     22913          RED COAT RACK PARIS FASHION         3   \n",
       "24     24    536368     22914         BLUE COAT RACK PARIS FASHION         3   \n",
       "26     26    536370     22728            ALARM CLOCK BAKELIKE PINK        24   \n",
       "28     28    536370     22726           ALARM CLOCK BAKELIKE GREEN        12   \n",
       "30     30    536370     21883                     STARS GIFT TAPE         24   \n",
       "32     32    536370     21791   VINTAGE HEADS AND TAILS CARD GAME         24   \n",
       "34     34    536370     22326  ROUND SNACK BOXES SET OF4 WOODLAND         24   \n",
       "36     36    536370     22659              LUNCH BOX I LOVE LONDON        24   \n",
       "38     38    536370     22661      CHARLOTTE BAG DOLLY GIRL DESIGN        20   \n",
       "40     40    536370     22900      SET 2 TEA TOWELS I LOVE LONDON         24   \n",
       "42     42    536370     22540           MINI JIGSAW CIRCUS PARADE         24   \n",
       "44     44    536370     22492              MINI PAINT SET VINTAGE         36   \n",
       "46     46    536371     22086      PAPER CHAIN KIT 50'S CHRISTMAS         80   \n",
       "48     48    536372     22633               HAND WARMER UNION JACK         6   \n",
       "\n",
       "       InvoiceDate  UnitPrice  CustomerID         Country  index_col  \\\n",
       "0   12/1/2010 8:26       2.55     17850.0  United Kingdom          0   \n",
       "2   12/1/2010 8:26       2.75     17850.0  United Kingdom          2   \n",
       "4   12/1/2010 8:26       3.39     17850.0  United Kingdom          4   \n",
       "6   12/1/2010 8:26       4.25     17850.0  United Kingdom          6   \n",
       "8   12/1/2010 8:28       1.85     17850.0  United Kingdom          8   \n",
       "10  12/1/2010 8:34       2.10     13047.0  United Kingdom         10   \n",
       "12  12/1/2010 8:34       3.75     13047.0  United Kingdom         12   \n",
       "14  12/1/2010 8:34       4.25     13047.0  United Kingdom         14   \n",
       "16  12/1/2010 8:34       9.95     13047.0  United Kingdom         16   \n",
       "18  12/1/2010 8:34       5.95     13047.0  United Kingdom         18   \n",
       "20  12/1/2010 8:34       7.95     13047.0  United Kingdom         20   \n",
       "22  12/1/2010 8:34       4.95     13047.0  United Kingdom         22   \n",
       "24  12/1/2010 8:34       4.95     13047.0  United Kingdom         24   \n",
       "26  12/1/2010 8:45       3.75     12583.0          France         26   \n",
       "28  12/1/2010 8:45       3.75     12583.0          France         28   \n",
       "30  12/1/2010 8:45       0.65     12583.0          France         30   \n",
       "32  12/1/2010 8:45       1.25     12583.0          France         32   \n",
       "34  12/1/2010 8:45       2.95     12583.0          France         34   \n",
       "36  12/1/2010 8:45       1.95     12583.0          France         36   \n",
       "38  12/1/2010 8:45       0.85     12583.0          France         38   \n",
       "40  12/1/2010 8:45       2.95     12583.0          France         40   \n",
       "42  12/1/2010 8:45       0.42     12583.0          France         42   \n",
       "44  12/1/2010 8:45       0.65     12583.0          France         44   \n",
       "46  12/1/2010 9:00       2.55     13748.0  United Kingdom         46   \n",
       "48  12/1/2010 9:01       1.85     17850.0  United Kingdom         48   \n",
       "\n",
       "    index_remain  \n",
       "0              0  \n",
       "2              0  \n",
       "4              0  \n",
       "6              0  \n",
       "8              0  \n",
       "10             0  \n",
       "12             0  \n",
       "14             0  \n",
       "16             0  \n",
       "18             0  \n",
       "20             0  \n",
       "22             0  \n",
       "24             0  \n",
       "26             0  \n",
       "28             0  \n",
       "30             0  \n",
       "32             0  \n",
       "34             0  \n",
       "36             0  \n",
       "38             0  \n",
       "40             0  \n",
       "42             0  \n",
       "44             0  \n",
       "46             0  \n",
       "48             0  "
      ]
     },
     "execution_count": 111,
     "metadata": {},
     "output_type": "execute_result"
    }
   ],
   "source": [
    "df.head(25)"
   ]
  },
  {
   "cell_type": "code",
   "execution_count": 112,
   "metadata": {
    "colab": {
     "base_uri": "https://localhost:8080/",
     "height": 243
    },
    "colab_type": "code",
    "executionInfo": {
     "elapsed": 466,
     "status": "ok",
     "timestamp": 1574026591708,
     "user": {
      "displayName": "Rajeev Ratan",
      "photoUrl": "https://lh3.googleusercontent.com/a-/AAuE7mCGo6aIm0tOcd5EhqWlYb0rime9sBvHS9YMpx0D2w=s64",
      "userId": "08597265227091462140"
     },
     "user_tz": 0
    },
    "id": "y8FPfPZ9jPtu",
    "outputId": "e1f0cb1f-d3d7-4383-a85f-524e7b42b10f"
   },
   "outputs": [
    {
     "name": "stdout",
     "output_type": "stream",
     "text": [
      "<class 'pandas.core.frame.DataFrame'>\n",
      "Int64Index: 270955 entries, 0 to 541908\n",
      "Data columns (total 11 columns):\n",
      " #   Column        Non-Null Count   Dtype  \n",
      "---  ------        --------------   -----  \n",
      " 0   index         270955 non-null  int64  \n",
      " 1   InvoiceNo     270955 non-null  object \n",
      " 2   StockCode     270955 non-null  object \n",
      " 3   Description   270225 non-null  object \n",
      " 4   Quantity      270955 non-null  int64  \n",
      " 5   InvoiceDate   270955 non-null  object \n",
      " 6   UnitPrice     270955 non-null  float64\n",
      " 7   CustomerID    203452 non-null  float64\n",
      " 8   Country       270955 non-null  object \n",
      " 9   index_col     270955 non-null  int64  \n",
      " 10  index_remain  270955 non-null  int64  \n",
      "dtypes: float64(2), int64(4), object(5)\n",
      "memory usage: 24.8+ MB\n"
     ]
    }
   ],
   "source": [
    "df.info()"
   ]
  },
  {
   "cell_type": "code",
   "execution_count": 113,
   "metadata": {
    "colab": {
     "base_uri": "https://localhost:8080/",
     "height": 173
    },
    "colab_type": "code",
    "executionInfo": {
     "elapsed": 459,
     "status": "ok",
     "timestamp": 1574026630174,
     "user": {
      "displayName": "Rajeev Ratan",
      "photoUrl": "https://lh3.googleusercontent.com/a-/AAuE7mCGo6aIm0tOcd5EhqWlYb0rime9sBvHS9YMpx0D2w=s64",
      "userId": "08597265227091462140"
     },
     "user_tz": 0
    },
    "id": "PInKf6YZjPtx",
    "outputId": "cd6c7255-316e-41e1-cdd4-f4565319bd51"
   },
   "outputs": [
    {
     "data": {
      "text/plain": [
       "CustomerID      67503\n",
       "Description       730\n",
       "index_remain        0\n",
       "index_col           0\n",
       "Country             0\n",
       "UnitPrice           0\n",
       "InvoiceDate         0\n",
       "Quantity            0\n",
       "StockCode           0\n",
       "InvoiceNo           0\n",
       "index               0\n",
       "dtype: int64"
      ]
     },
     "execution_count": 113,
     "metadata": {},
     "output_type": "execute_result"
    }
   ],
   "source": [
    "# check missing values for each column \n",
    "df.isnull().sum().sort_values(ascending=False)"
   ]
  },
  {
   "cell_type": "code",
   "execution_count": 114,
   "metadata": {
    "colab": {
     "base_uri": "https://localhost:8080/",
     "height": 355
    },
    "colab_type": "code",
    "executionInfo": {
     "elapsed": 434,
     "status": "ok",
     "timestamp": 1574026634783,
     "user": {
      "displayName": "Rajeev Ratan",
      "photoUrl": "https://lh3.googleusercontent.com/a-/AAuE7mCGo6aIm0tOcd5EhqWlYb0rime9sBvHS9YMpx0D2w=s64",
      "userId": "08597265227091462140"
     },
     "user_tz": 0
    },
    "id": "1OaSKrRdjPtz",
    "outputId": "51e1b40c-5724-4849-8570-e82be2b3d8bd"
   },
   "outputs": [
    {
     "data": {
      "text/html": [
       "<div>\n",
       "<style scoped>\n",
       "    .dataframe tbody tr th:only-of-type {\n",
       "        vertical-align: middle;\n",
       "    }\n",
       "\n",
       "    .dataframe tbody tr th {\n",
       "        vertical-align: top;\n",
       "    }\n",
       "\n",
       "    .dataframe thead th {\n",
       "        text-align: right;\n",
       "    }\n",
       "</style>\n",
       "<table border=\"1\" class=\"dataframe\">\n",
       "  <thead>\n",
       "    <tr style=\"text-align: right;\">\n",
       "      <th></th>\n",
       "      <th>index</th>\n",
       "      <th>InvoiceNo</th>\n",
       "      <th>StockCode</th>\n",
       "      <th>Description</th>\n",
       "      <th>Quantity</th>\n",
       "      <th>InvoiceDate</th>\n",
       "      <th>UnitPrice</th>\n",
       "      <th>CustomerID</th>\n",
       "      <th>Country</th>\n",
       "      <th>index_col</th>\n",
       "      <th>index_remain</th>\n",
       "    </tr>\n",
       "  </thead>\n",
       "  <tbody>\n",
       "    <tr>\n",
       "      <th>622</th>\n",
       "      <td>622</td>\n",
       "      <td>536414</td>\n",
       "      <td>22139</td>\n",
       "      <td>NaN</td>\n",
       "      <td>56</td>\n",
       "      <td>12/1/2010 11:52</td>\n",
       "      <td>0.00</td>\n",
       "      <td>NaN</td>\n",
       "      <td>United Kingdom</td>\n",
       "      <td>622</td>\n",
       "      <td>0</td>\n",
       "    </tr>\n",
       "    <tr>\n",
       "      <th>1444</th>\n",
       "      <td>1444</td>\n",
       "      <td>536544</td>\n",
       "      <td>21774</td>\n",
       "      <td>DECORATIVE CATS BATHROOM BOTTLE</td>\n",
       "      <td>2</td>\n",
       "      <td>12/1/2010 14:32</td>\n",
       "      <td>2.51</td>\n",
       "      <td>NaN</td>\n",
       "      <td>United Kingdom</td>\n",
       "      <td>1444</td>\n",
       "      <td>0</td>\n",
       "    </tr>\n",
       "    <tr>\n",
       "      <th>1446</th>\n",
       "      <td>1446</td>\n",
       "      <td>536544</td>\n",
       "      <td>21787</td>\n",
       "      <td>RAIN PONCHO RETROSPOT</td>\n",
       "      <td>2</td>\n",
       "      <td>12/1/2010 14:32</td>\n",
       "      <td>1.66</td>\n",
       "      <td>NaN</td>\n",
       "      <td>United Kingdom</td>\n",
       "      <td>1446</td>\n",
       "      <td>0</td>\n",
       "    </tr>\n",
       "    <tr>\n",
       "      <th>1448</th>\n",
       "      <td>1448</td>\n",
       "      <td>536544</td>\n",
       "      <td>21791</td>\n",
       "      <td>VINTAGE HEADS AND TAILS CARD GAME</td>\n",
       "      <td>2</td>\n",
       "      <td>12/1/2010 14:32</td>\n",
       "      <td>2.51</td>\n",
       "      <td>NaN</td>\n",
       "      <td>United Kingdom</td>\n",
       "      <td>1448</td>\n",
       "      <td>0</td>\n",
       "    </tr>\n",
       "    <tr>\n",
       "      <th>1450</th>\n",
       "      <td>1450</td>\n",
       "      <td>536544</td>\n",
       "      <td>21802</td>\n",
       "      <td>CHRISTMAS TREE HEART DECORATION</td>\n",
       "      <td>9</td>\n",
       "      <td>12/1/2010 14:32</td>\n",
       "      <td>0.43</td>\n",
       "      <td>NaN</td>\n",
       "      <td>United Kingdom</td>\n",
       "      <td>1450</td>\n",
       "      <td>0</td>\n",
       "    </tr>\n",
       "    <tr>\n",
       "      <th>1452</th>\n",
       "      <td>1452</td>\n",
       "      <td>536544</td>\n",
       "      <td>21809</td>\n",
       "      <td>CHRISTMAS HANGING TREE WITH BELL</td>\n",
       "      <td>1</td>\n",
       "      <td>12/1/2010 14:32</td>\n",
       "      <td>2.51</td>\n",
       "      <td>NaN</td>\n",
       "      <td>United Kingdom</td>\n",
       "      <td>1452</td>\n",
       "      <td>0</td>\n",
       "    </tr>\n",
       "    <tr>\n",
       "      <th>1454</th>\n",
       "      <td>1454</td>\n",
       "      <td>536544</td>\n",
       "      <td>21811</td>\n",
       "      <td>CHRISTMAS HANGING HEART WITH BELL</td>\n",
       "      <td>1</td>\n",
       "      <td>12/1/2010 14:32</td>\n",
       "      <td>2.51</td>\n",
       "      <td>NaN</td>\n",
       "      <td>United Kingdom</td>\n",
       "      <td>1454</td>\n",
       "      <td>0</td>\n",
       "    </tr>\n",
       "    <tr>\n",
       "      <th>1456</th>\n",
       "      <td>1456</td>\n",
       "      <td>536544</td>\n",
       "      <td>21822</td>\n",
       "      <td>GLITTER CHRISTMAS TREE WITH BELLS</td>\n",
       "      <td>1</td>\n",
       "      <td>12/1/2010 14:32</td>\n",
       "      <td>4.21</td>\n",
       "      <td>NaN</td>\n",
       "      <td>United Kingdom</td>\n",
       "      <td>1456</td>\n",
       "      <td>0</td>\n",
       "    </tr>\n",
       "    <tr>\n",
       "      <th>1458</th>\n",
       "      <td>1458</td>\n",
       "      <td>536544</td>\n",
       "      <td>21844</td>\n",
       "      <td>RED RETROSPOT MUG</td>\n",
       "      <td>2</td>\n",
       "      <td>12/1/2010 14:32</td>\n",
       "      <td>5.91</td>\n",
       "      <td>NaN</td>\n",
       "      <td>United Kingdom</td>\n",
       "      <td>1458</td>\n",
       "      <td>0</td>\n",
       "    </tr>\n",
       "    <tr>\n",
       "      <th>1460</th>\n",
       "      <td>1460</td>\n",
       "      <td>536544</td>\n",
       "      <td>21870</td>\n",
       "      <td>I CAN ONLY PLEASE ONE PERSON MUG</td>\n",
       "      <td>1</td>\n",
       "      <td>12/1/2010 14:32</td>\n",
       "      <td>3.36</td>\n",
       "      <td>NaN</td>\n",
       "      <td>United Kingdom</td>\n",
       "      <td>1460</td>\n",
       "      <td>0</td>\n",
       "    </tr>\n",
       "  </tbody>\n",
       "</table>\n",
       "</div>"
      ],
      "text/plain": [
       "      index InvoiceNo StockCode                         Description  Quantity  \\\n",
       "622     622    536414     22139                                 NaN        56   \n",
       "1444   1444    536544     21774     DECORATIVE CATS BATHROOM BOTTLE         2   \n",
       "1446   1446    536544     21787               RAIN PONCHO RETROSPOT         2   \n",
       "1448   1448    536544     21791  VINTAGE HEADS AND TAILS CARD GAME          2   \n",
       "1450   1450    536544     21802     CHRISTMAS TREE HEART DECORATION         9   \n",
       "1452   1452    536544     21809    CHRISTMAS HANGING TREE WITH BELL         1   \n",
       "1454   1454    536544     21811   CHRISTMAS HANGING HEART WITH BELL         1   \n",
       "1456   1456    536544     21822   GLITTER CHRISTMAS TREE WITH BELLS         1   \n",
       "1458   1458    536544     21844                   RED RETROSPOT MUG         2   \n",
       "1460   1460    536544     21870    I CAN ONLY PLEASE ONE PERSON MUG         1   \n",
       "\n",
       "          InvoiceDate  UnitPrice  CustomerID         Country  index_col  \\\n",
       "622   12/1/2010 11:52       0.00         NaN  United Kingdom        622   \n",
       "1444  12/1/2010 14:32       2.51         NaN  United Kingdom       1444   \n",
       "1446  12/1/2010 14:32       1.66         NaN  United Kingdom       1446   \n",
       "1448  12/1/2010 14:32       2.51         NaN  United Kingdom       1448   \n",
       "1450  12/1/2010 14:32       0.43         NaN  United Kingdom       1450   \n",
       "1452  12/1/2010 14:32       2.51         NaN  United Kingdom       1452   \n",
       "1454  12/1/2010 14:32       2.51         NaN  United Kingdom       1454   \n",
       "1456  12/1/2010 14:32       4.21         NaN  United Kingdom       1456   \n",
       "1458  12/1/2010 14:32       5.91         NaN  United Kingdom       1458   \n",
       "1460  12/1/2010 14:32       3.36         NaN  United Kingdom       1460   \n",
       "\n",
       "      index_remain  \n",
       "622              0  \n",
       "1444             0  \n",
       "1446             0  \n",
       "1448             0  \n",
       "1450             0  \n",
       "1452             0  \n",
       "1454             0  \n",
       "1456             0  \n",
       "1458             0  \n",
       "1460             0  "
      ]
     },
     "execution_count": 114,
     "metadata": {},
     "output_type": "execute_result"
    }
   ],
   "source": [
    "# check out the rows with missing values\n",
    "df[df.isnull().any(axis=1)].head(10)"
   ]
  },
  {
   "cell_type": "code",
   "execution_count": 115,
   "metadata": {
    "colab": {},
    "colab_type": "code",
    "id": "5btAV7fhjPt2"
   },
   "outputs": [],
   "source": [
    "# change the invoice_date format - String to Timestamp format\n",
    "df['InvoiceDate'] = pd.to_datetime(df.InvoiceDate, format='%m/%d/%Y %H:%M')"
   ]
  },
  {
   "cell_type": "code",
   "execution_count": 116,
   "metadata": {
    "colab": {
     "base_uri": "https://localhost:8080/",
     "height": 243
    },
    "colab_type": "code",
    "executionInfo": {
     "elapsed": 524,
     "status": "ok",
     "timestamp": 1574026678255,
     "user": {
      "displayName": "Rajeev Ratan",
      "photoUrl": "https://lh3.googleusercontent.com/a-/AAuE7mCGo6aIm0tOcd5EhqWlYb0rime9sBvHS9YMpx0D2w=s64",
      "userId": "08597265227091462140"
     },
     "user_tz": 0
    },
    "id": "WFCpWG0AjPt4",
    "outputId": "1794c82c-de35-46a3-9adf-02a444f13e2a"
   },
   "outputs": [
    {
     "name": "stdout",
     "output_type": "stream",
     "text": [
      "<class 'pandas.core.frame.DataFrame'>\n",
      "Int64Index: 270955 entries, 0 to 541908\n",
      "Data columns (total 11 columns):\n",
      " #   Column        Non-Null Count   Dtype         \n",
      "---  ------        --------------   -----         \n",
      " 0   index         270955 non-null  int64         \n",
      " 1   InvoiceNo     270955 non-null  object        \n",
      " 2   StockCode     270955 non-null  object        \n",
      " 3   Description   270225 non-null  object        \n",
      " 4   Quantity      270955 non-null  int64         \n",
      " 5   InvoiceDate   270955 non-null  datetime64[ns]\n",
      " 6   UnitPrice     270955 non-null  float64       \n",
      " 7   CustomerID    203452 non-null  float64       \n",
      " 8   Country       270955 non-null  object        \n",
      " 9   index_col     270955 non-null  int64         \n",
      " 10  index_remain  270955 non-null  int64         \n",
      "dtypes: datetime64[ns](1), float64(2), int64(4), object(4)\n",
      "memory usage: 24.8+ MB\n"
     ]
    }
   ],
   "source": [
    "df.info()"
   ]
  },
  {
   "cell_type": "code",
   "execution_count": 117,
   "metadata": {
    "colab": {},
    "colab_type": "code",
    "id": "Y_2kWM92jPt6"
   },
   "outputs": [],
   "source": [
    "# df_new without missing values\n",
    "df_no_missing = df.dropna()"
   ]
  },
  {
   "cell_type": "code",
   "execution_count": 118,
   "metadata": {
    "colab": {
     "base_uri": "https://localhost:8080/",
     "height": 173
    },
    "colab_type": "code",
    "executionInfo": {
     "elapsed": 414,
     "status": "ok",
     "timestamp": 1574026700295,
     "user": {
      "displayName": "Rajeev Ratan",
      "photoUrl": "https://lh3.googleusercontent.com/a-/AAuE7mCGo6aIm0tOcd5EhqWlYb0rime9sBvHS9YMpx0D2w=s64",
      "userId": "08597265227091462140"
     },
     "user_tz": 0
    },
    "id": "3aP3LierjPt9",
    "outputId": "ca10737b-b443-4e84-8bb8-d1ef24fb59f3"
   },
   "outputs": [
    {
     "data": {
      "text/plain": [
       "index_remain    0\n",
       "index_col       0\n",
       "Country         0\n",
       "CustomerID      0\n",
       "UnitPrice       0\n",
       "InvoiceDate     0\n",
       "Quantity        0\n",
       "Description     0\n",
       "StockCode       0\n",
       "InvoiceNo       0\n",
       "index           0\n",
       "dtype: int64"
      ]
     },
     "execution_count": 118,
     "metadata": {},
     "output_type": "execute_result"
    }
   ],
   "source": [
    "# check missing values for each column \n",
    "df_no_missing.isnull().sum().sort_values(ascending=False)"
   ]
  },
  {
   "cell_type": "code",
   "execution_count": 119,
   "metadata": {
    "colab": {},
    "colab_type": "code",
    "id": "mWUhaU81jPt_"
   },
   "outputs": [],
   "source": [
    "# change columns tyoe - String to Int type \n",
    "df_no_missing['CustomerID'] = df_no_missing['CustomerID'].astype('int64')"
   ]
  },
  {
   "cell_type": "code",
   "execution_count": 120,
   "metadata": {
    "colab": {
     "base_uri": "https://localhost:8080/",
     "height": 202
    },
    "colab_type": "code",
    "executionInfo": {
     "elapsed": 388,
     "status": "ok",
     "timestamp": 1574026720893,
     "user": {
      "displayName": "Rajeev Ratan",
      "photoUrl": "https://lh3.googleusercontent.com/a-/AAuE7mCGo6aIm0tOcd5EhqWlYb0rime9sBvHS9YMpx0D2w=s64",
      "userId": "08597265227091462140"
     },
     "user_tz": 0
    },
    "id": "a_waiiAEjPuB",
    "outputId": "609d7a52-4a20-4a74-81a3-8b9c53069d45"
   },
   "outputs": [
    {
     "data": {
      "text/html": [
       "<div>\n",
       "<style scoped>\n",
       "    .dataframe tbody tr th:only-of-type {\n",
       "        vertical-align: middle;\n",
       "    }\n",
       "\n",
       "    .dataframe tbody tr th {\n",
       "        vertical-align: top;\n",
       "    }\n",
       "\n",
       "    .dataframe thead th {\n",
       "        text-align: right;\n",
       "    }\n",
       "</style>\n",
       "<table border=\"1\" class=\"dataframe\">\n",
       "  <thead>\n",
       "    <tr style=\"text-align: right;\">\n",
       "      <th></th>\n",
       "      <th>index</th>\n",
       "      <th>InvoiceNo</th>\n",
       "      <th>StockCode</th>\n",
       "      <th>Description</th>\n",
       "      <th>Quantity</th>\n",
       "      <th>InvoiceDate</th>\n",
       "      <th>UnitPrice</th>\n",
       "      <th>CustomerID</th>\n",
       "      <th>Country</th>\n",
       "      <th>index_col</th>\n",
       "      <th>index_remain</th>\n",
       "    </tr>\n",
       "  </thead>\n",
       "  <tbody>\n",
       "    <tr>\n",
       "      <th>0</th>\n",
       "      <td>0</td>\n",
       "      <td>536365</td>\n",
       "      <td>85123A</td>\n",
       "      <td>WHITE HANGING HEART T-LIGHT HOLDER</td>\n",
       "      <td>6</td>\n",
       "      <td>2010-12-01 08:26:00</td>\n",
       "      <td>2.55</td>\n",
       "      <td>17850</td>\n",
       "      <td>United Kingdom</td>\n",
       "      <td>0</td>\n",
       "      <td>0</td>\n",
       "    </tr>\n",
       "    <tr>\n",
       "      <th>2</th>\n",
       "      <td>2</td>\n",
       "      <td>536365</td>\n",
       "      <td>84406B</td>\n",
       "      <td>CREAM CUPID HEARTS COAT HANGER</td>\n",
       "      <td>8</td>\n",
       "      <td>2010-12-01 08:26:00</td>\n",
       "      <td>2.75</td>\n",
       "      <td>17850</td>\n",
       "      <td>United Kingdom</td>\n",
       "      <td>2</td>\n",
       "      <td>0</td>\n",
       "    </tr>\n",
       "    <tr>\n",
       "      <th>4</th>\n",
       "      <td>4</td>\n",
       "      <td>536365</td>\n",
       "      <td>84029E</td>\n",
       "      <td>RED WOOLLY HOTTIE WHITE HEART.</td>\n",
       "      <td>6</td>\n",
       "      <td>2010-12-01 08:26:00</td>\n",
       "      <td>3.39</td>\n",
       "      <td>17850</td>\n",
       "      <td>United Kingdom</td>\n",
       "      <td>4</td>\n",
       "      <td>0</td>\n",
       "    </tr>\n",
       "    <tr>\n",
       "      <th>6</th>\n",
       "      <td>6</td>\n",
       "      <td>536365</td>\n",
       "      <td>21730</td>\n",
       "      <td>GLASS STAR FROSTED T-LIGHT HOLDER</td>\n",
       "      <td>6</td>\n",
       "      <td>2010-12-01 08:26:00</td>\n",
       "      <td>4.25</td>\n",
       "      <td>17850</td>\n",
       "      <td>United Kingdom</td>\n",
       "      <td>6</td>\n",
       "      <td>0</td>\n",
       "    </tr>\n",
       "    <tr>\n",
       "      <th>8</th>\n",
       "      <td>8</td>\n",
       "      <td>536366</td>\n",
       "      <td>22632</td>\n",
       "      <td>HAND WARMER RED POLKA DOT</td>\n",
       "      <td>6</td>\n",
       "      <td>2010-12-01 08:28:00</td>\n",
       "      <td>1.85</td>\n",
       "      <td>17850</td>\n",
       "      <td>United Kingdom</td>\n",
       "      <td>8</td>\n",
       "      <td>0</td>\n",
       "    </tr>\n",
       "  </tbody>\n",
       "</table>\n",
       "</div>"
      ],
      "text/plain": [
       "   index InvoiceNo StockCode                         Description  Quantity  \\\n",
       "0      0    536365    85123A  WHITE HANGING HEART T-LIGHT HOLDER         6   \n",
       "2      2    536365    84406B      CREAM CUPID HEARTS COAT HANGER         8   \n",
       "4      4    536365    84029E      RED WOOLLY HOTTIE WHITE HEART.         6   \n",
       "6      6    536365     21730   GLASS STAR FROSTED T-LIGHT HOLDER         6   \n",
       "8      8    536366     22632           HAND WARMER RED POLKA DOT         6   \n",
       "\n",
       "          InvoiceDate  UnitPrice  CustomerID         Country  index_col  \\\n",
       "0 2010-12-01 08:26:00       2.55       17850  United Kingdom          0   \n",
       "2 2010-12-01 08:26:00       2.75       17850  United Kingdom          2   \n",
       "4 2010-12-01 08:26:00       3.39       17850  United Kingdom          4   \n",
       "6 2010-12-01 08:26:00       4.25       17850  United Kingdom          6   \n",
       "8 2010-12-01 08:28:00       1.85       17850  United Kingdom          8   \n",
       "\n",
       "   index_remain  \n",
       "0             0  \n",
       "2             0  \n",
       "4             0  \n",
       "6             0  \n",
       "8             0  "
      ]
     },
     "execution_count": 120,
     "metadata": {},
     "output_type": "execute_result"
    }
   ],
   "source": [
    "df_no_missing.head()"
   ]
  },
  {
   "cell_type": "code",
   "execution_count": 121,
   "metadata": {
    "colab": {},
    "colab_type": "code",
    "id": "sCA8YJNyjPuD"
   },
   "outputs": [],
   "source": [
    "# Rename the dataframe to make code more readable\n",
    "df2 = df_no_missing.copy()"
   ]
  },
  {
   "cell_type": "code",
   "execution_count": 122,
   "metadata": {
    "colab": {
     "base_uri": "https://localhost:8080/",
     "height": 294
    },
    "colab_type": "code",
    "executionInfo": {
     "elapsed": 408,
     "status": "ok",
     "timestamp": 1574026740292,
     "user": {
      "displayName": "Rajeev Ratan",
      "photoUrl": "https://lh3.googleusercontent.com/a-/AAuE7mCGo6aIm0tOcd5EhqWlYb0rime9sBvHS9YMpx0D2w=s64",
      "userId": "08597265227091462140"
     },
     "user_tz": 0
    },
    "id": "L5JFTcgEjPuG",
    "outputId": "12594541-d9b1-435c-ab67-06e3a74fc55d"
   },
   "outputs": [
    {
     "data": {
      "text/html": [
       "<div>\n",
       "<style scoped>\n",
       "    .dataframe tbody tr th:only-of-type {\n",
       "        vertical-align: middle;\n",
       "    }\n",
       "\n",
       "    .dataframe tbody tr th {\n",
       "        vertical-align: top;\n",
       "    }\n",
       "\n",
       "    .dataframe thead th {\n",
       "        text-align: right;\n",
       "    }\n",
       "</style>\n",
       "<table border=\"1\" class=\"dataframe\">\n",
       "  <thead>\n",
       "    <tr style=\"text-align: right;\">\n",
       "      <th></th>\n",
       "      <th>index</th>\n",
       "      <th>Quantity</th>\n",
       "      <th>UnitPrice</th>\n",
       "      <th>CustomerID</th>\n",
       "      <th>index_col</th>\n",
       "      <th>index_remain</th>\n",
       "    </tr>\n",
       "  </thead>\n",
       "  <tbody>\n",
       "    <tr>\n",
       "      <th>count</th>\n",
       "      <td>203452.00</td>\n",
       "      <td>203452.00</td>\n",
       "      <td>203452.00</td>\n",
       "      <td>203452.00</td>\n",
       "      <td>203452.00</td>\n",
       "      <td>203452.0</td>\n",
       "    </tr>\n",
       "    <tr>\n",
       "      <th>mean</th>\n",
       "      <td>278049.56</td>\n",
       "      <td>11.36</td>\n",
       "      <td>3.36</td>\n",
       "      <td>15286.63</td>\n",
       "      <td>278049.56</td>\n",
       "      <td>0.0</td>\n",
       "    </tr>\n",
       "    <tr>\n",
       "      <th>std</th>\n",
       "      <td>152746.95</td>\n",
       "      <td>249.00</td>\n",
       "      <td>31.18</td>\n",
       "      <td>1713.72</td>\n",
       "      <td>152746.95</td>\n",
       "      <td>0.0</td>\n",
       "    </tr>\n",
       "    <tr>\n",
       "      <th>min</th>\n",
       "      <td>0.00</td>\n",
       "      <td>-80995.00</td>\n",
       "      <td>0.00</td>\n",
       "      <td>12346.00</td>\n",
       "      <td>0.00</td>\n",
       "      <td>0.0</td>\n",
       "    </tr>\n",
       "    <tr>\n",
       "      <th>25%</th>\n",
       "      <td>147737.50</td>\n",
       "      <td>2.00</td>\n",
       "      <td>1.25</td>\n",
       "      <td>13952.00</td>\n",
       "      <td>147737.50</td>\n",
       "      <td>0.0</td>\n",
       "    </tr>\n",
       "    <tr>\n",
       "      <th>50%</th>\n",
       "      <td>284437.00</td>\n",
       "      <td>5.00</td>\n",
       "      <td>1.95</td>\n",
       "      <td>15150.00</td>\n",
       "      <td>284437.00</td>\n",
       "      <td>0.0</td>\n",
       "    </tr>\n",
       "    <tr>\n",
       "      <th>75%</th>\n",
       "      <td>409536.50</td>\n",
       "      <td>12.00</td>\n",
       "      <td>3.75</td>\n",
       "      <td>16791.00</td>\n",
       "      <td>409536.50</td>\n",
       "      <td>0.0</td>\n",
       "    </tr>\n",
       "    <tr>\n",
       "      <th>max</th>\n",
       "      <td>541908.00</td>\n",
       "      <td>12540.00</td>\n",
       "      <td>8142.75</td>\n",
       "      <td>18287.00</td>\n",
       "      <td>541908.00</td>\n",
       "      <td>0.0</td>\n",
       "    </tr>\n",
       "  </tbody>\n",
       "</table>\n",
       "</div>"
      ],
      "text/plain": [
       "           index   Quantity  UnitPrice  CustomerID  index_col  index_remain\n",
       "count  203452.00  203452.00  203452.00   203452.00  203452.00      203452.0\n",
       "mean   278049.56      11.36       3.36    15286.63  278049.56           0.0\n",
       "std    152746.95     249.00      31.18     1713.72  152746.95           0.0\n",
       "min         0.00  -80995.00       0.00    12346.00       0.00           0.0\n",
       "25%    147737.50       2.00       1.25    13952.00  147737.50           0.0\n",
       "50%    284437.00       5.00       1.95    15150.00  284437.00           0.0\n",
       "75%    409536.50      12.00       3.75    16791.00  409536.50           0.0\n",
       "max    541908.00   12540.00    8142.75    18287.00  541908.00           0.0"
      ]
     },
     "execution_count": 122,
     "metadata": {},
     "output_type": "execute_result"
    }
   ],
   "source": [
    "df2.describe().round(2)"
   ]
  },
  {
   "cell_type": "code",
   "execution_count": 123,
   "metadata": {
    "colab": {
     "base_uri": "https://localhost:8080/",
     "height": 285
    },
    "colab_type": "code",
    "executionInfo": {
     "elapsed": 1827,
     "status": "ok",
     "timestamp": 1574026775272,
     "user": {
      "displayName": "Rajeev Ratan",
      "photoUrl": "https://lh3.googleusercontent.com/a-/AAuE7mCGo6aIm0tOcd5EhqWlYb0rime9sBvHS9YMpx0D2w=s64",
      "userId": "08597265227091462140"
     },
     "user_tz": 0
    },
    "id": "p_BMzLj9jPuI",
    "outputId": "47c51f23-8c45-4a6c-ae89-ae2c58f2b054"
   },
   "outputs": [
    {
     "data": {
      "image/png": "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\n",
      "text/plain": [
       "<Figure size 432x288 with 1 Axes>"
      ]
     },
     "metadata": {},
     "output_type": "display_data"
    }
   ],
   "source": [
    "sns.set(style=\"whitegrid\")\n",
    "ax = sns.violinplot(x=df2[\"Quantity\"])"
   ]
  },
  {
   "cell_type": "code",
   "execution_count": 124,
   "metadata": {
    "colab": {
     "base_uri": "https://localhost:8080/",
     "height": 294
    },
    "colab_type": "code",
    "executionInfo": {
     "elapsed": 444,
     "status": "ok",
     "timestamp": 1574026789085,
     "user": {
      "displayName": "Rajeev Ratan",
      "photoUrl": "https://lh3.googleusercontent.com/a-/AAuE7mCGo6aIm0tOcd5EhqWlYb0rime9sBvHS9YMpx0D2w=s64",
      "userId": "08597265227091462140"
     },
     "user_tz": 0
    },
    "id": "BjIyqT_CjPuL",
    "outputId": "8db83e2d-e983-4827-b6a7-38da9e4857e0"
   },
   "outputs": [
    {
     "data": {
      "text/html": [
       "<div>\n",
       "<style scoped>\n",
       "    .dataframe tbody tr th:only-of-type {\n",
       "        vertical-align: middle;\n",
       "    }\n",
       "\n",
       "    .dataframe tbody tr th {\n",
       "        vertical-align: top;\n",
       "    }\n",
       "\n",
       "    .dataframe thead th {\n",
       "        text-align: right;\n",
       "    }\n",
       "</style>\n",
       "<table border=\"1\" class=\"dataframe\">\n",
       "  <thead>\n",
       "    <tr style=\"text-align: right;\">\n",
       "      <th></th>\n",
       "      <th>index</th>\n",
       "      <th>Quantity</th>\n",
       "      <th>UnitPrice</th>\n",
       "      <th>CustomerID</th>\n",
       "      <th>index_col</th>\n",
       "      <th>index_remain</th>\n",
       "    </tr>\n",
       "  </thead>\n",
       "  <tbody>\n",
       "    <tr>\n",
       "      <th>count</th>\n",
       "      <td>199005.00</td>\n",
       "      <td>199005.00</td>\n",
       "      <td>199005.00</td>\n",
       "      <td>199005.00</td>\n",
       "      <td>199005.00</td>\n",
       "      <td>199005.0</td>\n",
       "    </tr>\n",
       "    <tr>\n",
       "      <th>mean</th>\n",
       "      <td>278507.02</td>\n",
       "      <td>12.67</td>\n",
       "      <td>3.17</td>\n",
       "      <td>15293.33</td>\n",
       "      <td>278507.02</td>\n",
       "      <td>0.0</td>\n",
       "    </tr>\n",
       "    <tr>\n",
       "      <th>std</th>\n",
       "      <td>152767.37</td>\n",
       "      <td>51.22</td>\n",
       "      <td>27.17</td>\n",
       "      <td>1713.05</td>\n",
       "      <td>152767.37</td>\n",
       "      <td>0.0</td>\n",
       "    </tr>\n",
       "    <tr>\n",
       "      <th>min</th>\n",
       "      <td>0.00</td>\n",
       "      <td>1.00</td>\n",
       "      <td>0.00</td>\n",
       "      <td>12347.00</td>\n",
       "      <td>0.00</td>\n",
       "      <td>0.0</td>\n",
       "    </tr>\n",
       "    <tr>\n",
       "      <th>25%</th>\n",
       "      <td>148362.00</td>\n",
       "      <td>2.00</td>\n",
       "      <td>1.25</td>\n",
       "      <td>13969.00</td>\n",
       "      <td>148362.00</td>\n",
       "      <td>0.0</td>\n",
       "    </tr>\n",
       "    <tr>\n",
       "      <th>50%</th>\n",
       "      <td>284956.00</td>\n",
       "      <td>6.00</td>\n",
       "      <td>1.95</td>\n",
       "      <td>15157.00</td>\n",
       "      <td>284956.00</td>\n",
       "      <td>0.0</td>\n",
       "    </tr>\n",
       "    <tr>\n",
       "      <th>75%</th>\n",
       "      <td>410120.00</td>\n",
       "      <td>12.00</td>\n",
       "      <td>3.75</td>\n",
       "      <td>16794.00</td>\n",
       "      <td>410120.00</td>\n",
       "      <td>0.0</td>\n",
       "    </tr>\n",
       "    <tr>\n",
       "      <th>max</th>\n",
       "      <td>541908.00</td>\n",
       "      <td>12540.00</td>\n",
       "      <td>8142.75</td>\n",
       "      <td>18287.00</td>\n",
       "      <td>541908.00</td>\n",
       "      <td>0.0</td>\n",
       "    </tr>\n",
       "  </tbody>\n",
       "</table>\n",
       "</div>"
      ],
      "text/plain": [
       "           index   Quantity  UnitPrice  CustomerID  index_col  index_remain\n",
       "count  199005.00  199005.00  199005.00   199005.00  199005.00      199005.0\n",
       "mean   278507.02      12.67       3.17    15293.33  278507.02           0.0\n",
       "std    152767.37      51.22      27.17     1713.05  152767.37           0.0\n",
       "min         0.00       1.00       0.00    12347.00       0.00           0.0\n",
       "25%    148362.00       2.00       1.25    13969.00  148362.00           0.0\n",
       "50%    284956.00       6.00       1.95    15157.00  284956.00           0.0\n",
       "75%    410120.00      12.00       3.75    16794.00  410120.00           0.0\n",
       "max    541908.00   12540.00    8142.75    18287.00  541908.00           0.0"
      ]
     },
     "execution_count": 124,
     "metadata": {},
     "output_type": "execute_result"
    }
   ],
   "source": [
    "# remove negative quanitites\n",
    "\n",
    "df2 = df2[df2.Quantity > 0]\n",
    "df2.describe().round(2)"
   ]
  },
  {
   "cell_type": "code",
   "execution_count": 125,
   "metadata": {
    "colab": {
     "base_uri": "https://localhost:8080/",
     "height": 285
    },
    "colab_type": "code",
    "executionInfo": {
     "elapsed": 1966,
     "status": "ok",
     "timestamp": 1574026801817,
     "user": {
      "displayName": "Rajeev Ratan",
      "photoUrl": "https://lh3.googleusercontent.com/a-/AAuE7mCGo6aIm0tOcd5EhqWlYb0rime9sBvHS9YMpx0D2w=s64",
      "userId": "08597265227091462140"
     },
     "user_tz": 0
    },
    "id": "4SezkFlmjPuN",
    "outputId": "ae3f5bfe-8b13-4c3a-d4dd-172efa162163"
   },
   "outputs": [
    {
     "data": {
      "image/png": "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\n",
      "text/plain": [
       "<Figure size 432x288 with 1 Axes>"
      ]
     },
     "metadata": {},
     "output_type": "display_data"
    }
   ],
   "source": [
    "ax = sns.violinplot(x=df2[\"Quantity\"])"
   ]
  },
  {
   "cell_type": "code",
   "execution_count": 126,
   "metadata": {
    "colab": {
     "base_uri": "https://localhost:8080/",
     "height": 202
    },
    "colab_type": "code",
    "executionInfo": {
     "elapsed": 426,
     "status": "ok",
     "timestamp": 1574026817333,
     "user": {
      "displayName": "Rajeev Ratan",
      "photoUrl": "https://lh3.googleusercontent.com/a-/AAuE7mCGo6aIm0tOcd5EhqWlYb0rime9sBvHS9YMpx0D2w=s64",
      "userId": "08597265227091462140"
     },
     "user_tz": 0
    },
    "id": "l31Fdml-jPuQ",
    "outputId": "bec65d40-4e64-4f22-81a2-58938b056816"
   },
   "outputs": [
    {
     "data": {
      "text/html": [
       "<div>\n",
       "<style scoped>\n",
       "    .dataframe tbody tr th:only-of-type {\n",
       "        vertical-align: middle;\n",
       "    }\n",
       "\n",
       "    .dataframe tbody tr th {\n",
       "        vertical-align: top;\n",
       "    }\n",
       "\n",
       "    .dataframe thead th {\n",
       "        text-align: right;\n",
       "    }\n",
       "</style>\n",
       "<table border=\"1\" class=\"dataframe\">\n",
       "  <thead>\n",
       "    <tr style=\"text-align: right;\">\n",
       "      <th></th>\n",
       "      <th>index</th>\n",
       "      <th>InvoiceNo</th>\n",
       "      <th>StockCode</th>\n",
       "      <th>Description</th>\n",
       "      <th>Quantity</th>\n",
       "      <th>InvoiceDate</th>\n",
       "      <th>UnitPrice</th>\n",
       "      <th>CustomerID</th>\n",
       "      <th>Country</th>\n",
       "      <th>index_col</th>\n",
       "      <th>index_remain</th>\n",
       "      <th>AmountSpent</th>\n",
       "    </tr>\n",
       "  </thead>\n",
       "  <tbody>\n",
       "    <tr>\n",
       "      <th>0</th>\n",
       "      <td>0</td>\n",
       "      <td>536365</td>\n",
       "      <td>85123A</td>\n",
       "      <td>WHITE HANGING HEART T-LIGHT HOLDER</td>\n",
       "      <td>6</td>\n",
       "      <td>2010-12-01 08:26:00</td>\n",
       "      <td>2.55</td>\n",
       "      <td>17850</td>\n",
       "      <td>United Kingdom</td>\n",
       "      <td>0</td>\n",
       "      <td>0</td>\n",
       "      <td>15.30</td>\n",
       "    </tr>\n",
       "    <tr>\n",
       "      <th>2</th>\n",
       "      <td>2</td>\n",
       "      <td>536365</td>\n",
       "      <td>84406B</td>\n",
       "      <td>CREAM CUPID HEARTS COAT HANGER</td>\n",
       "      <td>8</td>\n",
       "      <td>2010-12-01 08:26:00</td>\n",
       "      <td>2.75</td>\n",
       "      <td>17850</td>\n",
       "      <td>United Kingdom</td>\n",
       "      <td>2</td>\n",
       "      <td>0</td>\n",
       "      <td>22.00</td>\n",
       "    </tr>\n",
       "    <tr>\n",
       "      <th>4</th>\n",
       "      <td>4</td>\n",
       "      <td>536365</td>\n",
       "      <td>84029E</td>\n",
       "      <td>RED WOOLLY HOTTIE WHITE HEART.</td>\n",
       "      <td>6</td>\n",
       "      <td>2010-12-01 08:26:00</td>\n",
       "      <td>3.39</td>\n",
       "      <td>17850</td>\n",
       "      <td>United Kingdom</td>\n",
       "      <td>4</td>\n",
       "      <td>0</td>\n",
       "      <td>20.34</td>\n",
       "    </tr>\n",
       "    <tr>\n",
       "      <th>6</th>\n",
       "      <td>6</td>\n",
       "      <td>536365</td>\n",
       "      <td>21730</td>\n",
       "      <td>GLASS STAR FROSTED T-LIGHT HOLDER</td>\n",
       "      <td>6</td>\n",
       "      <td>2010-12-01 08:26:00</td>\n",
       "      <td>4.25</td>\n",
       "      <td>17850</td>\n",
       "      <td>United Kingdom</td>\n",
       "      <td>6</td>\n",
       "      <td>0</td>\n",
       "      <td>25.50</td>\n",
       "    </tr>\n",
       "    <tr>\n",
       "      <th>8</th>\n",
       "      <td>8</td>\n",
       "      <td>536366</td>\n",
       "      <td>22632</td>\n",
       "      <td>HAND WARMER RED POLKA DOT</td>\n",
       "      <td>6</td>\n",
       "      <td>2010-12-01 08:28:00</td>\n",
       "      <td>1.85</td>\n",
       "      <td>17850</td>\n",
       "      <td>United Kingdom</td>\n",
       "      <td>8</td>\n",
       "      <td>0</td>\n",
       "      <td>11.10</td>\n",
       "    </tr>\n",
       "  </tbody>\n",
       "</table>\n",
       "</div>"
      ],
      "text/plain": [
       "   index InvoiceNo StockCode                         Description  Quantity  \\\n",
       "0      0    536365    85123A  WHITE HANGING HEART T-LIGHT HOLDER         6   \n",
       "2      2    536365    84406B      CREAM CUPID HEARTS COAT HANGER         8   \n",
       "4      4    536365    84029E      RED WOOLLY HOTTIE WHITE HEART.         6   \n",
       "6      6    536365     21730   GLASS STAR FROSTED T-LIGHT HOLDER         6   \n",
       "8      8    536366     22632           HAND WARMER RED POLKA DOT         6   \n",
       "\n",
       "          InvoiceDate  UnitPrice  CustomerID         Country  index_col  \\\n",
       "0 2010-12-01 08:26:00       2.55       17850  United Kingdom          0   \n",
       "2 2010-12-01 08:26:00       2.75       17850  United Kingdom          2   \n",
       "4 2010-12-01 08:26:00       3.39       17850  United Kingdom          4   \n",
       "6 2010-12-01 08:26:00       4.25       17850  United Kingdom          6   \n",
       "8 2010-12-01 08:28:00       1.85       17850  United Kingdom          8   \n",
       "\n",
       "   index_remain  AmountSpent  \n",
       "0             0        15.30  \n",
       "2             0        22.00  \n",
       "4             0        20.34  \n",
       "6             0        25.50  \n",
       "8             0        11.10  "
      ]
     },
     "execution_count": 126,
     "metadata": {},
     "output_type": "execute_result"
    }
   ],
   "source": [
    "df2['AmountSpent'] = df2['Quantity'] * df2['UnitPrice']\n",
    "df2.head()"
   ]
  },
  {
   "cell_type": "code",
   "execution_count": 127,
   "metadata": {
    "colab": {
     "base_uri": "https://localhost:8080/",
     "height": 289
    },
    "colab_type": "code",
    "executionInfo": {
     "elapsed": 631,
     "status": "ok",
     "timestamp": 1574026842556,
     "user": {
      "displayName": "Rajeev Ratan",
      "photoUrl": "https://lh3.googleusercontent.com/a-/AAuE7mCGo6aIm0tOcd5EhqWlYb0rime9sBvHS9YMpx0D2w=s64",
      "userId": "08597265227091462140"
     },
     "user_tz": 0
    },
    "id": "jppmOeR6jPuS",
    "outputId": "6ccbc831-7a66-42e0-f51f-1a635600b982"
   },
   "outputs": [
    {
     "data": {
      "text/html": [
       "<div>\n",
       "<style scoped>\n",
       "    .dataframe tbody tr th:only-of-type {\n",
       "        vertical-align: middle;\n",
       "    }\n",
       "\n",
       "    .dataframe tbody tr th {\n",
       "        vertical-align: top;\n",
       "    }\n",
       "\n",
       "    .dataframe thead th {\n",
       "        text-align: right;\n",
       "    }\n",
       "</style>\n",
       "<table border=\"1\" class=\"dataframe\">\n",
       "  <thead>\n",
       "    <tr style=\"text-align: right;\">\n",
       "      <th></th>\n",
       "      <th>index</th>\n",
       "      <th>InvoiceNo</th>\n",
       "      <th>StockCode</th>\n",
       "      <th>Description</th>\n",
       "      <th>Quantity</th>\n",
       "      <th>InvoiceDate</th>\n",
       "      <th>UnitPrice</th>\n",
       "      <th>CustomerID</th>\n",
       "      <th>Country</th>\n",
       "      <th>index_col</th>\n",
       "      <th>index_remain</th>\n",
       "      <th>AmountSpent</th>\n",
       "      <th>month_year</th>\n",
       "    </tr>\n",
       "  </thead>\n",
       "  <tbody>\n",
       "    <tr>\n",
       "      <th>0</th>\n",
       "      <td>0</td>\n",
       "      <td>536365</td>\n",
       "      <td>85123A</td>\n",
       "      <td>WHITE HANGING HEART T-LIGHT HOLDER</td>\n",
       "      <td>6</td>\n",
       "      <td>2010-12-01 08:26:00</td>\n",
       "      <td>2.55</td>\n",
       "      <td>17850</td>\n",
       "      <td>United Kingdom</td>\n",
       "      <td>0</td>\n",
       "      <td>0</td>\n",
       "      <td>15.30</td>\n",
       "      <td>2010-12</td>\n",
       "    </tr>\n",
       "    <tr>\n",
       "      <th>2</th>\n",
       "      <td>2</td>\n",
       "      <td>536365</td>\n",
       "      <td>84406B</td>\n",
       "      <td>CREAM CUPID HEARTS COAT HANGER</td>\n",
       "      <td>8</td>\n",
       "      <td>2010-12-01 08:26:00</td>\n",
       "      <td>2.75</td>\n",
       "      <td>17850</td>\n",
       "      <td>United Kingdom</td>\n",
       "      <td>2</td>\n",
       "      <td>0</td>\n",
       "      <td>22.00</td>\n",
       "      <td>2010-12</td>\n",
       "    </tr>\n",
       "    <tr>\n",
       "      <th>4</th>\n",
       "      <td>4</td>\n",
       "      <td>536365</td>\n",
       "      <td>84029E</td>\n",
       "      <td>RED WOOLLY HOTTIE WHITE HEART.</td>\n",
       "      <td>6</td>\n",
       "      <td>2010-12-01 08:26:00</td>\n",
       "      <td>3.39</td>\n",
       "      <td>17850</td>\n",
       "      <td>United Kingdom</td>\n",
       "      <td>4</td>\n",
       "      <td>0</td>\n",
       "      <td>20.34</td>\n",
       "      <td>2010-12</td>\n",
       "    </tr>\n",
       "    <tr>\n",
       "      <th>6</th>\n",
       "      <td>6</td>\n",
       "      <td>536365</td>\n",
       "      <td>21730</td>\n",
       "      <td>GLASS STAR FROSTED T-LIGHT HOLDER</td>\n",
       "      <td>6</td>\n",
       "      <td>2010-12-01 08:26:00</td>\n",
       "      <td>4.25</td>\n",
       "      <td>17850</td>\n",
       "      <td>United Kingdom</td>\n",
       "      <td>6</td>\n",
       "      <td>0</td>\n",
       "      <td>25.50</td>\n",
       "      <td>2010-12</td>\n",
       "    </tr>\n",
       "    <tr>\n",
       "      <th>8</th>\n",
       "      <td>8</td>\n",
       "      <td>536366</td>\n",
       "      <td>22632</td>\n",
       "      <td>HAND WARMER RED POLKA DOT</td>\n",
       "      <td>6</td>\n",
       "      <td>2010-12-01 08:28:00</td>\n",
       "      <td>1.85</td>\n",
       "      <td>17850</td>\n",
       "      <td>United Kingdom</td>\n",
       "      <td>8</td>\n",
       "      <td>0</td>\n",
       "      <td>11.10</td>\n",
       "      <td>2010-12</td>\n",
       "    </tr>\n",
       "  </tbody>\n",
       "</table>\n",
       "</div>"
      ],
      "text/plain": [
       "   index InvoiceNo StockCode                         Description  Quantity  \\\n",
       "0      0    536365    85123A  WHITE HANGING HEART T-LIGHT HOLDER         6   \n",
       "2      2    536365    84406B      CREAM CUPID HEARTS COAT HANGER         8   \n",
       "4      4    536365    84029E      RED WOOLLY HOTTIE WHITE HEART.         6   \n",
       "6      6    536365     21730   GLASS STAR FROSTED T-LIGHT HOLDER         6   \n",
       "8      8    536366     22632           HAND WARMER RED POLKA DOT         6   \n",
       "\n",
       "          InvoiceDate  UnitPrice  CustomerID         Country  index_col  \\\n",
       "0 2010-12-01 08:26:00       2.55       17850  United Kingdom          0   \n",
       "2 2010-12-01 08:26:00       2.75       17850  United Kingdom          2   \n",
       "4 2010-12-01 08:26:00       3.39       17850  United Kingdom          4   \n",
       "6 2010-12-01 08:26:00       4.25       17850  United Kingdom          6   \n",
       "8 2010-12-01 08:28:00       1.85       17850  United Kingdom          8   \n",
       "\n",
       "   index_remain  AmountSpent month_year  \n",
       "0             0        15.30    2010-12  \n",
       "2             0        22.00    2010-12  \n",
       "4             0        20.34    2010-12  \n",
       "6             0        25.50    2010-12  \n",
       "8             0        11.10    2010-12  "
      ]
     },
     "execution_count": 127,
     "metadata": {},
     "output_type": "execute_result"
    }
   ],
   "source": [
    "# Let's add Month, Day and Hour Colummns that we'll use for further analysis\n",
    "# Starting with Month_Year First\n",
    "df2['month_year'] = df2['InvoiceDate'].dt.to_period('M')\n",
    "df2.head()"
   ]
  },
  {
   "cell_type": "code",
   "execution_count": 128,
   "metadata": {
    "colab": {
     "base_uri": "https://localhost:8080/",
     "height": 499
    },
    "colab_type": "code",
    "executionInfo": {
     "elapsed": 821,
     "status": "ok",
     "timestamp": 1574026874748,
     "user": {
      "displayName": "Rajeev Ratan",
      "photoUrl": "https://lh3.googleusercontent.com/a-/AAuE7mCGo6aIm0tOcd5EhqWlYb0rime9sBvHS9YMpx0D2w=s64",
      "userId": "08597265227091462140"
     },
     "user_tz": 0
    },
    "id": "XPWmEckvjPuU",
    "outputId": "8082110e-25f1-40f2-b1c3-eb99f59d0dd9"
   },
   "outputs": [
    {
     "data": {
      "text/html": [
       "<div>\n",
       "<style scoped>\n",
       "    .dataframe tbody tr th:only-of-type {\n",
       "        vertical-align: middle;\n",
       "    }\n",
       "\n",
       "    .dataframe tbody tr th {\n",
       "        vertical-align: top;\n",
       "    }\n",
       "\n",
       "    .dataframe thead th {\n",
       "        text-align: right;\n",
       "    }\n",
       "</style>\n",
       "<table border=\"1\" class=\"dataframe\">\n",
       "  <thead>\n",
       "    <tr style=\"text-align: right;\">\n",
       "      <th></th>\n",
       "      <th>index</th>\n",
       "      <th>InvoiceNo</th>\n",
       "      <th>StockCode</th>\n",
       "      <th>Description</th>\n",
       "      <th>Quantity</th>\n",
       "      <th>InvoiceDate</th>\n",
       "      <th>UnitPrice</th>\n",
       "      <th>CustomerID</th>\n",
       "      <th>Country</th>\n",
       "      <th>index_col</th>\n",
       "      <th>index_remain</th>\n",
       "      <th>AmountSpent</th>\n",
       "      <th>month_year</th>\n",
       "      <th>year</th>\n",
       "      <th>month</th>\n",
       "      <th>day</th>\n",
       "      <th>dayofweek</th>\n",
       "      <th>dayofyear</th>\n",
       "      <th>weekofyear</th>\n",
       "      <th>quarter</th>\n",
       "    </tr>\n",
       "  </thead>\n",
       "  <tbody>\n",
       "    <tr>\n",
       "      <th>0</th>\n",
       "      <td>0</td>\n",
       "      <td>536365</td>\n",
       "      <td>85123A</td>\n",
       "      <td>WHITE HANGING HEART T-LIGHT HOLDER</td>\n",
       "      <td>6</td>\n",
       "      <td>2010-12-01 08:26:00</td>\n",
       "      <td>2.55</td>\n",
       "      <td>17850</td>\n",
       "      <td>United Kingdom</td>\n",
       "      <td>0</td>\n",
       "      <td>0</td>\n",
       "      <td>15.30</td>\n",
       "      <td>2010-12</td>\n",
       "      <td>2010</td>\n",
       "      <td>12</td>\n",
       "      <td>1</td>\n",
       "      <td>2</td>\n",
       "      <td>335</td>\n",
       "      <td>48</td>\n",
       "      <td>4</td>\n",
       "    </tr>\n",
       "    <tr>\n",
       "      <th>2</th>\n",
       "      <td>2</td>\n",
       "      <td>536365</td>\n",
       "      <td>84406B</td>\n",
       "      <td>CREAM CUPID HEARTS COAT HANGER</td>\n",
       "      <td>8</td>\n",
       "      <td>2010-12-01 08:26:00</td>\n",
       "      <td>2.75</td>\n",
       "      <td>17850</td>\n",
       "      <td>United Kingdom</td>\n",
       "      <td>2</td>\n",
       "      <td>0</td>\n",
       "      <td>22.00</td>\n",
       "      <td>2010-12</td>\n",
       "      <td>2010</td>\n",
       "      <td>12</td>\n",
       "      <td>1</td>\n",
       "      <td>2</td>\n",
       "      <td>335</td>\n",
       "      <td>48</td>\n",
       "      <td>4</td>\n",
       "    </tr>\n",
       "    <tr>\n",
       "      <th>4</th>\n",
       "      <td>4</td>\n",
       "      <td>536365</td>\n",
       "      <td>84029E</td>\n",
       "      <td>RED WOOLLY HOTTIE WHITE HEART.</td>\n",
       "      <td>6</td>\n",
       "      <td>2010-12-01 08:26:00</td>\n",
       "      <td>3.39</td>\n",
       "      <td>17850</td>\n",
       "      <td>United Kingdom</td>\n",
       "      <td>4</td>\n",
       "      <td>0</td>\n",
       "      <td>20.34</td>\n",
       "      <td>2010-12</td>\n",
       "      <td>2010</td>\n",
       "      <td>12</td>\n",
       "      <td>1</td>\n",
       "      <td>2</td>\n",
       "      <td>335</td>\n",
       "      <td>48</td>\n",
       "      <td>4</td>\n",
       "    </tr>\n",
       "    <tr>\n",
       "      <th>6</th>\n",
       "      <td>6</td>\n",
       "      <td>536365</td>\n",
       "      <td>21730</td>\n",
       "      <td>GLASS STAR FROSTED T-LIGHT HOLDER</td>\n",
       "      <td>6</td>\n",
       "      <td>2010-12-01 08:26:00</td>\n",
       "      <td>4.25</td>\n",
       "      <td>17850</td>\n",
       "      <td>United Kingdom</td>\n",
       "      <td>6</td>\n",
       "      <td>0</td>\n",
       "      <td>25.50</td>\n",
       "      <td>2010-12</td>\n",
       "      <td>2010</td>\n",
       "      <td>12</td>\n",
       "      <td>1</td>\n",
       "      <td>2</td>\n",
       "      <td>335</td>\n",
       "      <td>48</td>\n",
       "      <td>4</td>\n",
       "    </tr>\n",
       "    <tr>\n",
       "      <th>8</th>\n",
       "      <td>8</td>\n",
       "      <td>536366</td>\n",
       "      <td>22632</td>\n",
       "      <td>HAND WARMER RED POLKA DOT</td>\n",
       "      <td>6</td>\n",
       "      <td>2010-12-01 08:28:00</td>\n",
       "      <td>1.85</td>\n",
       "      <td>17850</td>\n",
       "      <td>United Kingdom</td>\n",
       "      <td>8</td>\n",
       "      <td>0</td>\n",
       "      <td>11.10</td>\n",
       "      <td>2010-12</td>\n",
       "      <td>2010</td>\n",
       "      <td>12</td>\n",
       "      <td>1</td>\n",
       "      <td>2</td>\n",
       "      <td>335</td>\n",
       "      <td>48</td>\n",
       "      <td>4</td>\n",
       "    </tr>\n",
       "  </tbody>\n",
       "</table>\n",
       "</div>"
      ],
      "text/plain": [
       "   index InvoiceNo StockCode                         Description  Quantity  \\\n",
       "0      0    536365    85123A  WHITE HANGING HEART T-LIGHT HOLDER         6   \n",
       "2      2    536365    84406B      CREAM CUPID HEARTS COAT HANGER         8   \n",
       "4      4    536365    84029E      RED WOOLLY HOTTIE WHITE HEART.         6   \n",
       "6      6    536365     21730   GLASS STAR FROSTED T-LIGHT HOLDER         6   \n",
       "8      8    536366     22632           HAND WARMER RED POLKA DOT         6   \n",
       "\n",
       "          InvoiceDate  UnitPrice  CustomerID         Country  index_col  \\\n",
       "0 2010-12-01 08:26:00       2.55       17850  United Kingdom          0   \n",
       "2 2010-12-01 08:26:00       2.75       17850  United Kingdom          2   \n",
       "4 2010-12-01 08:26:00       3.39       17850  United Kingdom          4   \n",
       "6 2010-12-01 08:26:00       4.25       17850  United Kingdom          6   \n",
       "8 2010-12-01 08:28:00       1.85       17850  United Kingdom          8   \n",
       "\n",
       "   index_remain  AmountSpent month_year  year  month  day  dayofweek  \\\n",
       "0             0        15.30    2010-12  2010     12    1          2   \n",
       "2             0        22.00    2010-12  2010     12    1          2   \n",
       "4             0        20.34    2010-12  2010     12    1          2   \n",
       "6             0        25.50    2010-12  2010     12    1          2   \n",
       "8             0        11.10    2010-12  2010     12    1          2   \n",
       "\n",
       "   dayofyear  weekofyear  quarter  \n",
       "0        335          48        4  \n",
       "2        335          48        4  \n",
       "4        335          48        4  \n",
       "6        335          48        4  \n",
       "8        335          48        4  "
      ]
     },
     "execution_count": 128,
     "metadata": {},
     "output_type": "execute_result"
    }
   ],
   "source": [
    "L = ['year', 'month', 'day', 'dayofweek', 'dayofyear', 'weekofyear', 'quarter']\n",
    "df2 = df2.join(pd.concat((getattr(df2['InvoiceDate'].dt, i).rename(i) for i in L), axis=1))\n",
    "df2.head()"
   ]
  },
  {
   "cell_type": "code",
   "execution_count": 129,
   "metadata": {
    "colab": {
     "base_uri": "https://localhost:8080/",
     "height": 35
    },
    "colab_type": "code",
    "executionInfo": {
     "elapsed": 865,
     "status": "ok",
     "timestamp": 1574026955228,
     "user": {
      "displayName": "Rajeev Ratan",
      "photoUrl": "https://lh3.googleusercontent.com/a-/AAuE7mCGo6aIm0tOcd5EhqWlYb0rime9sBvHS9YMpx0D2w=s64",
      "userId": "08597265227091462140"
     },
     "user_tz": 0
    },
    "id": "X7fpBStljPuY",
    "outputId": "4212ed8f-8417-4483-ce81-aa81163692dd"
   },
   "outputs": [
    {
     "data": {
      "text/plain": [
       "array([2, 3, 4, 6, 0, 1], dtype=int64)"
      ]
     },
     "execution_count": 129,
     "metadata": {},
     "output_type": "execute_result"
    }
   ],
   "source": [
    "df2.dayofweek.unique()"
   ]
  },
  {
   "cell_type": "code",
   "execution_count": 130,
   "metadata": {
    "colab": {
     "base_uri": "https://localhost:8080/",
     "height": 399
    },
    "colab_type": "code",
    "executionInfo": {
     "elapsed": 854,
     "status": "ok",
     "timestamp": 1574026963244,
     "user": {
      "displayName": "Rajeev Ratan",
      "photoUrl": "https://lh3.googleusercontent.com/a-/AAuE7mCGo6aIm0tOcd5EhqWlYb0rime9sBvHS9YMpx0D2w=s64",
      "userId": "08597265227091462140"
     },
     "user_tz": 0
    },
    "id": "N_rdGz80jPub",
    "outputId": "016f1bce-57cc-422f-cb22-63cb105ae604"
   },
   "outputs": [
    {
     "name": "stdout",
     "output_type": "stream",
     "text": [
      "<class 'pandas.core.frame.DataFrame'>\n",
      "Int64Index: 199005 entries, 0 to 541908\n",
      "Data columns (total 20 columns):\n",
      " #   Column        Non-Null Count   Dtype         \n",
      "---  ------        --------------   -----         \n",
      " 0   index         199005 non-null  int64         \n",
      " 1   InvoiceNo     199005 non-null  object        \n",
      " 2   StockCode     199005 non-null  object        \n",
      " 3   Description   199005 non-null  object        \n",
      " 4   Quantity      199005 non-null  int64         \n",
      " 5   InvoiceDate   199005 non-null  datetime64[ns]\n",
      " 6   UnitPrice     199005 non-null  float64       \n",
      " 7   CustomerID    199005 non-null  int64         \n",
      " 8   Country       199005 non-null  object        \n",
      " 9   index_col     199005 non-null  int64         \n",
      " 10  index_remain  199005 non-null  int64         \n",
      " 11  AmountSpent   199005 non-null  float64       \n",
      " 12  month_year    199005 non-null  period[M]     \n",
      " 13  year          199005 non-null  int64         \n",
      " 14  month         199005 non-null  int64         \n",
      " 15  day           199005 non-null  int64         \n",
      " 16  dayofweek     199005 non-null  int64         \n",
      " 17  dayofyear     199005 non-null  int64         \n",
      " 18  weekofyear    199005 non-null  int64         \n",
      " 19  quarter       199005 non-null  int64         \n",
      "dtypes: datetime64[ns](1), float64(2), int64(12), object(4), period[M](1)\n",
      "memory usage: 36.9+ MB\n"
     ]
    }
   ],
   "source": [
    "df2.info()"
   ]
  },
  {
   "cell_type": "code",
   "execution_count": 131,
   "metadata": {
    "colab": {
     "base_uri": "https://localhost:8080/",
     "height": 499
    },
    "colab_type": "code",
    "executionInfo": {
     "elapsed": 421,
     "status": "ok",
     "timestamp": 1574026971868,
     "user": {
      "displayName": "Rajeev Ratan",
      "photoUrl": "https://lh3.googleusercontent.com/a-/AAuE7mCGo6aIm0tOcd5EhqWlYb0rime9sBvHS9YMpx0D2w=s64",
      "userId": "08597265227091462140"
     },
     "user_tz": 0
    },
    "id": "-CqhdQTcjPud",
    "outputId": "1e7e0fd2-db8a-4bcf-9e02-df5e5d864e0f"
   },
   "outputs": [
    {
     "data": {
      "text/html": [
       "<div>\n",
       "<style scoped>\n",
       "    .dataframe tbody tr th:only-of-type {\n",
       "        vertical-align: middle;\n",
       "    }\n",
       "\n",
       "    .dataframe tbody tr th {\n",
       "        vertical-align: top;\n",
       "    }\n",
       "\n",
       "    .dataframe thead th {\n",
       "        text-align: right;\n",
       "    }\n",
       "</style>\n",
       "<table border=\"1\" class=\"dataframe\">\n",
       "  <thead>\n",
       "    <tr style=\"text-align: right;\">\n",
       "      <th></th>\n",
       "      <th>index</th>\n",
       "      <th>InvoiceNo</th>\n",
       "      <th>StockCode</th>\n",
       "      <th>Description</th>\n",
       "      <th>Quantity</th>\n",
       "      <th>InvoiceDate</th>\n",
       "      <th>UnitPrice</th>\n",
       "      <th>CustomerID</th>\n",
       "      <th>Country</th>\n",
       "      <th>index_col</th>\n",
       "      <th>index_remain</th>\n",
       "      <th>AmountSpent</th>\n",
       "      <th>month_year</th>\n",
       "      <th>year</th>\n",
       "      <th>month</th>\n",
       "      <th>day</th>\n",
       "      <th>dayofweek</th>\n",
       "      <th>dayofyear</th>\n",
       "      <th>weekofyear</th>\n",
       "      <th>quarter</th>\n",
       "    </tr>\n",
       "  </thead>\n",
       "  <tbody>\n",
       "    <tr>\n",
       "      <th>0</th>\n",
       "      <td>0</td>\n",
       "      <td>536365</td>\n",
       "      <td>85123A</td>\n",
       "      <td>WHITE HANGING HEART T-LIGHT HOLDER</td>\n",
       "      <td>6</td>\n",
       "      <td>2010-12-01 08:26:00</td>\n",
       "      <td>2.55</td>\n",
       "      <td>17850</td>\n",
       "      <td>United Kingdom</td>\n",
       "      <td>0</td>\n",
       "      <td>0</td>\n",
       "      <td>15.30</td>\n",
       "      <td>2010-12</td>\n",
       "      <td>2010</td>\n",
       "      <td>12</td>\n",
       "      <td>1</td>\n",
       "      <td>3</td>\n",
       "      <td>335</td>\n",
       "      <td>48</td>\n",
       "      <td>4</td>\n",
       "    </tr>\n",
       "    <tr>\n",
       "      <th>2</th>\n",
       "      <td>2</td>\n",
       "      <td>536365</td>\n",
       "      <td>84406B</td>\n",
       "      <td>CREAM CUPID HEARTS COAT HANGER</td>\n",
       "      <td>8</td>\n",
       "      <td>2010-12-01 08:26:00</td>\n",
       "      <td>2.75</td>\n",
       "      <td>17850</td>\n",
       "      <td>United Kingdom</td>\n",
       "      <td>2</td>\n",
       "      <td>0</td>\n",
       "      <td>22.00</td>\n",
       "      <td>2010-12</td>\n",
       "      <td>2010</td>\n",
       "      <td>12</td>\n",
       "      <td>1</td>\n",
       "      <td>3</td>\n",
       "      <td>335</td>\n",
       "      <td>48</td>\n",
       "      <td>4</td>\n",
       "    </tr>\n",
       "    <tr>\n",
       "      <th>4</th>\n",
       "      <td>4</td>\n",
       "      <td>536365</td>\n",
       "      <td>84029E</td>\n",
       "      <td>RED WOOLLY HOTTIE WHITE HEART.</td>\n",
       "      <td>6</td>\n",
       "      <td>2010-12-01 08:26:00</td>\n",
       "      <td>3.39</td>\n",
       "      <td>17850</td>\n",
       "      <td>United Kingdom</td>\n",
       "      <td>4</td>\n",
       "      <td>0</td>\n",
       "      <td>20.34</td>\n",
       "      <td>2010-12</td>\n",
       "      <td>2010</td>\n",
       "      <td>12</td>\n",
       "      <td>1</td>\n",
       "      <td>3</td>\n",
       "      <td>335</td>\n",
       "      <td>48</td>\n",
       "      <td>4</td>\n",
       "    </tr>\n",
       "    <tr>\n",
       "      <th>6</th>\n",
       "      <td>6</td>\n",
       "      <td>536365</td>\n",
       "      <td>21730</td>\n",
       "      <td>GLASS STAR FROSTED T-LIGHT HOLDER</td>\n",
       "      <td>6</td>\n",
       "      <td>2010-12-01 08:26:00</td>\n",
       "      <td>4.25</td>\n",
       "      <td>17850</td>\n",
       "      <td>United Kingdom</td>\n",
       "      <td>6</td>\n",
       "      <td>0</td>\n",
       "      <td>25.50</td>\n",
       "      <td>2010-12</td>\n",
       "      <td>2010</td>\n",
       "      <td>12</td>\n",
       "      <td>1</td>\n",
       "      <td>3</td>\n",
       "      <td>335</td>\n",
       "      <td>48</td>\n",
       "      <td>4</td>\n",
       "    </tr>\n",
       "    <tr>\n",
       "      <th>8</th>\n",
       "      <td>8</td>\n",
       "      <td>536366</td>\n",
       "      <td>22632</td>\n",
       "      <td>HAND WARMER RED POLKA DOT</td>\n",
       "      <td>6</td>\n",
       "      <td>2010-12-01 08:28:00</td>\n",
       "      <td>1.85</td>\n",
       "      <td>17850</td>\n",
       "      <td>United Kingdom</td>\n",
       "      <td>8</td>\n",
       "      <td>0</td>\n",
       "      <td>11.10</td>\n",
       "      <td>2010-12</td>\n",
       "      <td>2010</td>\n",
       "      <td>12</td>\n",
       "      <td>1</td>\n",
       "      <td>3</td>\n",
       "      <td>335</td>\n",
       "      <td>48</td>\n",
       "      <td>4</td>\n",
       "    </tr>\n",
       "  </tbody>\n",
       "</table>\n",
       "</div>"
      ],
      "text/plain": [
       "   index InvoiceNo StockCode                         Description  Quantity  \\\n",
       "0      0    536365    85123A  WHITE HANGING HEART T-LIGHT HOLDER         6   \n",
       "2      2    536365    84406B      CREAM CUPID HEARTS COAT HANGER         8   \n",
       "4      4    536365    84029E      RED WOOLLY HOTTIE WHITE HEART.         6   \n",
       "6      6    536365     21730   GLASS STAR FROSTED T-LIGHT HOLDER         6   \n",
       "8      8    536366     22632           HAND WARMER RED POLKA DOT         6   \n",
       "\n",
       "          InvoiceDate  UnitPrice  CustomerID         Country  index_col  \\\n",
       "0 2010-12-01 08:26:00       2.55       17850  United Kingdom          0   \n",
       "2 2010-12-01 08:26:00       2.75       17850  United Kingdom          2   \n",
       "4 2010-12-01 08:26:00       3.39       17850  United Kingdom          4   \n",
       "6 2010-12-01 08:26:00       4.25       17850  United Kingdom          6   \n",
       "8 2010-12-01 08:28:00       1.85       17850  United Kingdom          8   \n",
       "\n",
       "   index_remain  AmountSpent month_year  year  month  day  dayofweek  \\\n",
       "0             0        15.30    2010-12  2010     12    1          3   \n",
       "2             0        22.00    2010-12  2010     12    1          3   \n",
       "4             0        20.34    2010-12  2010     12    1          3   \n",
       "6             0        25.50    2010-12  2010     12    1          3   \n",
       "8             0        11.10    2010-12  2010     12    1          3   \n",
       "\n",
       "   dayofyear  weekofyear  quarter  \n",
       "0        335          48        4  \n",
       "2        335          48        4  \n",
       "4        335          48        4  \n",
       "6        335          48        4  \n",
       "8        335          48        4  "
      ]
     },
     "execution_count": 131,
     "metadata": {},
     "output_type": "execute_result"
    }
   ],
   "source": [
    "# +1 to make Monday=1.....until Sunday=7\n",
    "df2['dayofweek'] = df2['dayofweek'] + 1\n",
    "df2.head()"
   ]
  },
  {
   "cell_type": "markdown",
   "metadata": {
    "colab_type": "text",
    "id": "hlLHK45qjPug"
   },
   "source": [
    "## Exploring and Analysing the Data"
   ]
  },
  {
   "cell_type": "code",
   "execution_count": 132,
   "metadata": {
    "colab": {
     "base_uri": "https://localhost:8080/",
     "height": 355
    },
    "colab_type": "code",
    "executionInfo": {
     "elapsed": 960,
     "status": "ok",
     "timestamp": 1574027111948,
     "user": {
      "displayName": "Rajeev Ratan",
      "photoUrl": "https://lh3.googleusercontent.com/a-/AAuE7mCGo6aIm0tOcd5EhqWlYb0rime9sBvHS9YMpx0D2w=s64",
      "userId": "08597265227091462140"
     },
     "user_tz": 0
    },
    "id": "-osobBW6jPug",
    "outputId": "a5b727aa-6b8d-46ba-d9b4-4201ab61314d"
   },
   "outputs": [
    {
     "data": {
      "text/html": [
       "<div>\n",
       "<style scoped>\n",
       "    .dataframe tbody tr th:only-of-type {\n",
       "        vertical-align: middle;\n",
       "    }\n",
       "\n",
       "    .dataframe tbody tr th {\n",
       "        vertical-align: top;\n",
       "    }\n",
       "\n",
       "    .dataframe thead th {\n",
       "        text-align: right;\n",
       "    }\n",
       "</style>\n",
       "<table border=\"1\" class=\"dataframe\">\n",
       "  <thead>\n",
       "    <tr style=\"text-align: right;\">\n",
       "      <th></th>\n",
       "      <th>CustomerID</th>\n",
       "      <th>Country</th>\n",
       "      <th>NumberOfSales</th>\n",
       "    </tr>\n",
       "  </thead>\n",
       "  <tbody>\n",
       "    <tr>\n",
       "      <th>3998</th>\n",
       "      <td>17841</td>\n",
       "      <td>United Kingdom</td>\n",
       "      <td>3917</td>\n",
       "    </tr>\n",
       "    <tr>\n",
       "      <th>1878</th>\n",
       "      <td>14911</td>\n",
       "      <td>EIRE</td>\n",
       "      <td>2843</td>\n",
       "    </tr>\n",
       "    <tr>\n",
       "      <th>1290</th>\n",
       "      <td>14096</td>\n",
       "      <td>United Kingdom</td>\n",
       "      <td>2557</td>\n",
       "    </tr>\n",
       "    <tr>\n",
       "      <th>333</th>\n",
       "      <td>12748</td>\n",
       "      <td>United Kingdom</td>\n",
       "      <td>2306</td>\n",
       "    </tr>\n",
       "    <tr>\n",
       "      <th>1661</th>\n",
       "      <td>14606</td>\n",
       "      <td>United Kingdom</td>\n",
       "      <td>1348</td>\n",
       "    </tr>\n",
       "    <tr>\n",
       "      <th>2174</th>\n",
       "      <td>15311</td>\n",
       "      <td>United Kingdom</td>\n",
       "      <td>1201</td>\n",
       "    </tr>\n",
       "    <tr>\n",
       "      <th>1689</th>\n",
       "      <td>14646</td>\n",
       "      <td>Netherlands</td>\n",
       "      <td>1038</td>\n",
       "    </tr>\n",
       "    <tr>\n",
       "      <th>568</th>\n",
       "      <td>13089</td>\n",
       "      <td>United Kingdom</td>\n",
       "      <td>908</td>\n",
       "    </tr>\n",
       "    <tr>\n",
       "      <th>695</th>\n",
       "      <td>13263</td>\n",
       "      <td>United Kingdom</td>\n",
       "      <td>840</td>\n",
       "    </tr>\n",
       "    <tr>\n",
       "      <th>1435</th>\n",
       "      <td>14298</td>\n",
       "      <td>United Kingdom</td>\n",
       "      <td>814</td>\n",
       "    </tr>\n",
       "  </tbody>\n",
       "</table>\n",
       "</div>"
      ],
      "text/plain": [
       "      CustomerID         Country  NumberOfSales\n",
       "3998       17841  United Kingdom           3917\n",
       "1878       14911            EIRE           2843\n",
       "1290       14096  United Kingdom           2557\n",
       "333        12748  United Kingdom           2306\n",
       "1661       14606  United Kingdom           1348\n",
       "2174       15311  United Kingdom           1201\n",
       "1689       14646     Netherlands           1038\n",
       "568        13089  United Kingdom            908\n",
       "695        13263  United Kingdom            840\n",
       "1435       14298  United Kingdom            814"
      ]
     },
     "execution_count": 132,
     "metadata": {},
     "output_type": "execute_result"
    }
   ],
   "source": [
    "# Consolidating the number of Sales Made per customer for each country\n",
    "# We use InvoiceNo as the count for sales\n",
    "sales_per_cust = df2.groupby(by=['CustomerID','Country'], as_index=False)['InvoiceNo'].count().sort_values(by='InvoiceNo', ascending=False)\n",
    "sales_per_cust.columns = ['CustomerID', 'Country', \"NumberOfSales\"]\n",
    "sales_per_cust.head(10)"
   ]
  },
  {
   "cell_type": "code",
   "execution_count": 133,
   "metadata": {
    "colab": {
     "base_uri": "https://localhost:8080/",
     "height": 410
    },
    "colab_type": "code",
    "executionInfo": {
     "elapsed": 1043,
     "status": "ok",
     "timestamp": 1574027158495,
     "user": {
      "displayName": "Rajeev Ratan",
      "photoUrl": "https://lh3.googleusercontent.com/a-/AAuE7mCGo6aIm0tOcd5EhqWlYb0rime9sBvHS9YMpx0D2w=s64",
      "userId": "08597265227091462140"
     },
     "user_tz": 0
    },
    "id": "zLyo1-ArjPuj",
    "outputId": "ab8bae53-80c9-4f0d-b340-ec0c621c86ca"
   },
   "outputs": [
    {
     "data": {
      "image/png": "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\n",
      "text/plain": [
       "<Figure size 1080x432 with 1 Axes>"
      ]
     },
     "metadata": {},
     "output_type": "display_data"
    }
   ],
   "source": [
    "# Visualizing No. of Sales for all Customers\n",
    "\n",
    "orders = df2.groupby(by=['CustomerID','Country'], as_index=False)['InvoiceNo'].count()\n",
    "\n",
    "plt.subplots(figsize=(15,6))\n",
    "plt.plot(orders.CustomerID, orders.InvoiceNo)\n",
    "plt.xlabel('Customers ID')\n",
    "plt.ylabel('Number of Orders')\n",
    "plt.title('Number of Orders for different Customers')\n",
    "plt.show()"
   ]
  },
  {
   "cell_type": "code",
   "execution_count": 134,
   "metadata": {
    "colab": {
     "base_uri": "https://localhost:8080/",
     "height": 410
    },
    "colab_type": "code",
    "executionInfo": {
     "elapsed": 950,
     "status": "ok",
     "timestamp": 1574027207324,
     "user": {
      "displayName": "Rajeev Ratan",
      "photoUrl": "https://lh3.googleusercontent.com/a-/AAuE7mCGo6aIm0tOcd5EhqWlYb0rime9sBvHS9YMpx0D2w=s64",
      "userId": "08597265227091462140"
     },
     "user_tz": 0
    },
    "id": "cExKVOVWjPum",
    "outputId": "4ccf6828-a5c6-4c33-cc5a-11f640046ef8"
   },
   "outputs": [
    {
     "data": {
      "image/png": "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\n",
      "text/plain": [
       "<Figure size 1080x432 with 1 Axes>"
      ]
     },
     "metadata": {},
     "output_type": "display_data"
    }
   ],
   "source": [
    "# Visualizing Money Spent for all Customer\n",
    "money_spent = df2.groupby(by=['CustomerID','Country'], as_index=False)['AmountSpent'].sum()\n",
    "\n",
    "plt.subplots(figsize=(15,6))\n",
    "plt.plot(money_spent.CustomerID, money_spent.AmountSpent)\n",
    "plt.xlabel('Customers ID')\n",
    "plt.ylabel('Money spent (Dollar)')\n",
    "plt.title('Money Spent for different Customers')\n",
    "plt.show()"
   ]
  },
  {
   "cell_type": "code",
   "execution_count": 135,
   "metadata": {
    "colab": {
     "base_uri": "https://localhost:8080/",
     "height": 355
    },
    "colab_type": "code",
    "executionInfo": {
     "elapsed": 591,
     "status": "ok",
     "timestamp": 1574023698949,
     "user": {
      "displayName": "Rajeev Ratan",
      "photoUrl": "https://lh3.googleusercontent.com/a-/AAuE7mCGo6aIm0tOcd5EhqWlYb0rime9sBvHS9YMpx0D2w=s64",
      "userId": "08597265227091462140"
     },
     "user_tz": 0
    },
    "id": "tMaLBcVyjPuo",
    "outputId": "b4c1ca58-604d-40b7-ccb0-978c6c553a71"
   },
   "outputs": [
    {
     "data": {
      "text/html": [
       "<div>\n",
       "<style scoped>\n",
       "    .dataframe tbody tr th:only-of-type {\n",
       "        vertical-align: middle;\n",
       "    }\n",
       "\n",
       "    .dataframe tbody tr th {\n",
       "        vertical-align: top;\n",
       "    }\n",
       "\n",
       "    .dataframe thead th {\n",
       "        text-align: right;\n",
       "    }\n",
       "</style>\n",
       "<table border=\"1\" class=\"dataframe\">\n",
       "  <thead>\n",
       "    <tr style=\"text-align: right;\">\n",
       "      <th></th>\n",
       "      <th>CustomerID</th>\n",
       "      <th>Country</th>\n",
       "      <th>TotalSpent</th>\n",
       "    </tr>\n",
       "  </thead>\n",
       "  <tbody>\n",
       "    <tr>\n",
       "      <th>1689</th>\n",
       "      <td>14646</td>\n",
       "      <td>Netherlands</td>\n",
       "      <td>137356.42</td>\n",
       "    </tr>\n",
       "    <tr>\n",
       "      <th>4185</th>\n",
       "      <td>18102</td>\n",
       "      <td>United Kingdom</td>\n",
       "      <td>129676.37</td>\n",
       "    </tr>\n",
       "    <tr>\n",
       "      <th>3717</th>\n",
       "      <td>17450</td>\n",
       "      <td>United Kingdom</td>\n",
       "      <td>87556.19</td>\n",
       "    </tr>\n",
       "    <tr>\n",
       "      <th>1878</th>\n",
       "      <td>14911</td>\n",
       "      <td>EIRE</td>\n",
       "      <td>72258.43</td>\n",
       "    </tr>\n",
       "    <tr>\n",
       "      <th>56</th>\n",
       "      <td>12415</td>\n",
       "      <td>Australia</td>\n",
       "      <td>60819.74</td>\n",
       "    </tr>\n",
       "    <tr>\n",
       "      <th>1334</th>\n",
       "      <td>14156</td>\n",
       "      <td>EIRE</td>\n",
       "      <td>60722.43</td>\n",
       "    </tr>\n",
       "    <tr>\n",
       "      <th>3760</th>\n",
       "      <td>17511</td>\n",
       "      <td>United Kingdom</td>\n",
       "      <td>44852.65</td>\n",
       "    </tr>\n",
       "    <tr>\n",
       "      <th>2698</th>\n",
       "      <td>16029</td>\n",
       "      <td>United Kingdom</td>\n",
       "      <td>43238.17</td>\n",
       "    </tr>\n",
       "    <tr>\n",
       "      <th>2010</th>\n",
       "      <td>15098</td>\n",
       "      <td>United Kingdom</td>\n",
       "      <td>39916.50</td>\n",
       "    </tr>\n",
       "    <tr>\n",
       "      <th>1290</th>\n",
       "      <td>14096</td>\n",
       "      <td>United Kingdom</td>\n",
       "      <td>34688.84</td>\n",
       "    </tr>\n",
       "  </tbody>\n",
       "</table>\n",
       "</div>"
      ],
      "text/plain": [
       "      CustomerID         Country  TotalSpent\n",
       "1689       14646     Netherlands   137356.42\n",
       "4185       18102  United Kingdom   129676.37\n",
       "3717       17450  United Kingdom    87556.19\n",
       "1878       14911            EIRE    72258.43\n",
       "56         12415       Australia    60819.74\n",
       "1334       14156            EIRE    60722.43\n",
       "3760       17511  United Kingdom    44852.65\n",
       "2698       16029  United Kingdom    43238.17\n",
       "2010       15098  United Kingdom    39916.50\n",
       "1290       14096  United Kingdom    34688.84"
      ]
     },
     "execution_count": 135,
     "metadata": {},
     "output_type": "execute_result"
    }
   ],
   "source": [
    "# Consolidating the number of Sales Made per customer (Revenue)\n",
    "# we use use index=False, to indicate to the groupby that we don't want to set the column ID as index\n",
    "spent_per_cust = df2.groupby(by=['CustomerID','Country'], as_index=False)['AmountSpent'].sum().sort_values(by='AmountSpent', ascending=False)\n",
    "spent_per_cust.columns = ['CustomerID', 'Country', \"TotalSpent\"]\n",
    "spent_per_cust.head(10)"
   ]
  },
  {
   "cell_type": "markdown",
   "metadata": {
    "colab_type": "text",
    "id": "qCrex3PojPuq"
   },
   "source": [
    "# Purchasing Patterns\n",
    "https://www.kaggle.com/hendraherviawan/customer-purchasing-patterns"
   ]
  },
  {
   "cell_type": "code",
   "execution_count": 136,
   "metadata": {
    "colab": {
     "base_uri": "https://localhost:8080/",
     "height": 499
    },
    "colab_type": "code",
    "executionInfo": {
     "elapsed": 854,
     "status": "ok",
     "timestamp": 1574027322371,
     "user": {
      "displayName": "Rajeev Ratan",
      "photoUrl": "https://lh3.googleusercontent.com/a-/AAuE7mCGo6aIm0tOcd5EhqWlYb0rime9sBvHS9YMpx0D2w=s64",
      "userId": "08597265227091462140"
     },
     "user_tz": 0
    },
    "id": "b_ZvC-tqjPut",
    "outputId": "8be4845c-b91f-41ec-9a6b-37778f63cdd1"
   },
   "outputs": [
    {
     "data": {
      "text/html": [
       "<div>\n",
       "<style scoped>\n",
       "    .dataframe tbody tr th:only-of-type {\n",
       "        vertical-align: middle;\n",
       "    }\n",
       "\n",
       "    .dataframe tbody tr th {\n",
       "        vertical-align: top;\n",
       "    }\n",
       "\n",
       "    .dataframe thead th {\n",
       "        text-align: right;\n",
       "    }\n",
       "</style>\n",
       "<table border=\"1\" class=\"dataframe\">\n",
       "  <thead>\n",
       "    <tr style=\"text-align: right;\">\n",
       "      <th></th>\n",
       "      <th>index</th>\n",
       "      <th>InvoiceNo</th>\n",
       "      <th>StockCode</th>\n",
       "      <th>Description</th>\n",
       "      <th>Quantity</th>\n",
       "      <th>InvoiceDate</th>\n",
       "      <th>UnitPrice</th>\n",
       "      <th>CustomerID</th>\n",
       "      <th>Country</th>\n",
       "      <th>index_col</th>\n",
       "      <th>index_remain</th>\n",
       "      <th>AmountSpent</th>\n",
       "      <th>month_year</th>\n",
       "      <th>year</th>\n",
       "      <th>month</th>\n",
       "      <th>day</th>\n",
       "      <th>dayofweek</th>\n",
       "      <th>dayofyear</th>\n",
       "      <th>weekofyear</th>\n",
       "      <th>quarter</th>\n",
       "    </tr>\n",
       "  </thead>\n",
       "  <tbody>\n",
       "    <tr>\n",
       "      <th>0</th>\n",
       "      <td>0</td>\n",
       "      <td>536365</td>\n",
       "      <td>85123A</td>\n",
       "      <td>WHITE HANGING HEART T-LIGHT HOLDER</td>\n",
       "      <td>6</td>\n",
       "      <td>2010-12-01 08:26:00</td>\n",
       "      <td>2.55</td>\n",
       "      <td>17850</td>\n",
       "      <td>United Kingdom</td>\n",
       "      <td>0</td>\n",
       "      <td>0</td>\n",
       "      <td>15.30</td>\n",
       "      <td>2010-12</td>\n",
       "      <td>2010</td>\n",
       "      <td>12</td>\n",
       "      <td>1</td>\n",
       "      <td>3</td>\n",
       "      <td>335</td>\n",
       "      <td>48</td>\n",
       "      <td>4</td>\n",
       "    </tr>\n",
       "    <tr>\n",
       "      <th>2</th>\n",
       "      <td>2</td>\n",
       "      <td>536365</td>\n",
       "      <td>84406B</td>\n",
       "      <td>CREAM CUPID HEARTS COAT HANGER</td>\n",
       "      <td>8</td>\n",
       "      <td>2010-12-01 08:26:00</td>\n",
       "      <td>2.75</td>\n",
       "      <td>17850</td>\n",
       "      <td>United Kingdom</td>\n",
       "      <td>2</td>\n",
       "      <td>0</td>\n",
       "      <td>22.00</td>\n",
       "      <td>2010-12</td>\n",
       "      <td>2010</td>\n",
       "      <td>12</td>\n",
       "      <td>1</td>\n",
       "      <td>3</td>\n",
       "      <td>335</td>\n",
       "      <td>48</td>\n",
       "      <td>4</td>\n",
       "    </tr>\n",
       "    <tr>\n",
       "      <th>4</th>\n",
       "      <td>4</td>\n",
       "      <td>536365</td>\n",
       "      <td>84029E</td>\n",
       "      <td>RED WOOLLY HOTTIE WHITE HEART.</td>\n",
       "      <td>6</td>\n",
       "      <td>2010-12-01 08:26:00</td>\n",
       "      <td>3.39</td>\n",
       "      <td>17850</td>\n",
       "      <td>United Kingdom</td>\n",
       "      <td>4</td>\n",
       "      <td>0</td>\n",
       "      <td>20.34</td>\n",
       "      <td>2010-12</td>\n",
       "      <td>2010</td>\n",
       "      <td>12</td>\n",
       "      <td>1</td>\n",
       "      <td>3</td>\n",
       "      <td>335</td>\n",
       "      <td>48</td>\n",
       "      <td>4</td>\n",
       "    </tr>\n",
       "    <tr>\n",
       "      <th>6</th>\n",
       "      <td>6</td>\n",
       "      <td>536365</td>\n",
       "      <td>21730</td>\n",
       "      <td>GLASS STAR FROSTED T-LIGHT HOLDER</td>\n",
       "      <td>6</td>\n",
       "      <td>2010-12-01 08:26:00</td>\n",
       "      <td>4.25</td>\n",
       "      <td>17850</td>\n",
       "      <td>United Kingdom</td>\n",
       "      <td>6</td>\n",
       "      <td>0</td>\n",
       "      <td>25.50</td>\n",
       "      <td>2010-12</td>\n",
       "      <td>2010</td>\n",
       "      <td>12</td>\n",
       "      <td>1</td>\n",
       "      <td>3</td>\n",
       "      <td>335</td>\n",
       "      <td>48</td>\n",
       "      <td>4</td>\n",
       "    </tr>\n",
       "    <tr>\n",
       "      <th>8</th>\n",
       "      <td>8</td>\n",
       "      <td>536366</td>\n",
       "      <td>22632</td>\n",
       "      <td>HAND WARMER RED POLKA DOT</td>\n",
       "      <td>6</td>\n",
       "      <td>2010-12-01 08:28:00</td>\n",
       "      <td>1.85</td>\n",
       "      <td>17850</td>\n",
       "      <td>United Kingdom</td>\n",
       "      <td>8</td>\n",
       "      <td>0</td>\n",
       "      <td>11.10</td>\n",
       "      <td>2010-12</td>\n",
       "      <td>2010</td>\n",
       "      <td>12</td>\n",
       "      <td>1</td>\n",
       "      <td>3</td>\n",
       "      <td>335</td>\n",
       "      <td>48</td>\n",
       "      <td>4</td>\n",
       "    </tr>\n",
       "  </tbody>\n",
       "</table>\n",
       "</div>"
      ],
      "text/plain": [
       "   index InvoiceNo StockCode                         Description  Quantity  \\\n",
       "0      0    536365    85123A  WHITE HANGING HEART T-LIGHT HOLDER         6   \n",
       "2      2    536365    84406B      CREAM CUPID HEARTS COAT HANGER         8   \n",
       "4      4    536365    84029E      RED WOOLLY HOTTIE WHITE HEART.         6   \n",
       "6      6    536365     21730   GLASS STAR FROSTED T-LIGHT HOLDER         6   \n",
       "8      8    536366     22632           HAND WARMER RED POLKA DOT         6   \n",
       "\n",
       "          InvoiceDate  UnitPrice  CustomerID         Country  index_col  \\\n",
       "0 2010-12-01 08:26:00       2.55       17850  United Kingdom          0   \n",
       "2 2010-12-01 08:26:00       2.75       17850  United Kingdom          2   \n",
       "4 2010-12-01 08:26:00       3.39       17850  United Kingdom          4   \n",
       "6 2010-12-01 08:26:00       4.25       17850  United Kingdom          6   \n",
       "8 2010-12-01 08:28:00       1.85       17850  United Kingdom          8   \n",
       "\n",
       "   index_remain  AmountSpent month_year  year  month  day  dayofweek  \\\n",
       "0             0        15.30    2010-12  2010     12    1          3   \n",
       "2             0        22.00    2010-12  2010     12    1          3   \n",
       "4             0        20.34    2010-12  2010     12    1          3   \n",
       "6             0        25.50    2010-12  2010     12    1          3   \n",
       "8             0        11.10    2010-12  2010     12    1          3   \n",
       "\n",
       "   dayofyear  weekofyear  quarter  \n",
       "0        335          48        4  \n",
       "2        335          48        4  \n",
       "4        335          48        4  \n",
       "6        335          48        4  \n",
       "8        335          48        4  "
      ]
     },
     "execution_count": 136,
     "metadata": {},
     "output_type": "execute_result"
    }
   ],
   "source": [
    "# Check our data\n",
    "df2.head()"
   ]
  },
  {
   "cell_type": "code",
   "execution_count": 137,
   "metadata": {
    "colab": {},
    "colab_type": "code",
    "id": "Fjf2SK6ljPuw"
   },
   "outputs": [],
   "source": [
    "# Insert a new column as our 3rd row (index 2) with year_month by joining our year with month from our InvoiceDate field\n",
    "df2.insert(loc=2, column='year_month', value=df2['InvoiceDate'].map(lambda x: 100*x.year + x.month))\n",
    "\n",
    "# Insert a new column as our 6th column (index 5) with our Hour extracted from InvoiceDate\n",
    "df2.insert(loc=5, column='hour', value=df2.InvoiceDate.dt.hour)"
   ]
  },
  {
   "cell_type": "code",
   "execution_count": 138,
   "metadata": {
    "colab": {
     "base_uri": "https://localhost:8080/",
     "height": 499
    },
    "colab_type": "code",
    "executionInfo": {
     "elapsed": 1618,
     "status": "ok",
     "timestamp": 1574027435533,
     "user": {
      "displayName": "Rajeev Ratan",
      "photoUrl": "https://lh3.googleusercontent.com/a-/AAuE7mCGo6aIm0tOcd5EhqWlYb0rime9sBvHS9YMpx0D2w=s64",
      "userId": "08597265227091462140"
     },
     "user_tz": 0
    },
    "id": "bZ8-P_31IHIb",
    "outputId": "629a3d85-8611-49bd-9992-a9a557b11983"
   },
   "outputs": [
    {
     "data": {
      "text/html": [
       "<div>\n",
       "<style scoped>\n",
       "    .dataframe tbody tr th:only-of-type {\n",
       "        vertical-align: middle;\n",
       "    }\n",
       "\n",
       "    .dataframe tbody tr th {\n",
       "        vertical-align: top;\n",
       "    }\n",
       "\n",
       "    .dataframe thead th {\n",
       "        text-align: right;\n",
       "    }\n",
       "</style>\n",
       "<table border=\"1\" class=\"dataframe\">\n",
       "  <thead>\n",
       "    <tr style=\"text-align: right;\">\n",
       "      <th></th>\n",
       "      <th>index</th>\n",
       "      <th>InvoiceNo</th>\n",
       "      <th>year_month</th>\n",
       "      <th>StockCode</th>\n",
       "      <th>Description</th>\n",
       "      <th>hour</th>\n",
       "      <th>Quantity</th>\n",
       "      <th>InvoiceDate</th>\n",
       "      <th>UnitPrice</th>\n",
       "      <th>CustomerID</th>\n",
       "      <th>...</th>\n",
       "      <th>index_remain</th>\n",
       "      <th>AmountSpent</th>\n",
       "      <th>month_year</th>\n",
       "      <th>year</th>\n",
       "      <th>month</th>\n",
       "      <th>day</th>\n",
       "      <th>dayofweek</th>\n",
       "      <th>dayofyear</th>\n",
       "      <th>weekofyear</th>\n",
       "      <th>quarter</th>\n",
       "    </tr>\n",
       "  </thead>\n",
       "  <tbody>\n",
       "    <tr>\n",
       "      <th>0</th>\n",
       "      <td>0</td>\n",
       "      <td>536365</td>\n",
       "      <td>201012</td>\n",
       "      <td>85123A</td>\n",
       "      <td>WHITE HANGING HEART T-LIGHT HOLDER</td>\n",
       "      <td>8</td>\n",
       "      <td>6</td>\n",
       "      <td>2010-12-01 08:26:00</td>\n",
       "      <td>2.55</td>\n",
       "      <td>17850</td>\n",
       "      <td>...</td>\n",
       "      <td>0</td>\n",
       "      <td>15.30</td>\n",
       "      <td>2010-12</td>\n",
       "      <td>2010</td>\n",
       "      <td>12</td>\n",
       "      <td>1</td>\n",
       "      <td>3</td>\n",
       "      <td>335</td>\n",
       "      <td>48</td>\n",
       "      <td>4</td>\n",
       "    </tr>\n",
       "    <tr>\n",
       "      <th>2</th>\n",
       "      <td>2</td>\n",
       "      <td>536365</td>\n",
       "      <td>201012</td>\n",
       "      <td>84406B</td>\n",
       "      <td>CREAM CUPID HEARTS COAT HANGER</td>\n",
       "      <td>8</td>\n",
       "      <td>8</td>\n",
       "      <td>2010-12-01 08:26:00</td>\n",
       "      <td>2.75</td>\n",
       "      <td>17850</td>\n",
       "      <td>...</td>\n",
       "      <td>0</td>\n",
       "      <td>22.00</td>\n",
       "      <td>2010-12</td>\n",
       "      <td>2010</td>\n",
       "      <td>12</td>\n",
       "      <td>1</td>\n",
       "      <td>3</td>\n",
       "      <td>335</td>\n",
       "      <td>48</td>\n",
       "      <td>4</td>\n",
       "    </tr>\n",
       "    <tr>\n",
       "      <th>4</th>\n",
       "      <td>4</td>\n",
       "      <td>536365</td>\n",
       "      <td>201012</td>\n",
       "      <td>84029E</td>\n",
       "      <td>RED WOOLLY HOTTIE WHITE HEART.</td>\n",
       "      <td>8</td>\n",
       "      <td>6</td>\n",
       "      <td>2010-12-01 08:26:00</td>\n",
       "      <td>3.39</td>\n",
       "      <td>17850</td>\n",
       "      <td>...</td>\n",
       "      <td>0</td>\n",
       "      <td>20.34</td>\n",
       "      <td>2010-12</td>\n",
       "      <td>2010</td>\n",
       "      <td>12</td>\n",
       "      <td>1</td>\n",
       "      <td>3</td>\n",
       "      <td>335</td>\n",
       "      <td>48</td>\n",
       "      <td>4</td>\n",
       "    </tr>\n",
       "    <tr>\n",
       "      <th>6</th>\n",
       "      <td>6</td>\n",
       "      <td>536365</td>\n",
       "      <td>201012</td>\n",
       "      <td>21730</td>\n",
       "      <td>GLASS STAR FROSTED T-LIGHT HOLDER</td>\n",
       "      <td>8</td>\n",
       "      <td>6</td>\n",
       "      <td>2010-12-01 08:26:00</td>\n",
       "      <td>4.25</td>\n",
       "      <td>17850</td>\n",
       "      <td>...</td>\n",
       "      <td>0</td>\n",
       "      <td>25.50</td>\n",
       "      <td>2010-12</td>\n",
       "      <td>2010</td>\n",
       "      <td>12</td>\n",
       "      <td>1</td>\n",
       "      <td>3</td>\n",
       "      <td>335</td>\n",
       "      <td>48</td>\n",
       "      <td>4</td>\n",
       "    </tr>\n",
       "    <tr>\n",
       "      <th>8</th>\n",
       "      <td>8</td>\n",
       "      <td>536366</td>\n",
       "      <td>201012</td>\n",
       "      <td>22632</td>\n",
       "      <td>HAND WARMER RED POLKA DOT</td>\n",
       "      <td>8</td>\n",
       "      <td>6</td>\n",
       "      <td>2010-12-01 08:28:00</td>\n",
       "      <td>1.85</td>\n",
       "      <td>17850</td>\n",
       "      <td>...</td>\n",
       "      <td>0</td>\n",
       "      <td>11.10</td>\n",
       "      <td>2010-12</td>\n",
       "      <td>2010</td>\n",
       "      <td>12</td>\n",
       "      <td>1</td>\n",
       "      <td>3</td>\n",
       "      <td>335</td>\n",
       "      <td>48</td>\n",
       "      <td>4</td>\n",
       "    </tr>\n",
       "  </tbody>\n",
       "</table>\n",
       "<p>5 rows × 22 columns</p>\n",
       "</div>"
      ],
      "text/plain": [
       "   index InvoiceNo  year_month StockCode                         Description  \\\n",
       "0      0    536365      201012    85123A  WHITE HANGING HEART T-LIGHT HOLDER   \n",
       "2      2    536365      201012    84406B      CREAM CUPID HEARTS COAT HANGER   \n",
       "4      4    536365      201012    84029E      RED WOOLLY HOTTIE WHITE HEART.   \n",
       "6      6    536365      201012     21730   GLASS STAR FROSTED T-LIGHT HOLDER   \n",
       "8      8    536366      201012     22632           HAND WARMER RED POLKA DOT   \n",
       "\n",
       "   hour  Quantity         InvoiceDate  UnitPrice  CustomerID  ...  \\\n",
       "0     8         6 2010-12-01 08:26:00       2.55       17850  ...   \n",
       "2     8         8 2010-12-01 08:26:00       2.75       17850  ...   \n",
       "4     8         6 2010-12-01 08:26:00       3.39       17850  ...   \n",
       "6     8         6 2010-12-01 08:26:00       4.25       17850  ...   \n",
       "8     8         6 2010-12-01 08:28:00       1.85       17850  ...   \n",
       "\n",
       "  index_remain  AmountSpent  month_year  year month  day  dayofweek  \\\n",
       "0            0        15.30     2010-12  2010    12    1          3   \n",
       "2            0        22.00     2010-12  2010    12    1          3   \n",
       "4            0        20.34     2010-12  2010    12    1          3   \n",
       "6            0        25.50     2010-12  2010    12    1          3   \n",
       "8            0        11.10     2010-12  2010    12    1          3   \n",
       "\n",
       "   dayofyear  weekofyear  quarter  \n",
       "0        335          48        4  \n",
       "2        335          48        4  \n",
       "4        335          48        4  \n",
       "6        335          48        4  \n",
       "8        335          48        4  \n",
       "\n",
       "[5 rows x 22 columns]"
      ]
     },
     "execution_count": 138,
     "metadata": {},
     "output_type": "execute_result"
    }
   ],
   "source": [
    "# Check to see if our year_month and hour columns were made\n",
    "df2.head()"
   ]
  },
  {
   "cell_type": "code",
   "execution_count": 139,
   "metadata": {
    "colab": {
     "base_uri": "https://localhost:8080/",
     "height": 417
    },
    "colab_type": "code",
    "executionInfo": {
     "elapsed": 4900,
     "status": "ok",
     "timestamp": 1574027482554,
     "user": {
      "displayName": "Rajeev Ratan",
      "photoUrl": "https://lh3.googleusercontent.com/a-/AAuE7mCGo6aIm0tOcd5EhqWlYb0rime9sBvHS9YMpx0D2w=s64",
      "userId": "08597265227091462140"
     },
     "user_tz": 0
    },
    "id": "P9LXcgJLjPuz",
    "outputId": "f415d909-1ea2-4ca2-c3e6-cc943b8595cf",
    "scrolled": true
   },
   "outputs": [
    {
     "data": {
      "image/png": "iVBORw0KGgoAAAANSUhEUgAAA4cAAAGNCAYAAACi6QTZAAAAOXRFWHRTb2Z0d2FyZQBNYXRwbG90bGliIHZlcnNpb24zLjMuMiwgaHR0cHM6Ly9tYXRwbG90bGliLm9yZy8vihELAAAACXBIWXMAAAsTAAALEwEAmpwYAABZLElEQVR4nO3deXxM9+L/8ffIZq2lEjRUXXtticS+FSURYitKLLW1Wq0WtYQojZ1aWmvRqtZyNVUSlKSlrnIpEWppudQSWxtBkCD7/P7wy3xNkzDIZEJez8fDo53PWT5LMifnPecz5xiMRqNRAAAAAIBcLY+tGwAAAAAAsD3CIQAAAACAcAgAAAAAIBwCAAAAAEQ4BAAAAACIcAgAAAAAEOEQwBNo0aKFWrVqpbt376Zb1rt3bwUEBFit7osXL6py5co6cOCA1eqw1O+//y4fHx9Vr15dM2bMsFo9ixYtUosWLay2/4xkV9+sYf369apcubIaN26s1NTUdMt/++03Va5cWa1atcqyOo1Go4KDg3Xt2jVJ0r59+1S5cmX9/fffj7yvgIAArVu3Ll355s2bH7nNf/31l3744YdMl8+fP1+VK1c2/Xv55ZdVr149DRo0SMeOHXvktj+KuLg4TZ48Wa+88orc3d3Vo0ePdO/ro0ePqnv37qpVq5Zat26t4ODgDPdlNBo1cOBALVq0KN2yjRs3ysvLSzVr1lS3bt105MiRJ257dHS0hg0bpvr166thw4aaNGmS7ty5Y1p+48YNs5+hv7+/+vbt+0h13P9zqVy5smrUqKE2bdpo0aJFSkxMfOI+PMiePXv0+uuvy93dXc2bN9eMGTMUHx9vWp6SkqLZs2ercePGcnd31/vvv6+rV69muK+IiAhVr149w2U3btxQ48aN0/3ce/TokSU/JwCWIxwCeCLnz5/XnDlzbN0Mm1qyZIns7e21ZcsWvfXWW7ZuTpZ62vtmMBgUExOjgwcPplu2detWGQyGLK3v4MGDGj16dIYfmDyKvXv36siRI+rcubNZ+Y4dOx7rQ5exY8dq165dD1zH1dVVu3fv1u7du7V9+3Z9/vnnMhgM6tmzp1VP0MeNG6fdu3dr+vTpWr9+vapVq6YBAwbo7NmzkqTr169r4MCBqlatmtavX2/64Gn37t1m+0lMTFRAQECG/dyzZ4/Gjh2r/v37a8OGDapUqZIGDBig69evP3a7k5KS1L9/f50+fVoLFy7UsmXL9Pvvv2vw4MGmdWbNmqWQkJDHriPN+PHjtXv3bu3atUsbN25Uv379tHz5co0YMeKJ952ZEydO6K233lKDBg20YcMGTZw4UVu3btXEiRNN68yfP18bNmzQjBkztGrVKv39998aMmRIun0dPnxYgwcPzvBDmujoaA0YMEDR0dHplo0YMUJjxoyxeggG8H8IhwCeSJkyZbRq1aoMT75zi9jYWFWtWlUvvviiihYtauvmZKmnvW958uRR3bp1FRoaalZuNBoVFhYmDw+PLK3PaDRmyX4+/fRTvfHGG8qT596f6fj4eH300UcaMmSIypYta5V22dnZydnZWc7OzipVqpTc3d21YMEClS9fXpMnT37kOi1x48YNhYaGasyYMapfv77KlSungIAAubi4mK50fvfddypYsKACAgJUvnx59e7dW+3bt9fy5ctN+/n999/VrVs37du3T88991y6er788ku1a9dOr7/+usqXL6+JEyeqcOHCCgoKeuy279y5UydPntS8efPk4eGhatWq6dNPP9Wvv/6q/fv3S8q634eCBQvK2dlZLi4uKleunLp166Zp06YpLCxMv/zyS5bU8U/r1q1TlSpVNHToUL300ktq0qSJhg4dqo0bNyopKUmJiYn65ptvNHz4cDVq1EjVqlXTnDlzdPDgQbO/B7NmzVLPnj31wgsvpKvjhx9+UIcOHTIdJw8PDxUoUEAbN260Sh8BpEc4BPBEOnXqJHd3dwUEBCghISHDdTKaAvrPst69e2vevHkaPXq03Nzc1LhxYwUFBenAgQNq3769atWqpR49euj8+fNm+z5w4IB8fHxUo0YN+fn56cyZM6Zlqamp+vzzz9W8eXO5ubnptdde086dO03L169fLy8vL3388cfy8PDQqFGjMmz/yZMn9eabb6pOnTqqW7euRo0aZbri0KJFC+3Zs0fBwcGqXLmyLl68mOE+1q1bp3bt2qlmzZpq1aqVVq1a9dB2bNmyRW3atFHNmjU1cOBAxcTEmO3z5s2bGjNmjOrVq6e6devqzTffNOu/v7+/hg4dqt69e8vDw0Nr1qzRmTNn1L9/f9WuXVseHh4aPHhwpm3OqG/JyclatmyZWrdurRo1asjX11dbtmwxbTN//nz17t1b77//vmrXrq25c+em2+/69evVqlUrrV69Wo0aNZKHh4dGjBihW7duPVHfMuPt7a2ffvrJ7AT00KFDSkpKUp06dczWjYmJ0fjx49WkSRPVqlVLb7zxhv744w/T8t69e2v27NkaOXKkateuraZNm2rSpElKTk7WxYsX1bNnT0lSy5YtNX/+fNN227dvV5s2bVS9enV17txZhw8fzrS9hw4d0u+//65XX33VVHbt2jWdP39ea9euzXBK6Z07dzRmzBg1bNhQNWrUULdu3bR3717TWO3du1cbNmxQ5cqVM603I/b29vLz89Phw4dNvyeJiYmaPn26GjdurNq1a6tXr1767bffzLbbuXOnunbtqlq1aqlFixb64osvMty/o6Ojli5dahbSDQaDDAaD6ffhwIEDqlOnjikoS1LdunV18OBB05WovXv3qkGDBgoJCVGhQoXM6khNTdXBgwdVt25dU1mePHlUp06dJ5qWfu7cOTk7O+ull14ylZUsWVJFixbV/v37NX/+fK1bt0779+83OzYkJSVpypQpqlevnmrXrq1Ro0aZTUW11KuvvqoXXnjB7P134MABde/eXTVr1lTLli01e/Zss+NyXFycAgMD1bBhQ7m7u2vAgAFm76v7devWTRMmTDAry5Mnj5KSknT37l2dOHFCt2/fNhvX0qVLy9XV1Wxc9+7dq6VLl6p3797p6tixY4fee+89ffbZZ5n209vbW1999dXDBwRAliAcAngiBoNBU6dO1eXLl81Ohh/HsmXLVLlyZW3atEktW7bUxIkTFRgYqHHjxmnVqlWKiopKN4X1q6++0vDhw7V+/XoVL15cvXv3Np1ozZ49W+vXr9fEiRMVEhKiTp066b333tO+fftM2587d05xcXEKDg7WoEGD0rXp4sWL6tGjhwoXLqzVq1dr0aJFOnHihPr376+UlBStW7dOnp6eatOmjXbv3q1SpUql28dXX32lSZMm6Y033tDGjRs1YMAAzZw50+zKxz/bER4eruHDh6tTp04KCQlR48aNtXr1atP6RqNRb731lq5cuaIvvvhCa9as0QsvvCA/Pz+zELl161a1atVKQUFBatWqlUaMGKEXXnhBGzZs0OrVqxUTE6OxY8dm+PPIqG/Tp0/Xl19+qeHDh2vjxo1q27athg8frrCwMNN2+/fvV5kyZbRhwwZ16dIlw33/9ddf+vbbb7Vw4UItWbJEx44d07Bhw56ob5lp1aqVoqOjzQLZ1q1b5eXlJTs7O1NZSkqK+vfvr6NHj+rTTz9VUFCQihYtql69epkF6K+++krlypXT999/r0GDBmn16tX64YcfVKpUKdN33b777jv179/ftM2///1vTZo0ScHBwcqXL5+GDx+eaXt//vln1apVS0WKFDGVubq66uuvv870O1vz5s3Tn3/+qS+//FJbtmxR1apV9e677+rOnTsKCAgw+zk+qkqVKkm69yGJJI0aNUrh4eH69NNP9f3336t+/frq06ePaRrooUOH9Pbbb6tRo0YKDg7WmDFjtHDhwgyv0uXPn19NmzZVwYIFTWVhYWGKjIxUkyZNJEl///23SpQoYbadi4uL7t69qxs3bkiSBg4cqNGjR5vtJ82tW7d0586dDPfxON8FvX/7GzdumAW7uLg43bx5U9evX1f//v3Vrl07ubu7mx0bDhw4oOTkZH377beaM2eOQkNDzY4FljIYDKpYsaLp53L8+HENGDBArVq10qZNmzR58mTt2LFDH3/8sWmboUOHau/evZo9e7a+//575c+fXwMHDlRSUlK6/VeqVEk1atQwvU5KStKKFSvk5uam5557zjR2DxvX77//Xg0bNsywD7NmzZKfn98Dp3c3a9ZMf/75py5cuPDwQQHwxOxt3QAAT7+XXnpJQ4YM0Zw5c+Tt7Z3pCezDVKtWzXRC3atXL61du1Z9+/Y1fTLdpk0b/ec//zHbZujQoaYrLFOnTlXTpk31ww8/yMfHR998843mz59vOsksW7asTpw4oaVLl6pevXqmfQwePFhlypTJsE1r1qzRc889p2nTpsnBwUGSNHfuXPn4+GjXrl165ZVX5ODgoLx588rZ2Tnd9kajUV988YXeeOMNde3a1TReFy5c0LJly9SvX78M2zF//nzVq1fP9D2/cuXK6dChQzp69Kike5/GHz16VPv37zedEAcGBurXX39VUFCQKeg6OzurT58+pjoiIyPVqFEjubq6yt7eXp988kmmN5AoVqyYWd/i4uL073//W+PHj5e3t7ck6e233zaNqZeXl6R7J61DhgxR3rx5M9yvdO9E85NPPjFdyZowYYL69u2rM2fO6O+//36svmWmWLFiqlu3rsLCwuTm5maaUjpnzhzT1TVJ2r17t/744w+FhoaqXLlykqSZM2eqdevWWr16tUaPHi1Jqlq1qul7ZeXKlVNQUJB+++03dejQQYULFzbVWaBAAdO+x4wZI09PT0lS37599d577+nGjRtmATDN4cOHVaFChYf2636RkZEqUKCASpcurUKFCmn06NGm8Js/f/4H/o4+TFqf4uLiFBkZqa1bt2rz5s2qWLGiJOm9995TRESEvvrqK02cOFErV66Up6enhg4dKuneGE2YMMEsiGfm8OHDGjt2rLy8vEzv2/j4eDk6Opqtl/baku+ipd1AxcnJyazcwcEh09kOlkgLtR999JEmTJggg8Ggjz/+WAaDQUlJSSpQoIDy5s0rBwcHs3EvWbKkxo8fL4PBoJdeekmNGjV67Jv+PPfcczp37pyke1NnmzVrpgEDBki6d7wLDAyUn5+fhg0bpri4OO3atUvffPON6fg3ceJELVmyRDdu3Hjg70ZKSor8/f116tQp01X6u3fvKk+ePKbjYhpHR8cnGtd/eumll+Tg4KDffvst0+M0gKxDOASQJfr166ewsDCNGTNG69evf6x93P9dqnz58kmSXnzxRVNZ3rx5050Muru7m/6/YMGC+te//qWTJ0+qcuXKSkxM1AcffGA2HS0pKUnFixc3vTYYDCpdunSmbTp16pRq1KhhdgJUvnx5FS1aVCdPntQrr7zywD5dv35dV69eVe3atc3K69Spoy+++MJ0V8t/tuPUqVNq1qyZ2TZubm6mcPjHH38oJSXFdAKdJiEhQadPnza9/mffPvjgA82YMUNr1qxR/fr19corr8jX1/eBfUhz5swZJScnZ9iXn3/+2fTa2dn5gcFQuhc47p/i6ObmJune1amLFy8+Vt8exNvbW0uXLtXo0aMVEREh6d73me4PhydPnlTRokVNwVC6d6Jbs2ZNnTp1ylR2/zRC6d4JekZXXu53/zZp34nL7AT62rVr6cb4YQYMGKDBgwerQYMGcnd3V5MmTdShQ4d0gehxxMXFSbrX7rQptt26dTNbJzEx0fTePHnypJo2bWq2vGPHjg+t55dfftEHH3ygWrVqaebMmabyjN73aa/TjhMPkjYG/9xHUlJSptsPHDjQ9Hsi3ZvVkBbu0xQpUkSLFy+Wv7+/6tatq7x586pXr16qUqVKhlcw07z44otmV8oKFy6sqKioh/YjI3FxcaZptMePH1dkZKTZMTFtKvXp06d18+ZNSVLNmjVNy4sWLSp/f/8H1nH37l0NHz5cu3fv1rx580xXE/PmzavU1FQlJyfL3v7/TicTExMt+rlYys7OTkWKFDEdKwFYF+EQQJaws7PT1KlT1alTJ33++ecPXT8lJSVd2f0nGGkedjfJf16NSE1NlaOjo+nKwvz589PdwOP+sJgnT550VyXul9nJdWpqarpPzB9l+7T+p/X5n+0wGAzpbtJwf30ODg4qUqRIplP10vwzpPXp00c+Pj7asWOH9uzZo2nTpmnNmjX69ttvHzgOkjJdnpKSYvaze1gwlNL/rNO+O5Z2JeJx+vYgrVu31sSJE3X06FGFhobK29s73e/Wg37W97c3o3F42I1HMrpqltk2Gf3sH8bT01M7d+403W109erVWr58uVatWvXIVyH/KS0QVq1a1fThxNq1a9ONf9q4ZPQ+fpgNGzZo3Lhxat68uebMmWM2xiVLlkx3J8srV64of/786b5fmJEiRYoof/78unLlSrp9/HNKZJopU6aYPbIhs/Xc3d0VFhama9euma4U1qtXL9Pp1NKj/S48zPHjx00fIjk4OKhjx4568803063n7OysPXv2PPL+Y2JiNGjQIP35559aunSpGjRoYFqWNk02OjrabDr9g8b1cSUnJ5sdtwFYD+80AFmmYsWKeuedd7RkyRKzG8ekhZrbt2+bytKmQj2p+28WcuPGDZ09e1YVK1ZU2bJl5eDgoKioKJUtW9b0b9OmTY90ZbNChQo6evSo2ZWhP//8Uzdv3lT58uUfun3BggVVsmRJs6sQ0r1nfjk7O5um7P1TlSpVdOjQIbOy+6eeVaxY0fR9q7S+lS5dWp9++qnCw8Mz3GdMTIzp5ildu3bV3LlztWLFCv3xxx86ceLEQ/uSNr0ro748agC5fv26/vrrL9PrtBuaVK1a9bH69jDFihVTnTp1FBYWph9//FE+Pj7p1qlYsaJiYmLMbtCRmJioo0ePWty/rHg0hrOz8yM/YmHBggU6ePCgWrVqpcDAQP34449KTU3Vjh07nqhdqampWrt2rerWrasSJUqYppJeu3bN7H21YsUKbd++XdK9K+v/nCY5d+5cs0c83G/Lli0aM2aMOnfurM8++yxd+Pbw8NCBAwfMAtS+fftUu3ZtiwKDwWCQu7u72e9OamqqwsPD092QKE2JEiXM+pfRBxHnzp1Tjx49dOPGDT3//PPKmzevwsPDdevWLdN37LL6USn32759u/7++2+1a9dO0r1j1enTp83aff36dc2YMUO3b982Ha/u/9nExcWpQYMGGd6YJz4+XgMGDNCFCxe0cuVKs2Ao3TtGFShQwHRnVuned7QvXbqU6bg+jtTUVN26deuxpkQDeHSEQwBZatCgQapQoYLZDQlcXFzk6uqqFStW6MyZMzpw4IA+/fTTLDlx+uSTT7Rz507973//04gRI1S8eHH5+PgoX7586tu3r2bPnq0tW7bowoUL+uabb7Rw4cJH+t5Kr169FBsbqzFjxujUqVM6cOCARowYoSpVqqQ7WcrMO++8o2+++UbfffedIiMjFRQUpFWrVqlv376ZjsEbb7yho0ePau7cuTp79qzWrl1rdlfCBg0ayM3NTUOHDtWBAwd09uxZjRs3Tjt27DDdQOSfChcurF9++UXjx4/XiRMnFBkZqfXr1+u5554zm0qZmbx586pfv3769NNPFRoaqnPnzmnp0qX68ccfzb47aQmj0ahRo0bp+PHjCg8PV2BgoLy8vFSmTJnH6pslvL29tWbNGtnb26tWrVrpltevX1/u7u4aMWKEIiIidPLkSY0ZM0a3bt3S66+/blEdad8zPH78uGJjYx+rnTVr1jT70MMSly5dUmBgoPbt26dLly5p48aNio2NNfWzQIECphP3zKSkpCg6OlrR0dH6+++/FRERoUGDBunMmTOmZyuWLVtWPj4++uijj7Rz506dP39ec+fO1dq1a03ho3///goPD9eiRYsUGRmpsLAwffPNN2rRokW6Oq9evaqAgAA1atRI77//vq5fv25qQ9p01i5duuj69euaMGGCTp8+rZUrV2rz5s0aOHCgxePTt29fBQcHa/Xq1Tp9+rTGjx+v2NjYB17he5jSpUsrKipKkyZNUmRkpH799Vd9+OGH6tKli2m2QoECBRQVFaULFy4oOTn5seuKi4szjcvZs2e1atUq+fv7q3379qbvZL/55ps6cuSIpk2bptOnT2v//v0aPXq0YmNj5ezsrHLlyqlly5YKDAzUgQMHdPr0aY0ZM0aFChUym2qa5rPPPtOJEyc0ffp0ubi4mOqPjo42zdDw8/PTzJkz9csvv+j333/X8OHDVbduXdM08axw4sQJpaSkZNhGAFmPaaUAspS9vb2mTp1quvmKdO/T85kzZ2rq1Klq3769ypYtqzFjxmTJQ9UHDx6sKVOm6K+//jJ9jy/tysPQoUPl4OCgmTNn6urVqypTpowmTpyY7sHiD1K8eHEtX75cn3zyiV577TXly5dPLVq00MiRIy2aVipJ3bt3V3x8vJYsWaLAwECVKVNG/v7+8vPzy3SbGjVqaPHixZo9e7aWL1+u6tWrq1+/ftq0aZOke2O6cOFCzZgxQ4MHD1ZiYqKqVq2qL774ItOrXHny5NGSJUs0ffp09e7dW4mJiapRo4a+/PJLi6bnSTJ9h3Pq1KmKiYlR+fLlNWfOHLVp08ai7dPY2dmpZcuW6tu3ryTJx8fH9AiPx+mbJVq3bq1JkybJy8srw1BuMBi0YMECTZs2TYMGDVJKSorc3d21Zs0aiz9QqFChgry8vDRs2DD16NHD7HEUlkp79MOtW7cyfGZfRsaNG6cZM2boww8/1I0bN1S2bFlNmzbNFBx69uypESNGyMfHR9u2bcvwKsylS5fUuHFjSTLdRMXT01NBQUGmK4aSNHnyZM2ePVtjx45VbGysypcvr/nz55s+LKlWrZrmz5+vefPmadGiRSpZsqSGDRuWYRDbvn277ty5o927d5vqTtOlSxdNmTJFxYsX1xdffKHJkyerY8eOeuGFFzRjxgyLP5yR7t08ZuLEiVq0aJFmzJihl19+WcuXL1exYsUs3sc/2dvba8mSJZo0aZI6duyo5557Tp06dTJ7CHznzp21bds2+fj4mN1t+FFNnDjR9PD55557TmXKlNEHH3ygHj16mNapXLmylixZos8++0xr1qxRoUKF1Lx5c7NH9EyfPl3Tpk3T4MGDlZKSku6Yeb9NmzYpJSUlw+P0zp07VbJkSQ0dOlTJyckaOXKkkpOT1aRJE40fP/6x+5mR/fv3q2rVqnJ1dc3S/QLImMGYVU9oBQDAAuvXr9e4ceMe+epYbtK1a1d17NjR9NxEILfq0KGD+vTpo9dee83WTQFyBaaVAgCQw3zwwQdatWpVhjduAnKL/fv3Kz4+Xh06dLB1U4Bcg3AIAEAO07hxY7m5uen777+3dVMAm5kzZ46mTZv2WHfABfB4mFYKAAAAAODKIQAAAAAgF92tNDU1Vbdv35aDg4NVnzsEAAAAADmR0WhUUlKSChQokOGzYnNNOLx9+7ZOnjxp62YAAAAAgE1VqlQpw8dY5ZpwmPY8skqVKmX4PJ/scOzYMVWvXt0mdecUuX0Mcnv/JcaA/ufu/kuMAf3P3f2XGIPc3n+JMbBl/xMTE3Xy5MlMn9Wca8Jh2lRSR0dHOTk52awdtqw7p8jtY5Db+y8xBvQ/d/dfYgzof+7uv8QY5Pb+S4yBrfuf2dfsuCENAAAAAIBwCAAAAAAgHAIAAAAARDgEAAAAAIhwCAAAAAAQ4RAAAAAAIMIhAAAAAECEQwAAAACACIcAAAAAABEOAQAAAAAiHAIAAAAARDgEAAAAAIhwCAAAAOARJCalPNH2Hh4eNq0fmbO3dQMAAAAAPD0cHezk+2GIzerfNLuDzep+1nHlEAAAAABAOAQAAAAAEA4BAAAAACIcAgAAAACUzTekWbBggbZu3SpJatasmUaNGqUxY8YoIiJC+fLlkyS99957atWqlY4fP66AgADdvn1bnp6eCgwMlL29vS5fvqyRI0fq2rVrKleunGbNmqUCBQpkZzcAAAAA4JmTbVcO9+zZo927d2vDhg0KDg7W77//rp9++knHjh3TqlWrFBISopCQELVq1UqSNHLkSI0fP15hYWEyGo0KCgqSJAUGBsrPz0+hoaGqXr26Fi1alF1dAAAAAIBnVraFQ2dnZ/n7+8vR0VEODg4qX768Ll++rMuXL2vs2LHy9fXVvHnzlJqaqkuXLik+Pl5ubm6SpM6dOys0NFRJSUkKDw+Xl5eXWTkAAAAA4Mlk27TSihUrmv7/3Llz2rp1q1avXq39+/drwoQJKlSokAYNGqR169apYsWKcnZ2Nq3v7OysqKgoxcTEqGDBgrK3tzcrfxTHjh3Lmg49poiICJvWnxPk9jHI7f2XGAP6n7v7LzEG9D93919iDJ72/j/pQ+yzwtM+hjm1/dn6nUNJOnXqlAYNGqRRo0bpX//6lxYuXGha1rt3bwUHB6t8+fIyGAymcqPRKIPBYPrv/f75+mGqV68uJyenJ+vEY4qIiMgRbyZbyu1jkNv7LzEG9D93919iDOh/7u6/xBjk9v5nlad5DG35O5CQkPDAi2XZerfSiIgI9e3bVx9++KE6deqk//3vfwoLCzMtNxqNsre3V8mSJRUdHW0qv3r1qlxcXFSsWDHFxsYqJSVFkhQdHS0XF5fs7AIAAAAAPJOyLRz+9ddfevfddzVr1iy1bdtW0r0wOHXqVN28eVNJSUn69ttv1apVK7m6usrJycl0uTUkJERNmzaVg4ODPD09tWXLFklScHCwmjZtml1dAAAAAIBnVrZNK/3yyy+VkJCg6dOnm8q6d++ut956Sz169FBycrJat26tdu3aSZJmzZqlcePGKS4uTtWqVVOfPn0kSRMmTJC/v78WL16sUqVKac6cOdnVBQAAAAB4ZmVbOBw3bpzGjRuX4bKePXumK6tSpYrWrVuXrtzV1VUrV67M8vYBAAAAQG6Wrd85BAAAAADkTIRDAAAAAADhEAAAAABAOAQAAAAAiHAIAAAAABDhEAAAAAAgwiEAAAAAQIRDAAAAAIAIhwAAAAAAEQ4BAAAAACIcAgAAAABEOAQAAAAAiHAIAAAAABDhEAAAAAAgwiEAAAAAQIRDAAAAAIAIhwAAAAAAEQ4BAAAAACIcAgAAAABEOAQAAAAAiHAIAAAAABDhEAAAAAAgwiEAAAAAQIRDAAAAAIAIhwAAAAAAEQ4BAAAAACIcAgAAAABEOAQAAAAAiHAIAAAAABDhEAAAAAAgwiEAAAAAQIRDAAAAAIAIhwAAAAAAEQ4BAAAAACIcAgAAAABEOAQAAAAAiHAIAAAAABDhEAAAAAAgwiEAAAAAQIRDAAAAAIAIhwAAAAAAEQ4BAAAAACIcAgAAAABEOAQAAAAAiHAIAAAAABDhEAAAAAAgwiEAAAAAQIRDAAAAAIAIhwAAAAAAEQ4BAAAAACIcAgAAAACUzeFwwYIFatu2rdq2bauZM2dKkvbs2SNfX1+1bt1ac+fONa17/Phxde7cWV5eXgoICFBycrIk6fLly+rZs6e8vb31zjvv6Pbt29nZBQAAAAB4JmVbONyzZ492796tDRs2KDg4WL///rs2b96ssWPHatGiRdqyZYuOHTumnTt3SpJGjhyp8ePHKywsTEajUUFBQZKkwMBA+fn5KTQ0VNWrV9eiRYuyqwsAAAAA8MzKtnDo7Owsf39/OTo6ysHBQeXLl9e5c+dUtmxZlSlTRvb29vL19VVoaKguXbqk+Ph4ubm5SZI6d+6s0NBQJSUlKTw8XF5eXmblAAAAAIAnk23hsGLFiqawd+7cOW3dulUGg0HOzs6mdVxcXBQVFaUrV66YlTs7OysqKkoxMTEqWLCg7O3tzcoBAAAAAE/GPrsrPHXqlAYNGqRRo0bJzs5O586dMy0zGo0yGAxKTU2VwWBIV5723/v98/XDHDt27Ina/6QiIiJsWn9OkNvHILf3X2IM6H/u7r/EGND/3N1/iTF42vvv4eFh6yY89WOYU9ufreEwIiJC77//vsaOHau2bdtq//79io6ONi2Pjo6Wi4uLSpYsaVZ+9epVubi4qFixYoqNjVVKSors7OxM6z+K6tWry8nJKcv69CgiIiJyxJvJlnL7GOT2/kuMAf3P3f2XGAP6n7v7LzEGub3/WeVpHkNb/g4kJCQ88GJZtk0r/euvv/Tuu+9q1qxZatu2rSSpVq1aOnv2rCIjI5WSkqLNmzeradOmcnV1lZOTkylRh4SEqGnTpnJwcJCnp6e2bNkiSQoODlbTpk2zqwsAAAAA8MzKtiuHX375pRISEjR9+nRTWffu3TV9+nQNGTJECQkJatasmby9vSVJs2bN0rhx4xQXF6dq1aqpT58+kqQJEybI399fixcvVqlSpTRnzpzs6gIAAAAAPLOyLRyOGzdO48aNy3DZxo0b05VVqVJF69atS1fu6uqqlStXZnn7AAAAACA3y7ZppQAAAACAnItwCAAAAAAgHAIAAAAACIcAAAAAABEOAQAAAAAiHAIAAAAARDgEAAAAAIhwCAAAAAAQ4RAAAAAAIMIhAAAAAECEQwAAAACACIcAAAAAABEOAQAAAAAiHAIAAAAWS0xKeaLtPTw8bFo/8CD2lq546dIlFS5cWAULFlR4eLi2bt2qWrVqqUOHDtZsHwAAAJBjODrYyffDEJvVv2k2596wHouuHIaGhsrLy0uHDx/W+fPn9dZbbyk8PFwff/yxVqxYYeUmAgAAAACszaJwuGjRIg0ePFiNGjVSSEiISpQooY0bN2rmzJn697//be02AgAAAACszKJwePbsWXXs2FGStGvXLjVv3lwGg0HVqlXTX3/9Zc32AQAAAACygUXhsGjRorp69aquXr2qY8eOqVGjRpKkkydPqnjx4lZtIAAAAADA+iy6IU3btm01YsQI5c2bVyVKlFCDBg20ZcsWTZ48WV26dLF2GwEAAAAAVmZROBw5cqRcXV0VGRkpPz8/2dnZ6caNG+rZs6feeecda7cRAAAAAGBlFoXDfv36ady4cerVq5epzM/Pz2qNAgAAAABkL4u+c3jixAnlzZvX2m0BAAAAANiIRVcO+/btq/Hjx+vNN99U6dKl5eTkZLa8RIkSVmkcAAAAACB7WBQOFy9erMTERO3du1cGg8FUbjQaZTAYdPz4cas1EAAAAABgfRaFwy+++MLa7QAAAAAA2JBF4bBu3bqm/09OTpa9vUWbAQAAAACeEhbdkEaSgoOD5e3tLTc3N124cEETJkzQwoULrdk2AAAAAEA2sSgcBgcHa+rUqerYsaPs7OwkSVWqVNGyZcu0bNkyqzYQAAAAAGB9FoXD5cuX66OPPtLbb7+tPHnubdKjRw9NmjRJQUFBVm0gAAAAAMD6LAqHkZGRcnNzS1fu5uamqKiorG4TAAAAACCbWRQOS5UqpRMnTqQr37t3r0qVKpXljQIAAAAAZC+Lbjvav39/ffzxx4qOjpbRaNT+/fu1fv16rVixQsOHD7d2GwEAAJBDJCalyNHB7rG39/DwsGn9ADJnUTjs1q2bkpOTtWTJEsXHxysgIEAlSpTQ6NGj1b17d2u3EQAAADmEo4OdfD8MsVn9m2Z3sFndwLPO4gcW+vn5yc/PT9evX5ejo6MKFixozXYBAAAAALJRpuEwPDzc4p3UqVMnSxoDAAAAALCNTMNh7969ZTAYZDQaZTAYTOVGo1GSzMqOHz9uxSYCAAAAAKwt03C4c+dO0///8ssvWrZsmQICAuTm5iYHBwcdPXpUU6ZMUb9+/bKloQAAAAAA68n0URYlSpQw/Vu6dKkmT56sZs2aqXDhwsqfP7/q1aunjz/+WJ9++mk2NhcAAAAAYA0WPefw6tWrKlKkSLpyR0dHxcXFZXWbAAAAAADZzKJwWKdOHU2ZMkVRUVGmsvPnz2vSpElq0qSJ1RoHAAAAAMgeFj3K4uOPP9aAAQPUvHlzFS1aVEajUTExMapWrZrGjx9v7TYCAAAAAKzMonDo5OSkTZs26b///a/+/PNPGQwGVa1aVfXq1VOePBZdfAQAAAAA5GAWhcPXXntN8+fPV7NmzdSsWTNrtwkAAAAAkM0suuxnNBrl6Oho7bYAAAAAAGzE4iuHAwcOVOfOnVW6dGnlzZvXbLmvr69VGgcAAAAAyB4WhcNFixZJkpYsWZJumcFgIBwCAAAAwFPOonB44sQJa7cDAAAAAGBDFoXDuLg4HT16VDExMSpWrJiqVaumQoUKWbttAAAAAIBs8sBwGBcXp+nTp2vjxo1KTEw0lTs6OsrX11djxoxRwYIFrd5IAAAAAIB1ZRoOExIS1KdPH/3999967733VK9ePRUpUkS3bt1SeHi4VqxYoePHj2vt2rXcyRQAAAAAnnKZPspixYoVunnzpjZu3Ki33npLtWrVUtmyZVWjRg31799fwcHBun37tr7++muLK4uLi1O7du108eJFSdKYMWPUunVrdejQQR06dNBPP/0kSTp+/Lg6d+4sLy8vBQQEKDk5WZJ0+fJl9ezZU97e3nrnnXd0+/btJ+k7AAAAAOD/yzQcbt68WUOHDlXx4sUzXF6sWDENHTpUmzZtsqiiw4cPq0ePHjp37pyp7NixY1q1apVCQkIUEhKiVq1aSZJGjhyp8ePHKywsTEajUUFBQZKkwMBA+fn5KTQ0VNWrVzfdRRUAAAAA8GQyDYcXLlyQu7v7AzeuVauWLly4YFFFQUFBmjBhglxcXCRJd+/e1eXLlzV27Fj5+vpq3rx5Sk1N1aVLlxQfHy83NzdJUufOnRUaGqqkpCSFh4fLy8vLrBwAAAAA8OQy/c6hk5OTYmNjH7jxrVu3VKBAAYsqmjJlitnrq1evqn79+powYYIKFSqkQYMGad26dapYsaKcnZ1N6zk7OysqKkoxMTEqWLCg7O3tzcoBAAAAAE8u03Do5uam9evXKyAgINON169fLw8Pj8equEyZMlq4cKHpde/evRUcHKzy5cvLYDCYyo1GowwGg+m/9/vna0scO3bssdqbVSIiImxaf06Q28cgt/dfYgzof+7uv8QY0P+nu/+Pe+6XlWw5hrm9/xJjkBVyavszDYcDBw5U37595erqqt69e8vOzs60LDU1VcuXL9fatWu1Zs2ax6r4f//7n86dO2eaJmo0GmVvb6+SJUsqOjratN7Vq1fl4uKiYsWKKTY2VikpKbKzs1N0dLRpiuqjqF69upycnB6rzU8qIiIiR7yZbCm3j0Fu77/EGND/3N1/iTGg/7m7/1klt49hbu+/9HSPgS2PAwkJCQ+8WJZpOKxTp47GjRunKVOmaOnSpapRo4aKFCmiuLg4HT58WLdv39bkyZNVvXr1x2qY0WjU1KlTVb9+feXPn1/ffvutOnXqJFdXVzk5OZkGLSQkRE2bNpWDg4M8PT21ZcsW+fr6Kjg4WE2bNn2sugEAjycxKUWODnYPXzETT/rH8EnrBwAAmcs0HEpSjx49VKdOHa1du1ZHjhzRuXPnVLRoUbVv317du3fXiy+++NgVV6lSRW+99ZZ69Oih5ORktW7dWu3atZMkzZo1S+PGjVNcXJyqVaumPn36SJImTJggf39/LV68WKVKldKcOXMeu34AwKNzdLCT74chNqt/0+wONqsbAIBn3QPDoSRVqFBB48aNy7IKf/75Z9P/9+zZUz179ky3TpUqVbRu3bp05a6urlq5cmWWtQUAAAAAcE+mj7IAAAAAAOQehEMAAAAAAOEQAAAAAPCAcDhz5kzdvHlTknT58mUZjcZsaxQAAAAAIHtlGg5XrVql2NhYSVLLli0VExOTbY0CAAAAAGSvTO9WWrp0ab333nuqWrWqjEajJk+enOnD46dNm2a1BgIAAAAArC/TcDhr1iwtWbJEUVFRMhgMunLlihwcHLKzbQAAAACAbJJpOHz55Zf12WefSZJatGih+fPnq2jRotnWMAAAAABA9sk0HN7v559/ltFo1M6dO3Xq1CnZ29urYsWKql+/vuzs7KzdRgAAAACAlVkUDm/cuKH+/fvrjz/+UNGiRZWamqqbN2/q5Zdf1vLly1WkSBErNxMAAAAAYE0WPedw2rRpSklJ0Q8//KC9e/dq37592rx5s4xGo2bNmmXtNgIAAAAArMyicPif//xH48ePV/ny5U1lFSpUUEBAgLZv3261xgEAAAAAsodF4dBoNKpw4cLpyosUKaK7d+9meaMAAAAAANnLonDo5uamZcuWKSUlxVSWkpKipUuXqmbNmlZrHAAAAAAge1h0Q5oRI0bIz89PrVq1MoXBI0eOKC4uTsuXL7dqAwEAAAAA1mfRlcNKlSopJCRE3t7eunPnjlJSUtShQwdt3bpV1atXt3YbAQDIMRKTUh6+0gN4eHjYtH4AADJj0ZVDSXJ1ddWoUaOs2ZYcLzEpRY4Oj/9cx6w4IXiS+gEAT87RwU6+H4bYrP5NszvYrG4AwLPN4nAITggAAAAAPLssmlYKAAAAAHi2EQ4BAAAAAJaFQ39/f509e9babQEAAAAA2IhF4XDbtm1ycHCwdlsAAEAOx91aAeDZZdENaXx9fTVv3jy9++67cnV1lb0997EBcqOsuGMud+0Fnm7cnA0Anl0Wpby9e/fq3Llz2rRpkwwGg/LkMb/geOzYMas0DkDOYuuTQokTQwAAAGuxKBwOGjTI2u0AAAAAANiQReGwU6dO1m4HAAAAAMCGLH6URXh4uAYOHKgWLVro0qVLmj9/voKDg63YNAAAAABAdrEoHO7cuVMDBw5UqVKldPXqVaWmpspgMCggIEDff/+9tdsIAAAAALAyi8LhggULNGrUKE2aNEl2dvfuEvjee+9p9OjRWr58uVUbCAAAkFPY+lEeWdEGAMiMRd85/PPPP9W0adN05c2bN9esWbOyvFEAAAA5EXdtBvAss+jKYdGiRXXhwoV05ceOHVPx4sWzvFEAAAAAgOxlUTjs1q2bAgMDtXPnTknS+fPntW7dOk2aNIk7mQIAAADAM8Di5xzGxsZqyJAhSkxM1IABA2Rvb69+/frp3XfftXYbAQAAAABWZlE4NBgMGjlypN59912dPn1aDg4Oeumll5Q3b15rtw8AAAAAkA0sCoeSFB8fry1btujUqVNydHRUxYoV5ePjI3t7i3cBAAAAAMihLEp2Z8+eVe/evXX37l3961//UmpqqlatWqWFCxfqiy++UJkyZazdTgAAAACAFVl0Q5px48apdu3a+uWXX/Tdd9/p+++/144dO1SmTBkFBgZau40AAAAAACuzKBwePXpUH3zwgQoUKGAqK1KkiEaOHKnw8HCrNQ4AAAAAkD0sCodlypRRZGRkuvKoqCiVLFkyyxsFAAAAAMhemX7n8ODBg6b/b9++vQICAjRs2DC5ubnJzs5Of/zxh2bOnMmjLAAAAADgGZBpOPTz85PBYJDRaDSVjR8/Pt16gYGB6t69u3VaBwAAAADIFpmGw+3bt2dnOwAAAAAANpRpOHR1dc3OdgAAAAAAbMii5xxeuHBBc+fO1alTp5SYmJhueVhYWJY3DAByosSkFDk62D329h4eHjatHwAAIDMWhcPRo0crKipKbdq0Ud68ea3dJgDIsRwd7OT7YYjN6t80u4PN6gYAAM82i8LhH3/8odWrV6tatWrWbg8AAAAAwAYses5h2bJldffuXWu3BQAAAABgIxZdOfzoo480adIk9evXT6VLl1aePOaZsnbt2lZpHAAAAAAge1gUDs+ePavTp0/L398/3TKDwaDjx49necMAAAAAANnHonA4b948denSRb169VK+fPms3SYAAAAAQDazKBzGxcVp4MCBKl26tLXbAwAAAACwAYtuSOPl5aVt27ZZuy0AAAAAABux6Mqhq6ur5s6dqx9//FFly5aVvb35ZpMmTbKosri4OHXv3l2ff/65SpcurT179mjatGlKSEhQmzZtNGzYMEnS8ePHFRAQoNu3b8vT01OBgYGyt7fX5cuXNXLkSF27dk3lypXTrFmzVKBAgUfsMgAAAADgnyy6crh//37VrFlTdnZ2unjxos6dO2f2zxKHDx9Wjx49TOvHx8dr7NixWrRokbZs2aJjx45p586dkqSRI0dq/PjxCgsLk9FoVFBQkCQpMDBQfn5+Cg0NVfXq1bVo0aJH7zEAAAAAIB2LrhyuXLnyiSsKCgrShAkTNGrUKEnSkSNHVLZsWZUpU0aS5Ovrq9DQUFWoUEHx8fFyc3OTJHXu3Fnz5s1T165dFR4eroULF5rKe/XqpZEjRz5x2wAAAAAgt7MoHB48ePCByy15zuGUKVPMXl+5ckXOzs6m1y4uLoqKikpX7uzsrKioKMXExKhgwYKmKa1p5Y/q2LFjj7xNGg8Pj8feNqtERETYuglP7Fnow5N4mvufE94Dkm3HMCeMAf237Xsot48B/bd9/yXGgP5zHLT1GDypnNp+i8Khn5+fDAaDjEajqcxgMMhgMChPnjyPFbhSU1NlMBhMr41GowwGQ6blaf+93z9fW6J69epycnJ65O1yipzwZnwSERERT30fnkRu739Wye1jSP9zd/8lxiC3919iDOh/7u6/9HSPgS3PBxMSEh6Y3SwKh9u3bzd7nZKSorNnz+qzzz7TiBEjHqthJUuWVHR0tOl1dHS0XFxc0pVfvXpVLi4uKlasmGJjY5WSkiI7OzvT+gAAAACAJ2fRDWlcXV3N/r344otq1qyZxo4dq2nTpj1WxbVq1dLZs2cVGRmplJQUbd68WU2bNpWrq6ucnJxMl1pDQkLUtGlTOTg4yNPTU1u2bJEkBQcHq2nTpo9VNwAAAADAnEVXDjPz/PPPKzIy8rG2dXJy0vTp0zVkyBAlJCSoWbNm8vb2liTNmjVL48aNU1xcnKpVq6Y+ffpIkiZMmCB/f38tXrxYpUqV0pw5c56k+cAjS0xKkaOD3WNv/6RTCJ60fgAAACAzj31Dmri4OH399deqWLHiI1X4888/m/6/QYMG2rhxY7p1qlSponXr1qUrd3V1zZI7pwKPy9HBTr4fhtis/k2zO9isbgAAADzbHvuGNNK9sPbJJ59YpWEAAAAAgOzzWDekkSQHBwduCJMLMa0SAAAAeDZZFA5dXV2t3Q48JZhWCQAAADybMg2HH330kUU7MBgMmjhxYpY1CAAAAACQ/TINh+fOnXvghhcvXtRff/0le3t7wiEAAAAAPOUyDYeZ3RU0OTlZn3/+uQ4dOqSqVatq6tSpVmscAAAAACB7PNJzDv/44w+NGTNGZ8+e1eDBgzVo0CDZ2XFzEAAAAAB42lkUDhMTE7VgwQJ9+eWXqlatmtavX68KFSpYu20AAAAAgGzy0HD422+/KSAgQJcuXdLw4cPVr18/5cmTJzvaBgAAAADIJpmGw4SEBM2ZM0erVq2Su7u7Fi9erBdffDE72wYAAAAAyCaZhsP27dvr/PnzKlOmjBo1aqQtW7ZkupO3337bKo0DAAAAAGSPTMNhUlKSSpUqpeTkZH333XeZ7sBgMBAOAQAAAOApl2k4/Pnnn7OzHQAAAAAAG+LOMgAAAAAAwiEAAAAAgHAIAAAAABDhEAAAAAAgwiEAAAAAQIRDAAAAAIAIhwAAAAAAEQ4BAAAAACIcAgAAAABEOAQAAAAAiHAIAAAAABDhEAAAAAAgwiEAAAAAWCwxKeWJtvfw8LBp/Q9ib7U9AwAAAMAzxtHBTr4fhtis/k2zO1ht31w5BAAAAAAQDgEAAAAAhEMAAAAAgAiHAAAAAAARDgEAAAAAIhwCAAAAAEQ4BAAAAACIcAgAAAAAEOEQAAAAACDCIQAAAABAhEMAAAAAgAiHAAAAAAARDgEAAAAAIhwCAAAAAEQ4BAAAAACIcAgAAAAAEOEQAAAAACDCIQAAAABAhEMAAAAAgAiHAAAAAAARDgEAAAAAIhwCAAAAAEQ4BAAAAACIcAgAAAAAkGRv6wZIUu/evXX9+nXZ299rzsSJE3X79m1NmzZNCQkJatOmjYYNGyZJOn78uAICAnT79m15enoqMDDQtB0AAAAA4PHYPFUZjUadO3dOO3bsMIW8+Ph4eXt7a+XKlSpVqpQGDRqknTt3qlmzZho5cqQmT54sNzc3jR07VkFBQfLz87NxLwAAAADg6WbzaaVnzpyRJPXv31/t27fXqlWrdOTIEZUtW1ZlypSRvb29fH19FRoaqkuXLik+Pl5ubm6SpM6dOys0NNSGrQcAAACAZ4PNw+GtW7fUoEEDLVy4UCtWrNDatWt1+fJlOTs7m9ZxcXFRVFSUrly5Ylbu7OysqKgoWzQbAAAAAJ4pNp9W6u7uLnd3d9PrLl26aN68efLw8DCVGY1GGQwGpaamymAwpCt/FMeOHXvstt7fJluJiIiwaf25fQzov+37LzEG9J/jIL8Dubv/EmNA/zkO8jtgnf7bPBweOHBASUlJatCggaR7gc/V1VXR0dGmdaKjo+Xi4qKSJUualV+9elUuLi6PVF/16tXl5OSUNY23gZzwy2hruX0Mcnv/JcaA/ufu/kuMQW7vv8QY0P/c3X+JMXjc/ickJDzwYpnNp5XGxsZq5syZSkhIUFxcnDZs2KDhw4fr7NmzioyMVEpKijZv3qymTZvK1dVVTk5OpqQcEhKipk2b2rgHAAAAAPD0s/mVw+bNm+vw4cPq2LGjUlNT5efnJ3d3d02fPl1DhgxRQkKCmjVrJm9vb0nSrFmzNG7cOMXFxalatWrq06ePjXsAAAAAAE8/m4dDSRo6dKiGDh1qVtagQQNt3Lgx3bpVqlTRunXrsqllAAAAAJA72HxaKQAAAADA9giHAAAAAADCIQAAAACAcAgAAAAAEOEQAAAAACDCIQAAAABAhEMAAAAAgAiHAAAAAAARDgEAAAAAIhwCAAAAAEQ4BAAAAACIcAgAAAAAEOEQAAAAACDCIQAAAABAhEMAAAAAgAiHAAAAAAARDgEAAAAAIhwCAAAAAEQ4BAAAAACIcAgAAAAAEOEQAAAAACDCIQAAAABAhEMAAAAAgAiHAAAAAAARDgEAAAAAIhwCAAAAAEQ4BAAAAACIcAgAAAAAEOEQAAAAACDCIQAAAABAhEMAAAAAgAiHAAAAAAARDgEAAAAAIhwCAAAAAEQ4BAAAAACIcAgAAAAAEOEQAAAAACDCIQAAAABAhEMAAAAAgAiHAAAAAAARDgEAAAAAIhwCAAAAAEQ4BAAAAACIcAgAAAAAEOEQAAAAACDCIQAAAABAhEMAAAAAgAiHAAAAAAARDgEAAAAAIhwCAAAAAEQ4BAAAAADoKQ2HmzZtko+Pj1q3bq3Vq1fbujkAAAAA8NSzt3UDHlVUVJTmzp2r9evXy9HRUd27d1e9evVUoUIFWzcNAAAAAJ5aT92Vwz179qh+/foqUqSI8ufPLy8vL4WGhtq6WQAAAADwVHvqrhxeuXJFzs7OptcuLi46cuTIQ7czGo2SpMTExCeqv0gBuyfa/kkkJCTYrO775fYxoP+267/EGNB/2/dfYgzoP8dBfgdyd/8lxuBp7X9aFkrLRv9kMGa2JIdavHixEhISNHToUElSUFCQjh07pokTJz5wu9jYWJ08eTIbWggAAAAAOVelSpVUqFChdOVP3ZXDkiVL6sCBA6bX0dHRcnFxeeh2BQoUUKVKleTg4CCDwWDNJgIAAABAjmM0GpWUlKQCBQpkuPypC4cNGzbU/Pnzdf36deXLl08//vijJk2a9NDt8uTJk2E6BgAAAIDcIm/evJkue+rCYYkSJTRs2DD16dNHSUlJ6tKli2rWrGnrZgEAAADAU+2p+84hAAAAACDrPXWPsgAAAAAAZD3CIQAAAACAcAgAAAAAIBwCAAAAAEQ4BAAAAKzqwoULtm4CYBHCIQBYaOTIkapevbqioqKsWk9qaqreffddrVq1Kt2yFStW6P3337dq/WkqV66sWrVqKS4uzqw8KSlJ9erVU4sWLbKlHT/99JNee+21dOUXLlxQnTp1dPv27WxpR273/vvva/78+Q9cZ/369ercuXOW1JdT3gf3y65jwP0SEhLUrVs37dixI92yyZMna8aMGVat/+zZs3rnnXdUp04dubu7q3379vruu++sWmcaW/f9n/bu3as33nhDtWvXVp06ddSzZ09t27btodv98ccf6tGjxyPXl1kfMzsmAlmBcJiJtJMid3d3ubm5qXHjxho/frxu3ryZLfVndkBcsWKFmjRpotq1a2vEiBG6c+dOtrRHsuzEICvExMSoZcuWOnnypFn5g04UrKVFixaqWbOm3N3dzf6FhYU9dLuM/pg9isxOfo4cOaLGjRs/0b4tZetwkBPGIM3Nmze1c+dOeXl5ae3atVar5/Lly3r77bfTnXDcuXNHM2fO1PTp061Wd0by5s2r7du3m5Xt2rVLSUlJVq87OTlZy5Yt0/Dhw/XPpy5t27ZNfn5+unXrltXbcb/ceBy0hZz2PpCy7xhwv5MnT6pPnz46fPiwWXlMTIz8/f21cuVKq9afmpqqgQMHqnr16tq1a5ciIiI0btw4ffLJJw/9O/ikbN33f9q0aZM++OADtWvXTr/88ov27Nmjvn37avz48VqxYsUDt42NjX2kY2ZmfXzQMdGaKleurAkTJqQrz4pzHUvY+niYUzOBZJ0PSQiHD/Ddd9/p0KFD+u233/Tdd98pKipKb731llJTU61ab2YHxB07dujLL7/UN998o507d+rmzZuaN2+eVduS3Q4cOCA/Pz9dvHjRrDyzE4Xs8Nlnn+nQoUNm/7y8vKxWX2YnP0ajUevWrVP//v2z5cQ8jS3CQU4bA0kKDg6Wp6enevbsqaCgICUmJkqS5s+fr2HDhqlPnz5yc3NT165ddfz4cUnSvn371KZNG7355puqW7eu9u3b98A6EhMT1alTJ1WqVEnu7u5my9577z1FRkbq9ddft04HM+Hl5aUffvjBrGzTpk1q3bq1Wdk333wjX19feXh4qGHDhqYAtWDBAvXv399s3c6dO2vLli0Prfvjjz/Wzp07022/ceNGTZs2Te++++7jdCnHy4nHwfv5+/ubnYzs2LEjww+KXn31VW3atMn0+uTJk6pTp47pvZOZnPg+kB58DLj/Q6yTJ0+qcuXKptf//ve/1axZMzVs2FCffPKJWrRo8dBjgSRdunRJvXv3lpeXl1544QWzZX5+frKzs7Pq3yLp3kn5xYsX1b59e+XNm1d58uRR3bp1NXLkSNMxeM2aNWrdurXq1aund999V9HR0ZLuHf/atm2rjz/+WO7u7mrZsmW6Y0lmckLf7xcfH6/Jkydr4sSJ6tq1qwoWLCgHBwe1atVKc+bM0axZs3Tt2jWdPHlSvXr1MvV348aNunbtmt58803duHFD7u7uiomJeWh9mfUxs2Nidvj222+1c+fObK83pxwPc1omsOaHJIRDC5UqVUpz5szRqVOn9J///EfS/x0smjRposaNG2vGjBmmPxapqalasGCBmjRpIk9PTw0ePNiiA8KDDoghISHq0qWLypUrp0KFCumDDz7QunXrlJKSkuX9fZCYmBh9+OGHatGihWrVqiVfX19FRERIujelaMCAARo5cqRq166tV199VcHBwRbt98CBA/rggw80aNAgs/IHnSjY0v/+9z/17t1bnp6e8vX1TXfQ3Lt3r7y9vdWwYUMFBgYqPj7eov1mdvLz+eef65tvvtHbb7+dZX2wxJOGA+nep26BgYGqU6eOlixZ8tA6c9oYSPf+MLz22muqXbu2ihUrptDQUNOyrVu3qnv37goPD1ezZs00ePBg07HgzJkz8vb21s6dO+Xh4fHAOuzt7bV582aNGDFCDg4OZsumTZumhQsXqnjx4lnfuQfw8fHRvn37TMevuLg4hYeHq3nz5qZ1Dhw4oM8//1zz589XRESE5s2bp4ULFyoyMlLt27fXvn37dP36dUn3pqidO3fOoqvOQ4YM0apVq1S2bFmz8kaNGiksLCzbrx7f70EBKTcdBx+kXbt2Zh8CbNq0SV5eXnJ0dHzgdjnxfSA9+BiQmb1792rOnDmaP3++duzYobi4OF26dMmi+ooWLapt27apf//+MhgMZstWrFihKVOmKH/+/I/VF0s9//zzqlu3rvr166d58+bp119/1Z07d9S1a1e1a9dOW7du1dKlS7Vw4UL98ssvKlOmjIYNG2ba/s8//5SDg4P27dunwMBA+fv769SpUw+tNyf0/X6HDh3SnTt31LJly3TL6tevLxcXF23btk2DBg1S/fr1tW/fPs2dO1cTJkzQjRs3tGzZMhUpUkSHDh1S0aJFH1pfZn3M7JiYHbp27aqAgADduHEjw+VXr17Vhx9+qHr16qlZs2aaOXOmEhMTdfbsWVWvXt3sKttnn31m9nuSmZx6PMwJmcCaH5IQDh9BgQIFVLt2bVMQmjFjhs6cOaONGzdq48aNOnbsmD7//HNJ9z5hCQ4O1tdff609e/YoX758mjx58kPreNAB8cyZM6pQoYLpdbly5RQbG5ut332QpE8++USStGXLFoWHh8vDw0OzZ882Ld+9e7caNWqk/fv3q3fv3po0aZISEhIeut+KFStq+/bt6tixo1n5g04UbCUuLk4DBgyQt7e3fv31V40bN04jRozQ2bNnTevs2bNHX331lTZt2qQjR45o8eLFFu07s5Of1157TSEhIapRo0aW9uVhnjQcpElISNB///tf9ezZ86F15rQxOHjwoG7duqVXXnlFktS9e3etXr3atLxBgwby8fGRg4OD3nnnHd25c0cHDx6UJBkMBvn6+ipfvnyyt7d/YD158uSRs7NzhstKlCiRNZ15RMWKFVOdOnX0448/Srr3XZdXXnnF7AS/WrVqWr9+vV566SVdvXpVSUlJyps3r65cuaIXX3xR1apVM01B27x5s1q3bq28efM+tO7M+vz8888/dCxtLTccBx/G19dXu3fvVmxsrCTphx9+kK+v70O3y4nvg4cdAzKzceNGdezYUTVr1pSTk5NGjx5t8e9u/vz5VahQoQyXZec4fPHFF+rVq5d+/fVXDRw4UHXr1tXw4cMVExOjdevWqW/fvqpYsaKcnJw0fPhwHT582PS3MH/+/BoxYoQcHR3VuHFjNWnSRFu3bn1onTml72muXr2qIkWKZPreK168uG7cuKE7d+5o8ODBcnR0VM2aNbVmzZrHam9m29jq91+SevXqpQoVKmQ4vVS696GuJG3fvl1BQUHav3+/5s2bp3Llyunll182/Q2R7p0/dujQ4aF15uTjoa0zgTU/JCEcPqLChQsrNjZWRqNR69ev14gRI1S0aFEVK1ZMQ4YMUVBQkKR7fwR79+6tf/3rX3J0dFRAQIBFVzsedEC8e/eu2QlVvnz5TOXZadiwYQoMDJSdnZ0uX76s5557ziygvvDCC+rYsaPs7e3VsWNHxcXF6dq1aw/db+HChTM8YXzQiUJ2GD58uDw9PU3/Ro8erZ07d6pYsWLq2bOn7O3tVa9ePb366qvasGGDabu3335bpUqV0vPPP6933nnH4uk0mR38XVxc0h0cssOThoM0bdu2laOjowoWLPjQOnPaGAQFBSkmJkZNmzZVo0aNNG/ePP322286duyYJOnFF180rWtnZydnZ2ddvXpV0r3f64ddKcnp2rVrp82bN0u6d/Wnffv2Zsvz5MmjRYsWqV69eurTp4/pfZA23aZ9+/amK0ibN2+2KCA87Z614+DjKF++vCpWrKht27bp4MGDSklJUZ06dWzdrMfysGNAZq5cuaJSpUqZXufPn19FihSxcmuzlpOTk/r27as1a9YoIiJCS5cu1dmzZzV27Fj99ddf+vTTT01/Hxs2bCiDwaDLly9LkkqWLCknJyfTvkqWLGk6Nj5NihcvrmvXrmU6Jfry5csyGAxycXFRnjz/d2pdtWpVi/7mPQ0MBoOmTZum//73v2bTxSXp/PnzOnTokAICAlSwYEGVKFFCH3zwgelvQYcOHUx/A44cOaJbt25ZNPMjpx8PbZkJrPlBQc7+6DUHunHjhipWrKjr168rPj5evXv3Np2sGo1GJSUlKSEhQVevXlXJkiVN2xUrVkzFihV7orrz5s1r9slzWigsUKDAE+33UV25ckVTpkzR6dOnVa5cORUpUsTsi9H3T5lI+4TU2nOyrWnOnDlmV8kkadmyZTp9+rQ8PT1NZSkpKWrVqpXp9f1TAEqUKGH6HsbTqF27dvr+++/1+uuva9OmTXr77bfN7hCZFg7CwsL0/PPPq3r16pLMf+62mAaWFWJjYxUaGqoVK1aYhcApU6Zo1apVcnV1NQvBycnJunLlikqWLJntU76tpVWrVgoMDNTvv/+u8+fPq06dOqapNJL01Vdf6eTJk9q2bZsKFSqkpKQks+mEPj4+mjFjhvbu3avbt2+rfv36NuhF9noWjoPBwcG6c+eO/Pz8JN27EZWTk5Py5Mlj9p3fzKaZSfc+GAgLC9NLL72ktm3bmp04Py0edgwoU6aMWWi4fzxKlSplCkrSvalnDxqvnGbLli2aNWuWtm/fLoPBICcnJzVs2FDvvPOOpk2bphdffFH9+/dXly5dTNucPn1aZcqU0aFDh3Tt2jWlpKTIzs5O0r0QVbNmTVt157F5eHjoueee06ZNm9LdJXTXrl26ceOG3Nzc9OWXXyo1NdX0e7569WrT38NnQalSpTRu3DhNnDjR7IOea9euKX/+/GbnuS+88ILpw+K2bdtq5syZunbtmjZt2qS2bdvm+NkflrBlJrCmp+8obUNxcXE6ePCgqlWrZppeEBwcrAMHDujAgQPatWuXNm/eLCcnJ5UoUcLsatqFCxe0YMGCJ6q/fPnyOnPmjOn12bNnVahQIbm4uDzRfjMTHBysNWvWmF6nnRgMHz5cr776qn799VetXbtW3t7eVqk/J3N2dpabm5vpZ3/gwAFt3bpVY8aMMa1z/6ejly9fTjdf/GnSqlUrHTt2zCwc3O/+cLBlyxZNmTJFycnJZuvY4opfVggJCdGLL74oDw8POTs7m/516dJFP/zwg2JiYrRr1y7t2bNHSUlJWrhwoYoWLfrUfC/MEgUKFNArr7yiUaNGycfHJ93PMi4uTg4ODnJwcNDt27c1Y8YMJSUlmX4HihUrpgYNGmj69Ony8fExnSg+DTI7Dj5KQHpaxcXF6d///rdiY2N1/vx5/fbbb6pSpYpeeukl/fLLL7p27ZquXbv2wDt3tm3bVvv379fPP/+c7orz0+Jhx4By5crp4MGDOn/+vOLi4szuXNmxY0eFhITo6NGjSkxM1Ny5c9MdG3OyBg0a6M6dO5oyZYquXbsmo9GoyMhIrV27Vs2bN1enTp301VdfKTIyUqmpqVq5cqW6detm+vD65s2bWrp0qZKSkrRz5079+uuvatu2rY179egcHR01YcIETZ8+Xd99953i4uJ09+5dhYWFafTo0Ro2bJjc3NxUuHBhLVu2TMnJyTpy5Ig+/fRTFSxYUI6OjkpMTHzozZieBh07dlT9+vU1ZswY04WBF154QXfu3DF9t1ySLl68aDpXLlKkiBo3bqywsDCFhoZaNKU0p7N1JrAmwqGFLly4oA8//FDVq1dX48aNZWdnJ19fX82aNUu3bt3SnTt3NH78ePn7+0u6912LVatW6fz580pISNC8efN07ty5J2pD+/bt9e233+rUqVOKi4vTvHnz5Ovra7VPYjM7MYiLi1O+fPlkMBh0+vRpLVu2LNvvHGlrr7zyis6cOaPNmzcrJSVFp0+fVteuXc3umvX555/rypUrioqK0uLFi5/qZxI9aTh4mgUFBaldu3bpyhs2bKiiRYsqKChINWvW1LJly1SvXj0dOHBAS5YseaoCkCV8fX31559/ZniC369fP9nb26tBgwby8vJSYmKiateurdOnT5ttf+LEiaduSmlWBKSnVdeuXVW5cmW1bNlSXbt21WuvvaamTZvq9ddfV/ny5eXl5SU/Pz+1adMm032kfZDm6OioKlWqZGPrs87DjgFnzpxRixYt1LVrV7Vv317NmjUzrePp6akhQ4bo7bff1iuvvKK8efPK3t7+qfneaNGiRbVmzRpduXJF7dq1k5ubm/r166caNWrI399fHTp0UNeuXfXmm2/K09NTISEhWrJkiQoXLixJeu655/T333+bbtDx2Wef2eRmKlmhTZs2WrhwoUJDQ9W8eXM1btxY33zzjQIDAzVgwAA5Ojpq8eLF2rNnj+rXr6+RI0dqypQpKl++vCpXrqwKFSqoXr16Zt/Ff1oFBgbq5MmTpqviJUqUUIMGDTRlyhTdvn1bUVFRpnPUNB07dtTSpUtVsGDBbL9vQFbLCZnAqozIUKVKlYw1a9Y0urm5Gd3d3Y3Nmzc3Tp061Xj79m3TOrGxscYJEyYYGzdubPT09DQOGjTI+PfffxuNRqMxNTXV+PnnnxubN29urFOnjnHo0KHGmzdvPlIbmjdvbvz555/Nyr7++mtj8+bNjR4eHsbhw4cb79y58+SdzUR8fLzxww8/NNapU8dYt25d4yeffGI0Go3Gbdu2GVu2bGl0d3c3ent7G5ctW2asVq2a8fr168bvv//e2KlTJ9M+4uLijJUqVTJeuHDhkequVKmS8X//+1+68l69ehlXrlz5ZB17BBn9DNIcO3bM6OfnZ/Tw8DA2adLEuHDhQrPtZs6caWzSpImxYcOGxlmzZhmTkpIeqe558+YZhwwZkq78119/NdatW/fROvKY7v85bN++3VipUiXjqVOnjEaj0fjzzz8bmzdvbjQajcarV68a+/bta3RzczM2atTI+NFHHxm7d+9u/Prrr9Pt51HkhDF4mMzaCHMHDhwwenl52boZjyyz4+CNGzeMb7/9ttHDw8PYunVr41dffWV6Pzxrx8EnFRAQYFyyZImtm2ETp0+fNp4/f970+s6dO8ZKlSoZz5w5Y8NWZY+cdJzGk8noWJR2TpB2jhQdHW0cOnSosV69esZ69eoZp0yZYoyPjzetn5CQYKxbt65x8eLFWdYGozF7joc5NRMYjUbj6NGjjdOnT3+yDv6DwWjMxqdoAsAzZv78+Tp16tQz98zRrBIfH6/IyEjNnDlTDRs21IABA2zdJGSTqKgonTlzRkOHDtXGjRtteqdFW/nhhx+0aNEirVy5UoUKFdKCBQv0ww8/6Keffnpqp9pbat++fXr//fcteqYjgJzj6f82KAA8JRo1aqQ7d+5kuMzX11cTJ07M5hZZ361bt9S9e3fVrFnT7DEm06dP17fffpvpdocOHcqO5sGKtm7danqe2f3BMDe9D3x8fHT8+HG1b99ed+7cUbVq1bR48WLduHHjgc/6HDRokE2e55odYmJicm3fJalLly5mU+7v5+HhoS+++CKbWwSY48phNsrNB8Q//vjjgc+3CwwMfGpvVvAo3n//fe3atSvDZS+88ILFj7t4mjEGyK04DgLAPbn9eJiTMwHhEAAAAADA3UoBAAAAAIRDAAAAAIAIhwAAPFCLFi1UuXJlrVmzJsPlAwYMUOXKlRUSEpIl9f31119m373t3bu3AgICsmTfAAA8COEQAICHcHBwUFhYWLryGzduZPmt+seOHZvpTZsAALAmwiEAAA9Rv359hYeH6/r162blP/30k2rVqpWldXGfOACArRAOAQB4CHd3dxUvXlzbtm0zK9+6dat8fHzMyrZv367OnTurVq1aeuWVVzR//nwlJydLuvdg8Bo1amjbtm3y9vaWm5ubunXrpgMHDkiS/P39tXfvXm3YsEGVK1c27TMuLk6jRo2Su7u76tWrpylTpiglJcXKvQYA5DaEQwAAHsJgMKh169ZmU0uvX7+u8PBweXl5mcp+/PFHDRkyRG3atFFwcLBGjRqllStXatq0aaZ1kpKStGDBAk2ePNn0PcaxY8fKaDQqICBAnp6eatOmjXbv3m3aJjQ0VGXLltXGjRvl7++vlStXatOmTdnQcwBAbkI4BADAAt7e3tq3b59u3rwp6V4QrF27tooXL25aZ+nSpWrTpo3efPNNlStXTj4+Pho6dKjWrl2r2NhYSfemjQ4bNkyenp56+eWX9dZbbykyMlIxMTEqVKiQHBwclDdvXjk7O5v26+7urnfffVdlypRRp06dVKlSJR07dix7BwAA8MwjHAIAYAEPDw8VLVpU27dvl5TxlNJTp06pdu3aZmV16tRRcnKyzpw5YyorV66c6f8LFSok6d4Vxczcv74kFS5cWPHx8Y/XEQAAMkE4BADAAgaDQV5eXgoLC9P169d18OBBtWrVymydvHnzptsu7buB9vb2pjJHR8d06z3oRjR58qT/c82NawAAWY1wCACAhby9vbVnzx4FBwerbt26KlasmNny8uXLKyIiwqwsIiJCDg4OevHFFy2qw2AwZFl7AQB4FIRDAAAsVLt2bRUuXFgLFixIN6VUkt555x1t3bpVy5Yt07lz57R161bNmzdPXbt2NU0ffZgCBQro4sWLunTpUlY3HwCAByIcAgBgoTx58sjLy0uJiYl69dVX0y1v0qSJZsyYoeDgYLVr106ffPKJ+vTpo4CAAIvr6Nmzp86ePSsfHx9FR0dnZfMBAHggg5EvLQAAAABArseVQwAAAAAA4RAAAAAAQDgEAAAAAIhwCAAAAAAQ4RAAAAAAIMIhAAAAAECEQwAAAACACIcAAAAAABEOAQAAAACS/h+3VpNWs8vPiwAAAABJRU5ErkJggg==\n",
      "text/plain": [
       "<Figure size 1080x432 with 1 Axes>"
      ]
     },
     "metadata": {},
     "output_type": "display_data"
    }
   ],
   "source": [
    "# Create a plot that shows the number of orders per month \n",
    "ax = df2.groupby('InvoiceNo')['year_month'].unique().value_counts().sort_index().plot(kind='bar',figsize=(15,6))\n",
    "ax.set_xlabel('Month',fontsize=15)\n",
    "ax.set_ylabel('Number of Orders',fontsize=15)\n",
    "ax.set_title('Number of orders for per Month (1st Dec 2010 - 9th Dec 2011)',fontsize=15)\n",
    "ax.set_xticklabels(('Dec_10','Jan_11','Feb_11','Mar_11','Apr_11','May_11','Jun_11','July_11','Aug_11','Sep_11','Oct_11','Nov_11','Dec_11'), rotation='horizontal', fontsize=13)\n",
    "plt.show()"
   ]
  },
  {
   "cell_type": "code",
   "execution_count": 140,
   "metadata": {
    "colab": {
     "base_uri": "https://localhost:8080/",
     "height": 139
    },
    "colab_type": "code",
    "executionInfo": {
     "elapsed": 5079,
     "status": "ok",
     "timestamp": 1574027524187,
     "user": {
      "displayName": "Rajeev Ratan",
      "photoUrl": "https://lh3.googleusercontent.com/a-/AAuE7mCGo6aIm0tOcd5EhqWlYb0rime9sBvHS9YMpx0D2w=s64",
      "userId": "08597265227091462140"
     },
     "user_tz": 0
    },
    "id": "iv4t2wMjjPu4",
    "outputId": "2e01dcfc-17ab-4d18-ca5a-6b442275bef8"
   },
   "outputs": [
    {
     "ename": "TypeError",
     "evalue": "unhashable type: 'numpy.ndarray'",
     "output_type": "error",
     "traceback": [
      "\u001b[1;31m---------------------------------------------------------------------------\u001b[0m",
      "\u001b[1;31mTypeError\u001b[0m                                 Traceback (most recent call last)",
      "\u001b[1;32mpandas\\_libs\\hashtable_class_helper.pxi\u001b[0m in \u001b[0;36mpandas._libs.hashtable.PyObjectHashTable.map_locations\u001b[1;34m()\u001b[0m\n",
      "\u001b[1;31mTypeError\u001b[0m: unhashable type: 'numpy.ndarray'"
     ]
    },
    {
     "name": "stderr",
     "output_type": "stream",
     "text": [
      "Exception ignored in: 'pandas._libs.index.IndexEngine._call_map_locations'\n",
      "Traceback (most recent call last):\n",
      "  File \"pandas\\_libs\\hashtable_class_helper.pxi\", line 1709, in pandas._libs.hashtable.PyObjectHashTable.map_locations\n",
      "TypeError: unhashable type: 'numpy.ndarray'\n"
     ]
    },
    {
     "data": {
      "text/plain": [
       "[1]    2748\n",
       "[2]    3049\n",
       "[3]    3297\n",
       "[4]    3891\n",
       "[5]    2692\n",
       "[7]    2133\n",
       "Name: dayofweek, dtype: int64"
      ]
     },
     "execution_count": 140,
     "metadata": {},
     "output_type": "execute_result"
    }
   ],
   "source": [
    "# Let's see number of orders per day of the week\n",
    "df2.groupby('InvoiceNo')['dayofweek'].unique().value_counts().sort_index()"
   ]
  },
  {
   "cell_type": "code",
   "execution_count": 141,
   "metadata": {
    "colab": {
     "base_uri": "https://localhost:8080/",
     "height": 419
    },
    "colab_type": "code",
    "executionInfo": {
     "elapsed": 4781,
     "status": "ok",
     "timestamp": 1574027541533,
     "user": {
      "displayName": "Rajeev Ratan",
      "photoUrl": "https://lh3.googleusercontent.com/a-/AAuE7mCGo6aIm0tOcd5EhqWlYb0rime9sBvHS9YMpx0D2w=s64",
      "userId": "08597265227091462140"
     },
     "user_tz": 0
    },
    "id": "NFss0bbvjPu6",
    "outputId": "0b274f7b-f3f4-4537-f90c-8053f0004601"
   },
   "outputs": [
    {
     "data": {
      "image/png": "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\n",
      "text/plain": [
       "<Figure size 1080x432 with 1 Axes>"
      ]
     },
     "metadata": {},
     "output_type": "display_data"
    }
   ],
   "source": [
    "# Create a plot for the above\n",
    "ax = df2.groupby('InvoiceNo')['dayofweek'].unique().value_counts().sort_index().plot(kind='bar',figsize=(15,6))\n",
    "ax.set_xlabel('Day',fontsize=15)\n",
    "ax.set_ylabel('Number of Orders',fontsize=15)\n",
    "ax.set_title('Number of orders for different Days',fontsize=15)\n",
    "ax.set_xticklabels(('Mon','Tue','Wed','Thur','Fri','Sun'), rotation='horizontal', fontsize=15)\n",
    "plt.show()"
   ]
  },
  {
   "cell_type": "code",
   "execution_count": 142,
   "metadata": {
    "colab": {
     "base_uri": "https://localhost:8080/",
     "height": 104
    },
    "colab_type": "code",
    "executionInfo": {
     "elapsed": 423,
     "status": "ok",
     "timestamp": 1574027561387,
     "user": {
      "displayName": "Rajeev Ratan",
      "photoUrl": "https://lh3.googleusercontent.com/a-/AAuE7mCGo6aIm0tOcd5EhqWlYb0rime9sBvHS9YMpx0D2w=s64",
      "userId": "08597265227091462140"
     },
     "user_tz": 0
    },
    "id": "GbqYSPghjPu8",
    "outputId": "c6e8d5dd-681f-419a-e69c-25756b6070c2"
   },
   "outputs": [
    {
     "data": {
      "text/plain": [
       "Index(['index', 'InvoiceNo', 'year_month', 'StockCode', 'Description', 'hour',\n",
       "       'Quantity', 'InvoiceDate', 'UnitPrice', 'CustomerID', 'Country',\n",
       "       'index_col', 'index_remain', 'AmountSpent', 'month_year', 'year',\n",
       "       'month', 'day', 'dayofweek', 'dayofyear', 'weekofyear', 'quarter'],\n",
       "      dtype='object')"
      ]
     },
     "execution_count": 142,
     "metadata": {},
     "output_type": "execute_result"
    }
   ],
   "source": [
    "df2.columns"
   ]
  },
  {
   "cell_type": "code",
   "execution_count": 147,
   "metadata": {
    "colab": {
     "base_uri": "https://localhost:8080/",
     "height": 419
    },
    "colab_type": "code",
    "executionInfo": {
     "elapsed": 4712,
     "status": "ok",
     "timestamp": 1574027572510,
     "user": {
      "displayName": "Rajeev Ratan",
      "photoUrl": "https://lh3.googleusercontent.com/a-/AAuE7mCGo6aIm0tOcd5EhqWlYb0rime9sBvHS9YMpx0D2w=s64",
      "userId": "08597265227091462140"
     },
     "user_tz": 0
    },
    "id": "6RFDkEhVjPu-",
    "outputId": "6f48e763-8907-465f-f584-5af4d802bf71"
   },
   "outputs": [
    {
     "data": {
      "image/png": "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\n",
      "text/plain": [
       "<Figure size 1080x432 with 1 Axes>"
      ]
     },
     "metadata": {},
     "output_type": "display_data"
    }
   ],
   "source": [
    "# Let's Plot the  number of orders per hour\n",
    "ax = df2.groupby('InvoiceNo')['hour'].unique().value_counts().iloc[:-1].sort_index().plot(kind='bar',figsize=(15,6))\n",
    "ax.set_xlabel('Hour',fontsize=15)\n",
    "ax.set_ylabel('Number of Orders',fontsize=15)\n",
    "ax.set_title('Number of orders for different Hours',fontsize=15)\n",
    "plt.xticks(rotation='horizontal')\n",
    "plt.show()"
   ]
  },
  {
   "cell_type": "code",
   "execution_count": 159,
   "metadata": {
    "colab": {
     "base_uri": "https://localhost:8080/",
     "height": 419
    },
    "colab_type": "code",
    "executionInfo": {
     "elapsed": 7195,
     "status": "ok",
     "timestamp": 1574027624802,
     "user": {
      "displayName": "Rajeev Ratan",
      "photoUrl": "https://lh3.googleusercontent.com/a-/AAuE7mCGo6aIm0tOcd5EhqWlYb0rime9sBvHS9YMpx0D2w=s64",
      "userId": "08597265227091462140"
     },
     "user_tz": 0
    },
    "id": "igRCzblJjPvB",
    "outputId": "4ab26147-3bb4-4be9-bbca-9e252cebbdd0"
   },
   "outputs": [
    {
     "data": {
      "image/png": "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\n",
      "text/plain": [
       "<Figure size 1080x432 with 1 Axes>"
      ]
     },
     "metadata": {},
     "output_type": "display_data"
    }
   ],
   "source": [
    "# Number of sales per week of the year\n",
    "ax = df2.groupby('InvoiceNo')['weekofyear'].unique().value_counts().iloc[:-1].sort_index().plot(kind='bar',figsize=(15,6))\n",
    "ax.set_xlabel('Hour',fontsize=15)\n",
    "ax.set_ylabel('Number of Orders',fontsize=15)\n",
    "ax.set_title('Number of orders per week of the year',fontsize=15)\n",
    "plt.xticks(rotation='horizontal')\n",
    "plt.show()"
   ]
  },
  {
   "cell_type": "markdown",
   "metadata": {
    "colab_type": "text",
    "id": "tTyoU9SNJVlv"
   },
   "source": [
    "### Analyze Unit Prices of our items"
   ]
  },
  {
   "cell_type": "code",
   "execution_count": 160,
   "metadata": {
    "colab": {
     "base_uri": "https://localhost:8080/",
     "height": 173
    },
    "colab_type": "code",
    "executionInfo": {
     "elapsed": 1006,
     "status": "ok",
     "timestamp": 1574027661650,
     "user": {
      "displayName": "Rajeev Ratan",
      "photoUrl": "https://lh3.googleusercontent.com/a-/AAuE7mCGo6aIm0tOcd5EhqWlYb0rime9sBvHS9YMpx0D2w=s64",
      "userId": "08597265227091462140"
     },
     "user_tz": 0
    },
    "id": "mV0j8JhPjPvE",
    "outputId": "2bc0d360-1d00-474b-f06a-58c76a694405"
   },
   "outputs": [
    {
     "data": {
      "text/plain": [
       "count    199005.000000\n",
       "mean          3.166517\n",
       "std          27.169379\n",
       "min           0.000000\n",
       "25%           1.250000\n",
       "50%           1.950000\n",
       "75%           3.750000\n",
       "max        8142.750000\n",
       "Name: UnitPrice, dtype: float64"
      ]
     },
     "execution_count": 160,
     "metadata": {},
     "output_type": "execute_result"
    }
   ],
   "source": [
    "df2.UnitPrice.describe()"
   ]
  },
  {
   "cell_type": "code",
   "execution_count": 161,
   "metadata": {
    "colab": {
     "base_uri": "https://localhost:8080/",
     "height": 394
    },
    "colab_type": "code",
    "executionInfo": {
     "elapsed": 1467,
     "status": "ok",
     "timestamp": 1574027669759,
     "user": {
      "displayName": "Rajeev Ratan",
      "photoUrl": "https://lh3.googleusercontent.com/a-/AAuE7mCGo6aIm0tOcd5EhqWlYb0rime9sBvHS9YMpx0D2w=s64",
      "userId": "08597265227091462140"
     },
     "user_tz": 0
    },
    "id": "PK0xWaISjPvG",
    "outputId": "65a5a47d-cafa-412f-90c5-3b446ce401a1"
   },
   "outputs": [
    {
     "data": {
      "image/png": "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\n",
      "text/plain": [
       "<Figure size 864x432 with 1 Axes>"
      ]
     },
     "metadata": {},
     "output_type": "display_data"
    }
   ],
   "source": [
    "# check the distribution of unit price\n",
    "plt.subplots(figsize=(12,6))\n",
    "sns.boxplot(df2.UnitPrice)\n",
    "plt.show()"
   ]
  },
  {
   "cell_type": "code",
   "execution_count": 162,
   "metadata": {
    "colab": {
     "base_uri": "https://localhost:8080/",
     "height": 413
    },
    "colab_type": "code",
    "executionInfo": {
     "elapsed": 973,
     "status": "ok",
     "timestamp": 1574027697716,
     "user": {
      "displayName": "Rajeev Ratan",
      "photoUrl": "https://lh3.googleusercontent.com/a-/AAuE7mCGo6aIm0tOcd5EhqWlYb0rime9sBvHS9YMpx0D2w=s64",
      "userId": "08597265227091462140"
     },
     "user_tz": 0
    },
    "id": "K0TeWRq7jPvJ",
    "outputId": "2ecd14d0-e2e8-4eb7-820d-52717a44c4dc"
   },
   "outputs": [
    {
     "name": "stdout",
     "output_type": "stream",
     "text": [
      "19\n"
     ]
    },
    {
     "data": {
      "text/html": [
       "<div>\n",
       "<style scoped>\n",
       "    .dataframe tbody tr th:only-of-type {\n",
       "        vertical-align: middle;\n",
       "    }\n",
       "\n",
       "    .dataframe tbody tr th {\n",
       "        vertical-align: top;\n",
       "    }\n",
       "\n",
       "    .dataframe thead th {\n",
       "        text-align: right;\n",
       "    }\n",
       "</style>\n",
       "<table border=\"1\" class=\"dataframe\">\n",
       "  <thead>\n",
       "    <tr style=\"text-align: right;\">\n",
       "      <th></th>\n",
       "      <th>index</th>\n",
       "      <th>InvoiceNo</th>\n",
       "      <th>year_month</th>\n",
       "      <th>StockCode</th>\n",
       "      <th>Description</th>\n",
       "      <th>hour</th>\n",
       "      <th>Quantity</th>\n",
       "      <th>InvoiceDate</th>\n",
       "      <th>UnitPrice</th>\n",
       "      <th>CustomerID</th>\n",
       "      <th>...</th>\n",
       "      <th>index_remain</th>\n",
       "      <th>AmountSpent</th>\n",
       "      <th>month_year</th>\n",
       "      <th>year</th>\n",
       "      <th>month</th>\n",
       "      <th>day</th>\n",
       "      <th>dayofweek</th>\n",
       "      <th>dayofyear</th>\n",
       "      <th>weekofyear</th>\n",
       "      <th>quarter</th>\n",
       "    </tr>\n",
       "  </thead>\n",
       "  <tbody>\n",
       "    <tr>\n",
       "      <th>9302</th>\n",
       "      <td>9302</td>\n",
       "      <td>537197</td>\n",
       "      <td>201012</td>\n",
       "      <td>22841</td>\n",
       "      <td>ROUND CAKE TIN VINTAGE GREEN</td>\n",
       "      <td>14</td>\n",
       "      <td>1</td>\n",
       "      <td>2010-12-05 14:02:00</td>\n",
       "      <td>0.0</td>\n",
       "      <td>12647</td>\n",
       "      <td>...</td>\n",
       "      <td>0</td>\n",
       "      <td>0.0</td>\n",
       "      <td>2010-12</td>\n",
       "      <td>2010</td>\n",
       "      <td>12</td>\n",
       "      <td>5</td>\n",
       "      <td>7</td>\n",
       "      <td>339</td>\n",
       "      <td>48</td>\n",
       "      <td>4</td>\n",
       "    </tr>\n",
       "    <tr>\n",
       "      <th>33576</th>\n",
       "      <td>33576</td>\n",
       "      <td>539263</td>\n",
       "      <td>201012</td>\n",
       "      <td>22580</td>\n",
       "      <td>ADVENT CALENDAR GINGHAM SACK</td>\n",
       "      <td>14</td>\n",
       "      <td>4</td>\n",
       "      <td>2010-12-16 14:36:00</td>\n",
       "      <td>0.0</td>\n",
       "      <td>16560</td>\n",
       "      <td>...</td>\n",
       "      <td>0</td>\n",
       "      <td>0.0</td>\n",
       "      <td>2010-12</td>\n",
       "      <td>2010</td>\n",
       "      <td>12</td>\n",
       "      <td>16</td>\n",
       "      <td>4</td>\n",
       "      <td>350</td>\n",
       "      <td>50</td>\n",
       "      <td>4</td>\n",
       "    </tr>\n",
       "    <tr>\n",
       "      <th>47068</th>\n",
       "      <td>47068</td>\n",
       "      <td>540372</td>\n",
       "      <td>201101</td>\n",
       "      <td>22090</td>\n",
       "      <td>PAPER BUNTING RETROSPOT</td>\n",
       "      <td>16</td>\n",
       "      <td>24</td>\n",
       "      <td>2011-01-06 16:41:00</td>\n",
       "      <td>0.0</td>\n",
       "      <td>13081</td>\n",
       "      <td>...</td>\n",
       "      <td>0</td>\n",
       "      <td>0.0</td>\n",
       "      <td>2011-01</td>\n",
       "      <td>2011</td>\n",
       "      <td>1</td>\n",
       "      <td>6</td>\n",
       "      <td>4</td>\n",
       "      <td>6</td>\n",
       "      <td>1</td>\n",
       "      <td>1</td>\n",
       "    </tr>\n",
       "    <tr>\n",
       "      <th>47070</th>\n",
       "      <td>47070</td>\n",
       "      <td>540372</td>\n",
       "      <td>201101</td>\n",
       "      <td>22553</td>\n",
       "      <td>PLASTERS IN TIN SKULLS</td>\n",
       "      <td>16</td>\n",
       "      <td>24</td>\n",
       "      <td>2011-01-06 16:41:00</td>\n",
       "      <td>0.0</td>\n",
       "      <td>13081</td>\n",
       "      <td>...</td>\n",
       "      <td>0</td>\n",
       "      <td>0.0</td>\n",
       "      <td>2011-01</td>\n",
       "      <td>2011</td>\n",
       "      <td>1</td>\n",
       "      <td>6</td>\n",
       "      <td>4</td>\n",
       "      <td>6</td>\n",
       "      <td>1</td>\n",
       "      <td>1</td>\n",
       "    </tr>\n",
       "    <tr>\n",
       "      <th>56674</th>\n",
       "      <td>56674</td>\n",
       "      <td>541109</td>\n",
       "      <td>201101</td>\n",
       "      <td>22168</td>\n",
       "      <td>ORGANISER WOOD ANTIQUE WHITE</td>\n",
       "      <td>15</td>\n",
       "      <td>1</td>\n",
       "      <td>2011-01-13 15:10:00</td>\n",
       "      <td>0.0</td>\n",
       "      <td>15107</td>\n",
       "      <td>...</td>\n",
       "      <td>0</td>\n",
       "      <td>0.0</td>\n",
       "      <td>2011-01</td>\n",
       "      <td>2011</td>\n",
       "      <td>1</td>\n",
       "      <td>13</td>\n",
       "      <td>4</td>\n",
       "      <td>13</td>\n",
       "      <td>2</td>\n",
       "      <td>1</td>\n",
       "    </tr>\n",
       "  </tbody>\n",
       "</table>\n",
       "<p>5 rows × 22 columns</p>\n",
       "</div>"
      ],
      "text/plain": [
       "       index InvoiceNo  year_month StockCode                    Description  \\\n",
       "9302    9302    537197      201012     22841   ROUND CAKE TIN VINTAGE GREEN   \n",
       "33576  33576    539263      201012     22580   ADVENT CALENDAR GINGHAM SACK   \n",
       "47068  47068    540372      201101     22090        PAPER BUNTING RETROSPOT   \n",
       "47070  47070    540372      201101     22553         PLASTERS IN TIN SKULLS   \n",
       "56674  56674    541109      201101     22168  ORGANISER WOOD ANTIQUE WHITE    \n",
       "\n",
       "       hour  Quantity         InvoiceDate  UnitPrice  CustomerID  ...  \\\n",
       "9302     14         1 2010-12-05 14:02:00        0.0       12647  ...   \n",
       "33576    14         4 2010-12-16 14:36:00        0.0       16560  ...   \n",
       "47068    16        24 2011-01-06 16:41:00        0.0       13081  ...   \n",
       "47070    16        24 2011-01-06 16:41:00        0.0       13081  ...   \n",
       "56674    15         1 2011-01-13 15:10:00        0.0       15107  ...   \n",
       "\n",
       "      index_remain  AmountSpent  month_year  year month  day  dayofweek  \\\n",
       "9302             0          0.0     2010-12  2010    12    5          7   \n",
       "33576            0          0.0     2010-12  2010    12   16          4   \n",
       "47068            0          0.0     2011-01  2011     1    6          4   \n",
       "47070            0          0.0     2011-01  2011     1    6          4   \n",
       "56674            0          0.0     2011-01  2011     1   13          4   \n",
       "\n",
       "       dayofyear  weekofyear  quarter  \n",
       "9302         339          48        4  \n",
       "33576        350          50        4  \n",
       "47068          6           1        1  \n",
       "47070          6           1        1  \n",
       "56674         13           2        1  \n",
       "\n",
       "[5 rows x 22 columns]"
      ]
     },
     "execution_count": 162,
     "metadata": {},
     "output_type": "execute_result"
    }
   ],
   "source": [
    "# What are the free items\n",
    "df_free = df2[df2.UnitPrice == 0]\n",
    "print(len(df_free))\n",
    "df_free.head()"
   ]
  },
  {
   "cell_type": "code",
   "execution_count": 163,
   "metadata": {
    "colab": {
     "base_uri": "https://localhost:8080/",
     "height": 225
    },
    "colab_type": "code",
    "executionInfo": {
     "elapsed": 1124,
     "status": "ok",
     "timestamp": 1574027707647,
     "user": {
      "displayName": "Rajeev Ratan",
      "photoUrl": "https://lh3.googleusercontent.com/a-/AAuE7mCGo6aIm0tOcd5EhqWlYb0rime9sBvHS9YMpx0D2w=s64",
      "userId": "08597265227091462140"
     },
     "user_tz": 0
    },
    "id": "B0A81-6qjPvM",
    "outputId": "26f6ccdb-1cc3-4c64-fc26-e991628e6559"
   },
   "outputs": [
    {
     "data": {
      "text/plain": [
       "201012    2\n",
       "201101    3\n",
       "201103    1\n",
       "201104    2\n",
       "201107    2\n",
       "201108    3\n",
       "201110    1\n",
       "201111    5\n",
       "Name: year_month, dtype: int64"
      ]
     },
     "execution_count": 163,
     "metadata": {},
     "output_type": "execute_result"
    }
   ],
   "source": [
    "# See when these free items were given out\n",
    "df_free.year_month.value_counts().sort_index()"
   ]
  },
  {
   "cell_type": "code",
   "execution_count": 170,
   "metadata": {
    "colab": {
     "base_uri": "https://localhost:8080/",
     "height": 417
    },
    "colab_type": "code",
    "executionInfo": {
     "elapsed": 1182,
     "status": "ok",
     "timestamp": 1574027715201,
     "user": {
      "displayName": "Rajeev Ratan",
      "photoUrl": "https://lh3.googleusercontent.com/a-/AAuE7mCGo6aIm0tOcd5EhqWlYb0rime9sBvHS9YMpx0D2w=s64",
      "userId": "08597265227091462140"
     },
     "user_tz": 0
    },
    "id": "ryeCfydCjPvO",
    "outputId": "db463776-438a-4c03-998e-abdbf3df4305"
   },
   "outputs": [
    {
     "data": {
      "image/png": "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\n",
      "text/plain": [
       "<Figure size 864x432 with 1 Axes>"
      ]
     },
     "metadata": {},
     "output_type": "display_data"
    }
   ],
   "source": [
    "# Ploting the above data\n",
    "ax = df_free.year_month.value_counts().sort_index().plot(kind='bar',figsize=(12,6))\n",
    "ax.set_xlabel('Month',fontsize=15)\n",
    "ax.set_ylabel('Frequency',fontsize=15)\n",
    "ax.set_title('Frequency for different Months (Dec 2010 - Dec 2011)',fontsize=15)\n",
    "plt.xticks(rotation='horizontal')\n",
    "\n",
    "plt.show()"
   ]
  },
  {
   "cell_type": "markdown",
   "metadata": {
    "colab_type": "text",
    "id": "zZtX5E3mJsae"
   },
   "source": [
    "On average, the company gave out 2-4 times FREE items to customers each month (Except in June 2011)"
   ]
  },
  {
   "cell_type": "markdown",
   "metadata": {
    "colab_type": "text",
    "id": "xuAU4H--Jv7e"
   },
   "source": [
    "### Analysis per Country"
   ]
  },
  {
   "cell_type": "code",
   "execution_count": 71,
   "metadata": {
    "colab": {
     "base_uri": "https://localhost:8080/",
     "height": 521
    },
    "colab_type": "code",
    "executionInfo": {
     "elapsed": 1742,
     "status": "ok",
     "timestamp": 1574027802387,
     "user": {
      "displayName": "Rajeev Ratan",
      "photoUrl": "https://lh3.googleusercontent.com/a-/AAuE7mCGo6aIm0tOcd5EhqWlYb0rime9sBvHS9YMpx0D2w=s64",
      "userId": "08597265227091462140"
     },
     "user_tz": 0
    },
    "id": "2olzi8uDjPvZ",
    "outputId": "92425862-9428-4075-a64f-bcb78a8c870d"
   },
   "outputs": [
    {
     "data": {
      "image/png": "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\n",
      "text/plain": [
       "<Figure size 1080x576 with 1 Axes>"
      ]
     },
     "metadata": {},
     "output_type": "display_data"
    }
   ],
   "source": [
    "group_country_orders = df2.groupby('Country')['InvoiceDate'].count().sort_values()\n",
    "\n",
    "# plot number of unique customers in each country (with UK)\n",
    "plt.subplots(figsize=(15,8))\n",
    "group_country_orders.plot(kind='barh', fontsize=12)\n",
    "plt.xlabel('Number of Orders', fontsize=12)\n",
    "plt.ylabel('Country', fontsize=12)\n",
    "plt.title('Number of Orders for different Countries', fontsize=12)\n",
    "plt.show()"
   ]
  },
  {
   "cell_type": "code",
   "execution_count": 74,
   "metadata": {
    "colab": {
     "base_uri": "https://localhost:8080/",
     "height": 521
    },
    "colab_type": "code",
    "executionInfo": {
     "elapsed": 1941,
     "status": "ok",
     "timestamp": 1574027821023,
     "user": {
      "displayName": "Rajeev Ratan",
      "photoUrl": "https://lh3.googleusercontent.com/a-/AAuE7mCGo6aIm0tOcd5EhqWlYb0rime9sBvHS9YMpx0D2w=s64",
      "userId": "08597265227091462140"
     },
     "user_tz": 0
    },
    "id": "hhDCh-XAjPvc",
    "outputId": "b746d953-3bae-463e-f12d-cea06e1e87d6"
   },
   "outputs": [
    {
     "data": {
      "image/png": "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\n",
      "text/plain": [
       "<Figure size 1080x576 with 1 Axes>"
      ]
     },
     "metadata": {},
     "output_type": "display_data"
    }
   ],
   "source": [
    "# Excluding UK now\n",
    "\n",
    "group_country_orders = df2.groupby('Country')['InvoiceDate'].count().sort_values()\n",
    "group_country_orders_without_uk = group_country_orders.copy()\n",
    "del group_country_orders_without_uk['United Kingdom']\n",
    "\n",
    "# plot number of unique customers in each country (without UK)\n",
    "plt.subplots(figsize=(15,8))\n",
    "group_country_orders_without_uk.plot(kind='barh', fontsize=12)\n",
    "plt.xlabel('Number of Orders', fontsize=12)\n",
    "plt.ylabel('Country', fontsize=12)\n",
    "plt.title('Number of Orders for different Countries', fontsize=12)\n",
    "plt.show()"
   ]
  },
  {
   "cell_type": "code",
   "execution_count": 75,
   "metadata": {
    "colab": {
     "base_uri": "https://localhost:8080/",
     "height": 521
    },
    "colab_type": "code",
    "executionInfo": {
     "elapsed": 2079,
     "status": "ok",
     "timestamp": 1574027843362,
     "user": {
      "displayName": "Rajeev Ratan",
      "photoUrl": "https://lh3.googleusercontent.com/a-/AAuE7mCGo6aIm0tOcd5EhqWlYb0rime9sBvHS9YMpx0D2w=s64",
      "userId": "08597265227091462140"
     },
     "user_tz": 0
    },
    "id": "_VBm0GdEjPvf",
    "outputId": "d1109193-d631-49a6-83af-6cc688f4103c"
   },
   "outputs": [
    {
     "data": {
      "image/png": "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\n",
      "text/plain": [
       "<Figure size 1080x576 with 1 Axes>"
      ]
     },
     "metadata": {},
     "output_type": "display_data"
    }
   ],
   "source": [
    "# Amount spent by each country (without UK)\n",
    "group_country_amount_spent = df2.groupby('Country')['AmountSpent'].sum().sort_values()\n",
    "del group_country_amount_spent['United Kingdom']\n",
    "\n",
    "# plot total money spent by each country (without UK)\n",
    "plt.subplots(figsize=(15,8))\n",
    "group_country_amount_spent.plot(kind='barh', fontsize=12)\n",
    "plt.xlabel('Money Spent (Dollar)', fontsize=12)\n",
    "plt.ylabel('Country', fontsize=12)\n",
    "plt.title('Money Spent by different Countries', fontsize=12)\n",
    "plt.show()"
   ]
  },
  {
   "cell_type": "markdown",
   "metadata": {
    "colab_type": "text",
    "id": "BRCl9TXbjPvj"
   },
   "source": [
    "## Repeat Customers"
   ]
  },
  {
   "cell_type": "code",
   "execution_count": 77,
   "metadata": {
    "colab": {
     "base_uri": "https://localhost:8080/",
     "height": 35
    },
    "colab_type": "code",
    "executionInfo": {
     "elapsed": 444,
     "status": "ok",
     "timestamp": 1574027894687,
     "user": {
      "displayName": "Rajeev Ratan",
      "photoUrl": "https://lh3.googleusercontent.com/a-/AAuE7mCGo6aIm0tOcd5EhqWlYb0rime9sBvHS9YMpx0D2w=s64",
      "userId": "08597265227091462140"
     },
     "user_tz": 0
    },
    "id": "f6u-5DL_jPvk",
    "outputId": "ee6f7733-2149-4b43-981f-69457961eef8"
   },
   "outputs": [
    {
     "name": "stdout",
     "output_type": "stream",
     "text": [
      "Date Range: 2010-12-01 08:26:00 to 2011-11-30 17:37:00\n"
     ]
    }
   ],
   "source": [
    "# Get our date range for our data\n",
    "print('Date Range: %s to %s' % (df2['InvoiceDate'].min(), df2['InvoiceDate'].max()))\n",
    "\n",
    "# Since Our data ends at Nov-30 2011, we're taking all of the transactions that occurred before December 01, 2011 \n",
    "df2 = df2.loc[df2['InvoiceDate'] < '2011-12-01']"
   ]
  },
  {
   "cell_type": "code",
   "execution_count": 78,
   "metadata": {
    "colab": {
     "base_uri": "https://localhost:8080/",
     "height": 202
    },
    "colab_type": "code",
    "executionInfo": {
     "elapsed": 2271,
     "status": "ok",
     "timestamp": 1574027927591,
     "user": {
      "displayName": "Rajeev Ratan",
      "photoUrl": "https://lh3.googleusercontent.com/a-/AAuE7mCGo6aIm0tOcd5EhqWlYb0rime9sBvHS9YMpx0D2w=s64",
      "userId": "08597265227091462140"
     },
     "user_tz": 0
    },
    "id": "NfoYCVJLjPvl",
    "outputId": "b5d3e6cc-4535-435b-cb26-8e8a21397975"
   },
   "outputs": [
    {
     "data": {
      "text/html": [
       "<div>\n",
       "<style scoped>\n",
       "    .dataframe tbody tr th:only-of-type {\n",
       "        vertical-align: middle;\n",
       "    }\n",
       "\n",
       "    .dataframe tbody tr th {\n",
       "        vertical-align: top;\n",
       "    }\n",
       "\n",
       "    .dataframe thead th {\n",
       "        text-align: right;\n",
       "    }\n",
       "</style>\n",
       "<table border=\"1\" class=\"dataframe\">\n",
       "  <thead>\n",
       "    <tr style=\"text-align: right;\">\n",
       "      <th></th>\n",
       "      <th>InvoiceNo</th>\n",
       "      <th>InvoiceDate</th>\n",
       "      <th>AmountSpent</th>\n",
       "      <th>CustomerID</th>\n",
       "      <th>Country</th>\n",
       "    </tr>\n",
       "  </thead>\n",
       "  <tbody>\n",
       "    <tr>\n",
       "      <th>0</th>\n",
       "      <td>536365</td>\n",
       "      <td>2010-12-01 08:26:00</td>\n",
       "      <td>83.14</td>\n",
       "      <td>17850</td>\n",
       "      <td>United Kingdom</td>\n",
       "    </tr>\n",
       "    <tr>\n",
       "      <th>1</th>\n",
       "      <td>536366</td>\n",
       "      <td>2010-12-01 08:28:00</td>\n",
       "      <td>11.10</td>\n",
       "      <td>17850</td>\n",
       "      <td>United Kingdom</td>\n",
       "    </tr>\n",
       "    <tr>\n",
       "      <th>2</th>\n",
       "      <td>536367</td>\n",
       "      <td>2010-12-01 08:34:00</td>\n",
       "      <td>137.65</td>\n",
       "      <td>13047</td>\n",
       "      <td>United Kingdom</td>\n",
       "    </tr>\n",
       "    <tr>\n",
       "      <th>3</th>\n",
       "      <td>536368</td>\n",
       "      <td>2010-12-01 08:34:00</td>\n",
       "      <td>29.70</td>\n",
       "      <td>13047</td>\n",
       "      <td>United Kingdom</td>\n",
       "    </tr>\n",
       "    <tr>\n",
       "      <th>4</th>\n",
       "      <td>536370</td>\n",
       "      <td>2010-12-01 08:45:00</td>\n",
       "      <td>419.48</td>\n",
       "      <td>12583</td>\n",
       "      <td>France</td>\n",
       "    </tr>\n",
       "  </tbody>\n",
       "</table>\n",
       "</div>"
      ],
      "text/plain": [
       "  InvoiceNo         InvoiceDate  AmountSpent  CustomerID         Country\n",
       "0    536365 2010-12-01 08:26:00        83.14       17850  United Kingdom\n",
       "1    536366 2010-12-01 08:28:00        11.10       17850  United Kingdom\n",
       "2    536367 2010-12-01 08:34:00       137.65       13047  United Kingdom\n",
       "3    536368 2010-12-01 08:34:00        29.70       13047  United Kingdom\n",
       "4    536370 2010-12-01 08:45:00       419.48       12583          France"
      ]
     },
     "execution_count": 78,
     "metadata": {},
     "output_type": "execute_result"
    }
   ],
   "source": [
    "# Get total amount spent per invoice and associate it with CustomerID and Country\n",
    "invoice_customer_df = df2.groupby(by=['InvoiceNo', 'InvoiceDate']).agg({'AmountSpent': sum, 'CustomerID': max,'Country': max,}).reset_index()\n",
    "invoice_customer_df.head()"
   ]
  },
  {
   "cell_type": "code",
   "execution_count": 79,
   "metadata": {
    "colab": {
     "base_uri": "https://localhost:8080/",
     "height": 355
    },
    "colab_type": "code",
    "executionInfo": {
     "elapsed": 409,
     "status": "ok",
     "timestamp": 1574027957509,
     "user": {
      "displayName": "Rajeev Ratan",
      "photoUrl": "https://lh3.googleusercontent.com/a-/AAuE7mCGo6aIm0tOcd5EhqWlYb0rime9sBvHS9YMpx0D2w=s64",
      "userId": "08597265227091462140"
     },
     "user_tz": 0
    },
    "id": "6P9_gNO2jPvn",
    "outputId": "3656ae45-9a6e-44cb-bd03-369bd305c883"
   },
   "outputs": [
    {
     "data": {
      "text/html": [
       "<div>\n",
       "<style scoped>\n",
       "    .dataframe tbody tr th:only-of-type {\n",
       "        vertical-align: middle;\n",
       "    }\n",
       "\n",
       "    .dataframe tbody tr th {\n",
       "        vertical-align: top;\n",
       "    }\n",
       "\n",
       "    .dataframe thead th {\n",
       "        text-align: right;\n",
       "    }\n",
       "</style>\n",
       "<table border=\"1\" class=\"dataframe\">\n",
       "  <thead>\n",
       "    <tr style=\"text-align: right;\">\n",
       "      <th></th>\n",
       "      <th>InvoiceNo</th>\n",
       "      <th>InvoiceDate</th>\n",
       "      <th>AmountSpent</th>\n",
       "      <th>CustomerID</th>\n",
       "      <th>Country</th>\n",
       "    </tr>\n",
       "  </thead>\n",
       "  <tbody>\n",
       "    <tr>\n",
       "      <th>7625</th>\n",
       "      <td>556444</td>\n",
       "      <td>2011-06-10 15:28:00</td>\n",
       "      <td>38970.00</td>\n",
       "      <td>15098</td>\n",
       "      <td>United Kingdom</td>\n",
       "    </tr>\n",
       "    <tr>\n",
       "      <th>5258</th>\n",
       "      <td>550461</td>\n",
       "      <td>2011-04-18 13:20:00</td>\n",
       "      <td>15425.90</td>\n",
       "      <td>15749</td>\n",
       "      <td>United Kingdom</td>\n",
       "    </tr>\n",
       "    <tr>\n",
       "      <th>7804</th>\n",
       "      <td>556917</td>\n",
       "      <td>2011-06-15 13:37:00</td>\n",
       "      <td>11839.95</td>\n",
       "      <td>12415</td>\n",
       "      <td>Australia</td>\n",
       "    </tr>\n",
       "    <tr>\n",
       "      <th>11936</th>\n",
       "      <td>567423</td>\n",
       "      <td>2011-09-20 11:05:00</td>\n",
       "      <td>11254.52</td>\n",
       "      <td>17450</td>\n",
       "      <td>United Kingdom</td>\n",
       "    </tr>\n",
       "    <tr>\n",
       "      <th>11928</th>\n",
       "      <td>567381</td>\n",
       "      <td>2011-09-20 10:12:00</td>\n",
       "      <td>10195.36</td>\n",
       "      <td>17450</td>\n",
       "      <td>United Kingdom</td>\n",
       "    </tr>\n",
       "    <tr>\n",
       "      <th>13899</th>\n",
       "      <td>572209</td>\n",
       "      <td>2011-10-21 12:08:00</td>\n",
       "      <td>9855.00</td>\n",
       "      <td>18102</td>\n",
       "      <td>United Kingdom</td>\n",
       "    </tr>\n",
       "    <tr>\n",
       "      <th>531</th>\n",
       "      <td>537659</td>\n",
       "      <td>2010-12-07 16:43:00</td>\n",
       "      <td>9827.36</td>\n",
       "      <td>18102</td>\n",
       "      <td>United Kingdom</td>\n",
       "    </tr>\n",
       "    <tr>\n",
       "      <th>13814</th>\n",
       "      <td>572035</td>\n",
       "      <td>2011-10-20 12:03:00</td>\n",
       "      <td>9800.24</td>\n",
       "      <td>14646</td>\n",
       "      <td>Netherlands</td>\n",
       "    </tr>\n",
       "    <tr>\n",
       "      <th>10424</th>\n",
       "      <td>563614</td>\n",
       "      <td>2011-08-18 08:51:00</td>\n",
       "      <td>9787.60</td>\n",
       "      <td>12415</td>\n",
       "      <td>Australia</td>\n",
       "    </tr>\n",
       "    <tr>\n",
       "      <th>3356</th>\n",
       "      <td>545475</td>\n",
       "      <td>2011-03-03 10:59:00</td>\n",
       "      <td>9133.40</td>\n",
       "      <td>12415</td>\n",
       "      <td>Australia</td>\n",
       "    </tr>\n",
       "  </tbody>\n",
       "</table>\n",
       "</div>"
      ],
      "text/plain": [
       "      InvoiceNo         InvoiceDate  AmountSpent  CustomerID         Country\n",
       "7625     556444 2011-06-10 15:28:00     38970.00       15098  United Kingdom\n",
       "5258     550461 2011-04-18 13:20:00     15425.90       15749  United Kingdom\n",
       "7804     556917 2011-06-15 13:37:00     11839.95       12415       Australia\n",
       "11936    567423 2011-09-20 11:05:00     11254.52       17450  United Kingdom\n",
       "11928    567381 2011-09-20 10:12:00     10195.36       17450  United Kingdom\n",
       "13899    572209 2011-10-21 12:08:00      9855.00       18102  United Kingdom\n",
       "531      537659 2010-12-07 16:43:00      9827.36       18102  United Kingdom\n",
       "13814    572035 2011-10-20 12:03:00      9800.24       14646     Netherlands\n",
       "10424    563614 2011-08-18 08:51:00      9787.60       12415       Australia\n",
       "3356     545475 2011-03-03 10:59:00      9133.40       12415       Australia"
      ]
     },
     "execution_count": 79,
     "metadata": {},
     "output_type": "execute_result"
    }
   ],
   "source": [
    "# Sort on Amount spent, this gives us the largest invoices\n",
    "invoice_customer_df.sort_values(by='AmountSpent', ascending=False).head(10)"
   ]
  },
  {
   "cell_type": "code",
   "execution_count": 80,
   "metadata": {
    "colab": {
     "base_uri": "https://localhost:8080/",
     "height": 260
    },
    "colab_type": "code",
    "executionInfo": {
     "elapsed": 3364,
     "status": "ok",
     "timestamp": 1574025819029,
     "user": {
      "displayName": "Rajeev Ratan",
      "photoUrl": "https://lh3.googleusercontent.com/a-/AAuE7mCGo6aIm0tOcd5EhqWlYb0rime9sBvHS9YMpx0D2w=s64",
      "userId": "08597265227091462140"
     },
     "user_tz": 0
    },
    "id": "_8W2JBCbjPvo",
    "outputId": "6977c4e7-5797-4fc8-feb1-1c109491cd66"
   },
   "outputs": [
    {
     "data": {
      "text/plain": [
       "InvoiceDate\n",
       "2010-12-31    238\n",
       "2011-01-31    140\n",
       "2011-02-28    143\n",
       "2011-03-31    188\n",
       "2011-04-30    153\n",
       "2011-05-31    258\n",
       "2011-06-30    207\n",
       "2011-07-31    210\n",
       "2011-08-31    177\n",
       "2011-09-30    250\n",
       "2011-10-31    293\n",
       "2011-11-30    517\n",
       "Freq: M, Name: CustomerID, dtype: int64"
      ]
     },
     "execution_count": 80,
     "metadata": {},
     "output_type": "execute_result"
    }
   ],
   "source": [
    "# We set our index to our invoice date\n",
    "# And use Grouper(freq='M') groups data by the index 'InvoiceDate' by Month\n",
    "# We then group this data by CustomerID and count the number of unique repeat customers for that month (data is the month end date)\n",
    "# The filter fucntion allows us to subselect data by the rule in our lambda function i.e. those greater than 1 (repeat customers)\n",
    "\n",
    "monthly_repeat_customers_df = invoice_customer_df.set_index('InvoiceDate').groupby([\n",
    "  pd.Grouper(freq='M'), 'CustomerID']).filter(lambda x: len(x) > 1).resample('M').nunique()['CustomerID']\n",
    "\n",
    "monthly_repeat_customers_df"
   ]
  },
  {
   "cell_type": "code",
   "execution_count": 81,
   "metadata": {
    "colab": {
     "base_uri": "https://localhost:8080/",
     "height": 260
    },
    "colab_type": "code",
    "executionInfo": {
     "elapsed": 408,
     "status": "ok",
     "timestamp": 1574028085617,
     "user": {
      "displayName": "Rajeev Ratan",
      "photoUrl": "https://lh3.googleusercontent.com/a-/AAuE7mCGo6aIm0tOcd5EhqWlYb0rime9sBvHS9YMpx0D2w=s64",
      "userId": "08597265227091462140"
     },
     "user_tz": 0
    },
    "id": "6LIGb18MjPvq",
    "outputId": "f4c06862-fb48-4b8d-b8e2-c157895974ba"
   },
   "outputs": [
    {
     "data": {
      "text/plain": [
       "InvoiceDate\n",
       "2010-12-31     868\n",
       "2011-01-31     727\n",
       "2011-02-28     743\n",
       "2011-03-31     959\n",
       "2011-04-30     844\n",
       "2011-05-31    1041\n",
       "2011-06-30     972\n",
       "2011-07-31     937\n",
       "2011-08-31     916\n",
       "2011-09-30    1247\n",
       "2011-10-31    1350\n",
       "2011-11-30    1646\n",
       "Freq: M, Name: CustomerID, dtype: int64"
      ]
     },
     "execution_count": 81,
     "metadata": {},
     "output_type": "execute_result"
    }
   ],
   "source": [
    "# Number of Unique customers per month\n",
    "monthly_unique_customers_df = df2.set_index('InvoiceDate')['CustomerID'].resample('M').nunique()\n",
    "monthly_unique_customers_df"
   ]
  },
  {
   "cell_type": "code",
   "execution_count": 173,
   "metadata": {
    "colab": {
     "base_uri": "https://localhost:8080/",
     "height": 260
    },
    "colab_type": "code",
    "executionInfo": {
     "elapsed": 422,
     "status": "ok",
     "timestamp": 1574028098555,
     "user": {
      "displayName": "Rajeev Ratan",
      "photoUrl": "https://lh3.googleusercontent.com/a-/AAuE7mCGo6aIm0tOcd5EhqWlYb0rime9sBvHS9YMpx0D2w=s64",
      "userId": "08597265227091462140"
     },
     "user_tz": 0
    },
    "id": "Gl5MC28sjPvt",
    "outputId": "c0a2071d-0740-48f2-e419-189b1107e819"
   },
   "outputs": [
    {
     "data": {
      "text/plain": [
       "InvoiceDate\n",
       "2010-12-31    27.419355\n",
       "2011-01-31    19.257221\n",
       "2011-02-28    19.246299\n",
       "2011-03-31    19.603754\n",
       "2011-04-30    18.127962\n",
       "2011-05-31    24.783862\n",
       "2011-06-30    21.296296\n",
       "2011-07-31    22.411953\n",
       "2011-08-31    19.323144\n",
       "2011-09-30    20.048115\n",
       "2011-10-31    21.703704\n",
       "2011-11-30    31.409478\n",
       "Freq: M, Name: CustomerID, dtype: float64"
      ]
     },
     "execution_count": 173,
     "metadata": {},
     "output_type": "execute_result"
    }
   ],
   "source": [
    "# Ratio of Repeat to Unique customers\n",
    "monthly_repeat_percentage = monthly_repeat_customers_df/monthly_unique_customers_df*100.0\n",
    "monthly_repeat_percentage"
   ]
  },
  {
   "cell_type": "code",
   "execution_count": 174,
   "metadata": {
    "colab": {
     "base_uri": "https://localhost:8080/",
     "height": 554
    },
    "colab_type": "code",
    "executionInfo": {
     "elapsed": 1296,
     "status": "ok",
     "timestamp": 1574028154090,
     "user": {
      "displayName": "Rajeev Ratan",
      "photoUrl": "https://lh3.googleusercontent.com/a-/AAuE7mCGo6aIm0tOcd5EhqWlYb0rime9sBvHS9YMpx0D2w=s64",
      "userId": "08597265227091462140"
     },
     "user_tz": 0
    },
    "id": "IJDHDPlAjPvu",
    "outputId": "fc3b28b0-5e07-4e37-d9c1-8a73d47e4901"
   },
   "outputs": [
    {
     "data": {
      "image/png": "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\n",
      "text/plain": [
       "<Figure size 864x576 with 2 Axes>"
      ]
     },
     "metadata": {},
     "output_type": "display_data"
    }
   ],
   "source": [
    "# Plotting this visually\n",
    "# Note we're using a 2 scale y axis (left and right)\n",
    "\n",
    "ax = pd.DataFrame(monthly_repeat_customers_df.values).plot(figsize=(12,8))\n",
    "\n",
    "pd.DataFrame(monthly_unique_customers_df.values).plot(ax=ax,grid=True)\n",
    "\n",
    "ax2 = pd.DataFrame(monthly_repeat_percentage.values).plot.bar(ax=ax,grid=True,secondary_y=True,color='blue',alpha=0.3)\n",
    "\n",
    "ax.set_xlabel('Date')\n",
    "ax.set_ylabel('Number of Customers')\n",
    "ax.set_title('Number of Unique vs. Repeat Customers Over Time')\n",
    "\n",
    "ax2.set_ylabel('percentage (%)')\n",
    "\n",
    "ax.legend(['Repeat Customers', 'All Customers'])\n",
    "ax2.legend(['Percentage of Repeat'], loc='upper right')\n",
    "\n",
    "ax.set_ylim([0, monthly_unique_customers_df.values.max()+100])\n",
    "ax2.set_ylim([0, 100])\n",
    "\n",
    "plt.xticks(range(len(monthly_repeat_customers_df.index)), [x.strftime('%m.%Y') for x in monthly_repeat_customers_df.index], rotation='horizontal')\n",
    "\n",
    "plt.show()"
   ]
  },
  {
   "cell_type": "code",
   "execution_count": 175,
   "metadata": {
    "colab": {
     "base_uri": "https://localhost:8080/",
     "height": 260
    },
    "colab_type": "code",
    "executionInfo": {
     "elapsed": 3304,
     "status": "ok",
     "timestamp": 1574028226541,
     "user": {
      "displayName": "Rajeev Ratan",
      "photoUrl": "https://lh3.googleusercontent.com/a-/AAuE7mCGo6aIm0tOcd5EhqWlYb0rime9sBvHS9YMpx0D2w=s64",
      "userId": "08597265227091462140"
     },
     "user_tz": 0
    },
    "id": "B3-fCEdEjPvw",
    "outputId": "b188a586-ae2a-4a18-9661-cf1636fbeab2"
   },
   "outputs": [
    {
     "data": {
      "text/plain": [
       "InvoiceDate\n",
       "2010-12-31    60.526544\n",
       "2011-01-31    42.882454\n",
       "2011-02-28    38.490585\n",
       "2011-03-31    42.465432\n",
       "2011-04-30    39.224926\n",
       "2011-05-31    54.786305\n",
       "2011-06-30    58.956696\n",
       "2011-07-31    51.645633\n",
       "2011-08-31    46.398193\n",
       "2011-09-30    50.596348\n",
       "2011-10-31    51.218138\n",
       "2011-11-30    60.855442\n",
       "2011-12-31          NaN\n",
       "Freq: M, Name: AmountSpent, dtype: float64"
      ]
     },
     "execution_count": 175,
     "metadata": {},
     "output_type": "execute_result"
    }
   ],
   "source": [
    "# Let's investigate the relationship between revenue and repeat customers\n",
    "monthly_revenue_df = df2.set_index('InvoiceDate')['AmountSpent'].resample('M').sum()\n",
    "\n",
    "monthly_rev_repeat_customers_df = invoice_customer_df.set_index('InvoiceDate').groupby([\n",
    "    pd.Grouper(freq='M'), 'CustomerID']).filter(lambda x: len(x) > 1).resample('M').sum()['AmountSpent']\n",
    "\n",
    "# Let's get a percentage of the revenue from repeat customers to the overall monthly revenue\n",
    "monthly_rev_perc_repeat_customers_df = monthly_rev_repeat_customers_df/monthly_revenue_df * 100.0\n",
    "monthly_rev_perc_repeat_customers_df"
   ]
  },
  {
   "cell_type": "code",
   "execution_count": 176,
   "metadata": {
    "colab": {
     "base_uri": "https://localhost:8080/",
     "height": 518
    },
    "colab_type": "code",
    "executionInfo": {
     "elapsed": 1207,
     "status": "ok",
     "timestamp": 1574028269857,
     "user": {
      "displayName": "Rajeev Ratan",
      "photoUrl": "https://lh3.googleusercontent.com/a-/AAuE7mCGo6aIm0tOcd5EhqWlYb0rime9sBvHS9YMpx0D2w=s64",
      "userId": "08597265227091462140"
     },
     "user_tz": 0
    },
    "id": "tJSJFxgWjPvy",
    "outputId": "3d5749f0-3993-41ad-8759-54a0b43b6002"
   },
   "outputs": [
    {
     "data": {
      "image/png": "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\n",
      "text/plain": [
       "<Figure size 864x576 with 2 Axes>"
      ]
     },
     "metadata": {},
     "output_type": "display_data"
    }
   ],
   "source": [
    "# Now let's plot this information we obtained above\n",
    "ax = pd.DataFrame(monthly_revenue_df.values).plot(figsize=(12,8))\n",
    "\n",
    "pd.DataFrame(monthly_rev_repeat_customers_df.values).plot(ax=ax,grid=True,)\n",
    "\n",
    "ax.set_xlabel('date')\n",
    "ax.set_ylabel('sales')\n",
    "ax.set_title('Total Revenue vs. Revenue from Repeat Customers')\n",
    "\n",
    "ax.legend(['Total Revenue', 'Repeat Customer Revenue'])\n",
    "\n",
    "ax.set_ylim([0, max(monthly_revenue_df.values)+100000])\n",
    "\n",
    "ax2 = ax.twinx()\n",
    "\n",
    "pd.DataFrame(monthly_rev_perc_repeat_customers_df.values).plot(ax=ax2,kind='bar',color='blue',alpha=0.3)\n",
    "\n",
    "ax2.set_ylim([0, max(monthly_rev_perc_repeat_customers_df.values)+30])\n",
    "ax2.set_ylabel('percentage (%)')\n",
    "ax2.legend(['Repeat Revenue Percentage'])\n",
    "\n",
    "ax2.set_xticklabels([x.strftime('%m.%Y') for x in monthly_rev_perc_repeat_customers_df.index])\n",
    "\n",
    "plt.show()"
   ]
  },
  {
   "cell_type": "markdown",
   "metadata": {
    "colab_type": "text",
    "id": "0ERRj6jUjPvz"
   },
   "source": [
    "# Item Trends\n",
    "\n",
    "Let's count the number of items sold for each product for each period."
   ]
  },
  {
   "cell_type": "code",
   "execution_count": 177,
   "metadata": {
    "colab": {
     "base_uri": "https://localhost:8080/",
     "height": 312
    },
    "colab_type": "code",
    "executionInfo": {
     "elapsed": 397,
     "status": "ok",
     "timestamp": 1574028309748,
     "user": {
      "displayName": "Rajeev Ratan",
      "photoUrl": "https://lh3.googleusercontent.com/a-/AAuE7mCGo6aIm0tOcd5EhqWlYb0rime9sBvHS9YMpx0D2w=s64",
      "userId": "08597265227091462140"
     },
     "user_tz": 0
    },
    "id": "tu2svLMZjPvz",
    "outputId": "6f28629b-131a-4c32-a126-9088664026c6"
   },
   "outputs": [
    {
     "data": {
      "text/plain": [
       "InvoiceDate  StockCode\n",
       "2010-12-31   10002        106\n",
       "             10120         15\n",
       "             10124A         4\n",
       "             10125        101\n",
       "             10133         93\n",
       "             10135        232\n",
       "             11001         48\n",
       "             15034          1\n",
       "             15036         84\n",
       "             15039         15\n",
       "             15044A         6\n",
       "             15044C         1\n",
       "             15056BL       45\n",
       "             15056N        66\n",
       "             15056P        16\n",
       "Name: Quantity, dtype: int64"
      ]
     },
     "execution_count": 177,
     "metadata": {},
     "output_type": "execute_result"
    }
   ],
   "source": [
    "# Now let's get quantity of each item sold per month\n",
    "date_item_df = df2.set_index('InvoiceDate').groupby([pd.Grouper(freq='M'), 'StockCode'])['Quantity'].sum()\n",
    "\n",
    "date_item_df.head(15)"
   ]
  },
  {
   "cell_type": "code",
   "execution_count": 87,
   "metadata": {
    "colab": {
     "base_uri": "https://localhost:8080/",
     "height": 355
    },
    "colab_type": "code",
    "executionInfo": {
     "elapsed": 426,
     "status": "ok",
     "timestamp": 1574028341703,
     "user": {
      "displayName": "Rajeev Ratan",
      "photoUrl": "https://lh3.googleusercontent.com/a-/AAuE7mCGo6aIm0tOcd5EhqWlYb0rime9sBvHS9YMpx0D2w=s64",
      "userId": "08597265227091462140"
     },
     "user_tz": 0
    },
    "id": "2XIs_gP6jPv1",
    "outputId": "7ec9c846-b26b-4a0a-fdb6-6a970bb0396b"
   },
   "outputs": [
    {
     "data": {
      "text/html": [
       "<div>\n",
       "<style scoped>\n",
       "    .dataframe tbody tr th:only-of-type {\n",
       "        vertical-align: middle;\n",
       "    }\n",
       "\n",
       "    .dataframe tbody tr th {\n",
       "        vertical-align: top;\n",
       "    }\n",
       "\n",
       "    .dataframe thead th {\n",
       "        text-align: right;\n",
       "    }\n",
       "</style>\n",
       "<table border=\"1\" class=\"dataframe\">\n",
       "  <thead>\n",
       "    <tr style=\"text-align: right;\">\n",
       "      <th></th>\n",
       "      <th>InvoiceDate</th>\n",
       "      <th>StockCode</th>\n",
       "      <th>Quantity</th>\n",
       "    </tr>\n",
       "  </thead>\n",
       "  <tbody>\n",
       "    <tr>\n",
       "      <th>2228</th>\n",
       "      <td>2011-11-30</td>\n",
       "      <td>84826</td>\n",
       "      <td>12541</td>\n",
       "    </tr>\n",
       "    <tr>\n",
       "      <th>1470</th>\n",
       "      <td>2011-11-30</td>\n",
       "      <td>23084</td>\n",
       "      <td>4927</td>\n",
       "    </tr>\n",
       "    <tr>\n",
       "      <th>764</th>\n",
       "      <td>2011-11-30</td>\n",
       "      <td>22197</td>\n",
       "      <td>3567</td>\n",
       "    </tr>\n",
       "    <tr>\n",
       "      <th>2334</th>\n",
       "      <td>2011-11-30</td>\n",
       "      <td>85099B</td>\n",
       "      <td>3517</td>\n",
       "    </tr>\n",
       "    <tr>\n",
       "      <th>681</th>\n",
       "      <td>2011-11-30</td>\n",
       "      <td>22086</td>\n",
       "      <td>3367</td>\n",
       "    </tr>\n",
       "    <tr>\n",
       "      <th>18</th>\n",
       "      <td>2011-11-30</td>\n",
       "      <td>16014</td>\n",
       "      <td>3003</td>\n",
       "    </tr>\n",
       "    <tr>\n",
       "      <th>2476</th>\n",
       "      <td>2011-11-30</td>\n",
       "      <td>M</td>\n",
       "      <td>2870</td>\n",
       "    </tr>\n",
       "    <tr>\n",
       "      <th>1057</th>\n",
       "      <td>2011-11-30</td>\n",
       "      <td>22577</td>\n",
       "      <td>2650</td>\n",
       "    </tr>\n",
       "    <tr>\n",
       "      <th>1058</th>\n",
       "      <td>2011-11-30</td>\n",
       "      <td>22578</td>\n",
       "      <td>2476</td>\n",
       "    </tr>\n",
       "    <tr>\n",
       "      <th>588</th>\n",
       "      <td>2011-11-30</td>\n",
       "      <td>21915</td>\n",
       "      <td>2413</td>\n",
       "    </tr>\n",
       "  </tbody>\n",
       "</table>\n",
       "</div>"
      ],
      "text/plain": [
       "     InvoiceDate StockCode  Quantity\n",
       "2228  2011-11-30     84826     12541\n",
       "1470  2011-11-30     23084      4927\n",
       "764   2011-11-30     22197      3567\n",
       "2334  2011-11-30    85099B      3517\n",
       "681   2011-11-30     22086      3367\n",
       "18    2011-11-30     16014      3003\n",
       "2476  2011-11-30         M      2870\n",
       "1057  2011-11-30     22577      2650\n",
       "1058  2011-11-30     22578      2476\n",
       "588   2011-11-30     21915      2413"
      ]
     },
     "execution_count": 87,
     "metadata": {},
     "output_type": "execute_result"
    }
   ],
   "source": [
    "# Rank items by the last month's sales\n",
    "last_month_sorted_df = date_item_df.loc['2011-11-30']\n",
    "last_month_sorted_df = last_month_sorted_df.reset_index()\n",
    "last_month_sorted_df.sort_values(by='Quantity', ascending=False).head(10)"
   ]
  },
  {
   "cell_type": "code",
   "execution_count": 88,
   "metadata": {
    "colab": {
     "base_uri": "https://localhost:8080/",
     "height": 1000
    },
    "colab_type": "code",
    "executionInfo": {
     "elapsed": 444,
     "status": "ok",
     "timestamp": 1574028386565,
     "user": {
      "displayName": "Rajeev Ratan",
      "photoUrl": "https://lh3.googleusercontent.com/a-/AAuE7mCGo6aIm0tOcd5EhqWlYb0rime9sBvHS9YMpx0D2w=s64",
      "userId": "08597265227091462140"
     },
     "user_tz": 0
    },
    "id": "1BWEFPmQjPv2",
    "outputId": "715a3610-7254-4a48-abd7-a172cc4b1645"
   },
   "outputs": [
    {
     "data": {
      "text/plain": [
       "InvoiceDate  StockCode\n",
       "2010-12-31   22086         1482\n",
       "             22197         1327\n",
       "             84826           62\n",
       "             85099B         727\n",
       "2011-01-31   22086           18\n",
       "             22197         1145\n",
       "             84826          300\n",
       "             85099B        1965\n",
       "2011-02-28   22086            5\n",
       "             22197          947\n",
       "             84826           66\n",
       "             85099B        1277\n",
       "2011-03-31   22086           47\n",
       "             22197         1658\n",
       "             85099B        2150\n",
       "2011-04-30   22086          -28\n",
       "             22197         1204\n",
       "             84826            1\n",
       "             85099B        1515\n",
       "2011-05-31   22086           17\n",
       "             22197         1628\n",
       "             23084          432\n",
       "             85099B        1977\n",
       "2011-06-30   22086          325\n",
       "             22197         1359\n",
       "             23084          880\n",
       "             85099B        1653\n",
       "2011-07-31   22086          221\n",
       "             22197          802\n",
       "             23084           61\n",
       "             84826            2\n",
       "             85099B        1446\n",
       "2011-08-31   22086          243\n",
       "             22197         1277\n",
       "             23084          607\n",
       "             84826           60\n",
       "             85099B        3150\n",
       "2011-09-30   22086          897\n",
       "             22197         1570\n",
       "             23084         -327\n",
       "             85099B        2263\n",
       "2011-10-31   22086          972\n",
       "             22197         4434\n",
       "             23084         2043\n",
       "             84826            1\n",
       "             85099B        1167\n",
       "2011-11-30   22086         5147\n",
       "             22197         5139\n",
       "             23084         5942\n",
       "             84826        12541\n",
       "             85099B        3675\n",
       "2011-12-31   22086         1016\n",
       "             22197         3634\n",
       "             23084         3228\n",
       "             85099B         601\n",
       "Name: Quantity, dtype: int64"
      ]
     },
     "execution_count": 88,
     "metadata": {},
     "output_type": "execute_result"
    }
   ],
   "source": [
    "# Let's look at the top 5 items sale per month \n",
    "\n",
    "date_item_df = df.loc[df['StockCode'].isin(['23084', '84826', '22197', '22086', '85099B'])].set_index('InvoiceDate').groupby([\n",
    "    pd.Grouper(freq='M'), 'StockCode'])['Quantity'].sum()\n",
    "\n",
    "date_item_df"
   ]
  },
  {
   "cell_type": "code",
   "execution_count": 89,
   "metadata": {
    "colab": {
     "base_uri": "https://localhost:8080/",
     "height": 478
    },
    "colab_type": "code",
    "executionInfo": {
     "elapsed": 503,
     "status": "ok",
     "timestamp": 1574028434208,
     "user": {
      "displayName": "Rajeev Ratan",
      "photoUrl": "https://lh3.googleusercontent.com/a-/AAuE7mCGo6aIm0tOcd5EhqWlYb0rime9sBvHS9YMpx0D2w=s64",
      "userId": "08597265227091462140"
     },
     "user_tz": 0
    },
    "id": "8yZ9rRjCjPv4",
    "outputId": "790e2f2a-48f2-4b3f-acb6-0e95f3ff5176"
   },
   "outputs": [
    {
     "data": {
      "text/html": [
       "<div>\n",
       "<style scoped>\n",
       "    .dataframe tbody tr th:only-of-type {\n",
       "        vertical-align: middle;\n",
       "    }\n",
       "\n",
       "    .dataframe tbody tr th {\n",
       "        vertical-align: top;\n",
       "    }\n",
       "\n",
       "    .dataframe thead th {\n",
       "        text-align: right;\n",
       "    }\n",
       "</style>\n",
       "<table border=\"1\" class=\"dataframe\">\n",
       "  <thead>\n",
       "    <tr style=\"text-align: right;\">\n",
       "      <th>StockCode</th>\n",
       "      <th>22086</th>\n",
       "      <th>22197</th>\n",
       "      <th>23084</th>\n",
       "      <th>84826</th>\n",
       "      <th>85099B</th>\n",
       "    </tr>\n",
       "    <tr>\n",
       "      <th>InvoiceDate</th>\n",
       "      <th></th>\n",
       "      <th></th>\n",
       "      <th></th>\n",
       "      <th></th>\n",
       "      <th></th>\n",
       "    </tr>\n",
       "  </thead>\n",
       "  <tbody>\n",
       "    <tr>\n",
       "      <th>2010-12-31</th>\n",
       "      <td>1482.0</td>\n",
       "      <td>1327.0</td>\n",
       "      <td>0.0</td>\n",
       "      <td>62.0</td>\n",
       "      <td>727.0</td>\n",
       "    </tr>\n",
       "    <tr>\n",
       "      <th>2011-01-31</th>\n",
       "      <td>18.0</td>\n",
       "      <td>1145.0</td>\n",
       "      <td>0.0</td>\n",
       "      <td>300.0</td>\n",
       "      <td>1965.0</td>\n",
       "    </tr>\n",
       "    <tr>\n",
       "      <th>2011-02-28</th>\n",
       "      <td>5.0</td>\n",
       "      <td>947.0</td>\n",
       "      <td>0.0</td>\n",
       "      <td>66.0</td>\n",
       "      <td>1277.0</td>\n",
       "    </tr>\n",
       "    <tr>\n",
       "      <th>2011-03-31</th>\n",
       "      <td>47.0</td>\n",
       "      <td>1658.0</td>\n",
       "      <td>0.0</td>\n",
       "      <td>0.0</td>\n",
       "      <td>2150.0</td>\n",
       "    </tr>\n",
       "    <tr>\n",
       "      <th>2011-04-30</th>\n",
       "      <td>-28.0</td>\n",
       "      <td>1204.0</td>\n",
       "      <td>0.0</td>\n",
       "      <td>1.0</td>\n",
       "      <td>1515.0</td>\n",
       "    </tr>\n",
       "    <tr>\n",
       "      <th>2011-05-31</th>\n",
       "      <td>17.0</td>\n",
       "      <td>1628.0</td>\n",
       "      <td>432.0</td>\n",
       "      <td>0.0</td>\n",
       "      <td>1977.0</td>\n",
       "    </tr>\n",
       "    <tr>\n",
       "      <th>2011-06-30</th>\n",
       "      <td>325.0</td>\n",
       "      <td>1359.0</td>\n",
       "      <td>880.0</td>\n",
       "      <td>0.0</td>\n",
       "      <td>1653.0</td>\n",
       "    </tr>\n",
       "    <tr>\n",
       "      <th>2011-07-31</th>\n",
       "      <td>221.0</td>\n",
       "      <td>802.0</td>\n",
       "      <td>61.0</td>\n",
       "      <td>2.0</td>\n",
       "      <td>1446.0</td>\n",
       "    </tr>\n",
       "    <tr>\n",
       "      <th>2011-08-31</th>\n",
       "      <td>243.0</td>\n",
       "      <td>1277.0</td>\n",
       "      <td>607.0</td>\n",
       "      <td>60.0</td>\n",
       "      <td>3150.0</td>\n",
       "    </tr>\n",
       "    <tr>\n",
       "      <th>2011-09-30</th>\n",
       "      <td>897.0</td>\n",
       "      <td>1570.0</td>\n",
       "      <td>-327.0</td>\n",
       "      <td>0.0</td>\n",
       "      <td>2263.0</td>\n",
       "    </tr>\n",
       "    <tr>\n",
       "      <th>2011-10-31</th>\n",
       "      <td>972.0</td>\n",
       "      <td>4434.0</td>\n",
       "      <td>2043.0</td>\n",
       "      <td>1.0</td>\n",
       "      <td>1167.0</td>\n",
       "    </tr>\n",
       "    <tr>\n",
       "      <th>2011-11-30</th>\n",
       "      <td>5147.0</td>\n",
       "      <td>5139.0</td>\n",
       "      <td>5942.0</td>\n",
       "      <td>12541.0</td>\n",
       "      <td>3675.0</td>\n",
       "    </tr>\n",
       "    <tr>\n",
       "      <th>2011-12-31</th>\n",
       "      <td>1016.0</td>\n",
       "      <td>3634.0</td>\n",
       "      <td>3228.0</td>\n",
       "      <td>0.0</td>\n",
       "      <td>601.0</td>\n",
       "    </tr>\n",
       "  </tbody>\n",
       "</table>\n",
       "</div>"
      ],
      "text/plain": [
       "StockCode     22086   22197   23084    84826  85099B\n",
       "InvoiceDate                                         \n",
       "2010-12-31   1482.0  1327.0     0.0     62.0   727.0\n",
       "2011-01-31     18.0  1145.0     0.0    300.0  1965.0\n",
       "2011-02-28      5.0   947.0     0.0     66.0  1277.0\n",
       "2011-03-31     47.0  1658.0     0.0      0.0  2150.0\n",
       "2011-04-30    -28.0  1204.0     0.0      1.0  1515.0\n",
       "2011-05-31     17.0  1628.0   432.0      0.0  1977.0\n",
       "2011-06-30    325.0  1359.0   880.0      0.0  1653.0\n",
       "2011-07-31    221.0   802.0    61.0      2.0  1446.0\n",
       "2011-08-31    243.0  1277.0   607.0     60.0  3150.0\n",
       "2011-09-30    897.0  1570.0  -327.0      0.0  2263.0\n",
       "2011-10-31    972.0  4434.0  2043.0      1.0  1167.0\n",
       "2011-11-30   5147.0  5139.0  5942.0  12541.0  3675.0\n",
       "2011-12-31   1016.0  3634.0  3228.0      0.0   601.0"
      ]
     },
     "execution_count": 89,
     "metadata": {},
     "output_type": "execute_result"
    }
   ],
   "source": [
    "# Now let's generate a monthly trend of each of the top 5 items\n",
    "trending_itmes_df = date_item_df.reset_index().pivot('InvoiceDate','StockCode').fillna(0)\n",
    "\n",
    "trending_itmes_df = trending_itmes_df.reset_index()\n",
    "trending_itmes_df = trending_itmes_df.set_index('InvoiceDate')\n",
    "trending_itmes_df.columns = trending_itmes_df.columns.droplevel(0)\n",
    "trending_itmes_df"
   ]
  },
  {
   "cell_type": "code",
   "execution_count": 90,
   "metadata": {
    "colab": {
     "base_uri": "https://localhost:8080/",
     "height": 547
    },
    "colab_type": "code",
    "executionInfo": {
     "elapsed": 987,
     "status": "ok",
     "timestamp": 1574028471825,
     "user": {
      "displayName": "Rajeev Ratan",
      "photoUrl": "https://lh3.googleusercontent.com/a-/AAuE7mCGo6aIm0tOcd5EhqWlYb0rime9sBvHS9YMpx0D2w=s64",
      "userId": "08597265227091462140"
     },
     "user_tz": 0
    },
    "id": "2ZrbPoIIjPv7",
    "outputId": "e593d3c9-ec1f-4909-ca56-44447102ea18"
   },
   "outputs": [
    {
     "data": {
      "image/png": "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\n",
      "text/plain": [
       "<Figure size 864x576 with 1 Axes>"
      ]
     },
     "metadata": {},
     "output_type": "display_data"
    }
   ],
   "source": [
    "# Plot the above information\n",
    "ax = pd.DataFrame(trending_itmes_df.values).plot(figsize=(12,8), grid=True,)\n",
    "\n",
    "ax.set_ylabel('number of purchases')\n",
    "ax.set_xlabel('date')\n",
    "ax.set_title('Item Trends over Time')\n",
    "\n",
    "ax.legend(trending_itmes_df.columns, loc='upper left')\n",
    "\n",
    "plt.xticks(range(len(trending_itmes_df.index)), [x.strftime('%m.%Y') for x in trending_itmes_df.index], rotation=45)\n",
    "\n",
    "plt.show()"
   ]
  },
  {
   "cell_type": "code",
   "execution_count": 0,
   "metadata": {
    "colab": {},
    "colab_type": "code",
    "id": "UZVc4hdZaGj6"
   },
   "outputs": [],
   "source": []
  }
 ],
 "metadata": {
  "colab": {
   "collapsed_sections": [],
   "name": "20.0 Case Study 10 - Product and Retail Analytics -  Exploratory Data Analysis.ipynb",
   "provenance": [
    {
     "file_id": "1-V_Lvys2tAuBUy631KC3VdJnCe9VPOnZ",
     "timestamp": 1573158478705
    }
   ],
   "toc_visible": true
  },
  "kernelspec": {
   "display_name": "Python 3",
   "language": "python",
   "name": "python3"
  },
  "language_info": {
   "codemirror_mode": {
    "name": "ipython",
    "version": 3
   },
   "file_extension": ".py",
   "mimetype": "text/x-python",
   "name": "python",
   "nbconvert_exporter": "python",
   "pygments_lexer": "ipython3",
   "version": "3.8.5"
  }
 },
 "nbformat": 4,
 "nbformat_minor": 1
}
